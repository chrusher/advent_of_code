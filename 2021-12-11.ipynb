{
 "cells": [
  {
   "cell_type": "code",
   "execution_count": 2,
   "metadata": {},
   "outputs": [],
   "source": [
    "import numpy as np"
   ]
  },
  {
   "cell_type": "code",
   "execution_count": 51,
   "metadata": {},
   "outputs": [],
   "source": [
    "#example\n",
    "raw = \"\"\"5483143223\n",
    "2745854711\n",
    "5264556173\n",
    "6141336146\n",
    "6357385478\n",
    "4167524645\n",
    "2176841721\n",
    "6882881134\n",
    "4846848554\n",
    "5283751526\"\"\""
   ]
  },
  {
   "cell_type": "code",
   "execution_count": 58,
   "metadata": {},
   "outputs": [],
   "source": [
    "# real input\n",
    "raw = \"\"\"7612648217\n",
    "7617237672\n",
    "2853871836\n",
    "7214367135\n",
    "1533365614\n",
    "6258172862\n",
    "5377675583\n",
    "5613268278\n",
    "8381134465\n",
    "3445428733\"\"\""
   ]
  },
  {
   "cell_type": "code",
   "execution_count": 47,
   "metadata": {},
   "outputs": [],
   "source": [
    "#small example\n",
    "raw = \"\"\"11111\n",
    "19991\n",
    "19191\n",
    "19991\n",
    "11111\"\"\""
   ]
  },
  {
   "cell_type": "code",
   "execution_count": 62,
   "metadata": {
    "scrolled": false
   },
   "outputs": [
    {
     "name": "stdout",
     "output_type": "stream",
     "text": [
      "[[7 6 1 2 6 4 8 2 1 7]\n",
      " [7 6 1 7 2 3 7 6 7 2]\n",
      " [2 8 5 3 8 7 1 8 3 6]\n",
      " [7 2 1 4 3 6 7 1 3 5]\n",
      " [1 5 3 3 3 6 5 6 1 4]\n",
      " [6 2 5 8 1 7 2 8 6 2]\n",
      " [5 3 7 7 6 7 5 5 8 3]\n",
      " [5 6 1 3 2 6 8 2 7 8]\n",
      " [8 3 8 1 1 3 4 4 6 5]\n",
      " [3 4 4 5 4 2 8 7 3 3]]\n",
      "1739\n",
      "324\n"
     ]
    }
   ],
   "source": [
    "grid = np.array([list(line) for line in raw.split()], dtype=np.int_)\n",
    "\n",
    "print(grid)\n",
    "\n",
    "flash_count = 0\n",
    "for t in range(400):\n",
    "    \n",
    "    grid += 1\n",
    "\n",
    "    flashed = np.zeros(grid.shape, dtype=np.bool_)    \n",
    "    \n",
    "    while ((grid > 9) & ~flashed).any():\n",
    "        new_flashed = (grid > 9) & ~flashed\n",
    "        flashed[grid > 9] = True\n",
    "        grid[flashed] = 0\n",
    "        \n",
    "        for i in range(grid.shape[0]):\n",
    "            for j in range(grid.shape[1]):\n",
    "                if new_flashed[i,j]:\n",
    "                    grid[max(i - 1, 0):i + 2,max(j - 1, 0):j + 2] += 1        \n",
    "            \n",
    "            \n",
    "    grid[flashed] = 0\n",
    "    if len(grid[flashed]) == len(grid.flat):\n",
    "        print(t + 1)\n",
    "        break\n",
    "    flash_count += len(grid[flashed])\n",
    "    if t + 1 == 100:\n",
    "        print(flash_count)\n"
   ]
  },
  {
   "cell_type": "code",
   "execution_count": null,
   "metadata": {},
   "outputs": [],
   "source": []
  }
 ],
 "metadata": {
  "kernelspec": {
   "display_name": "Python 3",
   "language": "python",
   "name": "python3"
  },
  "language_info": {
   "codemirror_mode": {
    "name": "ipython",
    "version": 3
   },
   "file_extension": ".py",
   "mimetype": "text/x-python",
   "name": "python",
   "nbconvert_exporter": "python",
   "pygments_lexer": "ipython3",
   "version": "3.8.3"
  }
 },
 "nbformat": 4,
 "nbformat_minor": 4
}
