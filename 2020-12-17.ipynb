{
 "cells": [
  {
   "cell_type": "code",
   "execution_count": 2,
   "metadata": {},
   "outputs": [],
   "source": [
    "import datetime\n",
    "\n",
    "import numpy as np\n",
    "import matplotlib.pyplot as plt\n",
    "from scipy import signal"
   ]
  },
  {
   "cell_type": "code",
   "execution_count": 4,
   "metadata": {},
   "outputs": [
    {
     "name": "stdout",
     "output_type": "stream",
     "text": [
      "8 20\n"
     ]
    }
   ],
   "source": [
    "example_layout = \"\"\".#.\n",
    "..#\n",
    "###\"\"\"\n",
    "\n",
    "real_layout = \"\"\"#.##....\n",
    ".#.#.##.\n",
    "###.....\n",
    "....##.#\n",
    "#....###\n",
    ".#.#.#..\n",
    ".##...##\n",
    "#..#.###\"\"\"\n",
    "\n",
    "lines = real_layout.split()\n",
    "starting_size = len(lines[0])\n",
    "\n",
    "starting_slice = []\n",
    "for line in lines:\n",
    "    starting_slice.append([cube == '#' for cube in line])\n",
    "    \n",
    "starting_slice = np.array(starting_slice)\n",
    "# print(starting_slice)\n",
    "\n",
    "size = 2 * 6 + starting_size\n",
    "\n",
    "print(starting_size, size)"
   ]
  },
  {
   "cell_type": "code",
   "execution_count": 5,
   "metadata": {},
   "outputs": [
    {
     "name": "stdout",
     "output_type": "stream",
     "text": [
      "10 6 15\n",
      "1 64.0\n",
      "2 60.0\n",
      "3 127.0\n",
      "4 110.0\n",
      "5 199.0\n",
      "6 230.0\n",
      "0:00:00.278661\n"
     ]
    }
   ],
   "source": [
    "cube = np.zeros((size, size, size))\n",
    "\n",
    "middle = size // 2\n",
    "half = (starting_size) // 2\n",
    "lower = middle - half\n",
    "upper = middle + half\n",
    "\n",
    "print(middle, middle - half, middle + half + 1)\n",
    "cube[middle,lower:upper,lower:upper] = starting_slice\n",
    "\n",
    "def print_layout(layer):\n",
    "    mapping = {0:'.', 1:'#'}\n",
    "    output = ''\n",
    "    for i in range(layer.shape[0]):\n",
    "        for j in range(layer.shape[1]):\n",
    "            output += mapping[layer[i][j]]\n",
    "        output += '\\n'\n",
    "    \n",
    "    return output\n",
    "\n",
    "start = datetime.datetime.now()\n",
    "for cycle in range(6):\n",
    "    new_cube = cube.copy()\n",
    "    for i in range(size):\n",
    "        for j in range(size):\n",
    "            for k in range(size):\n",
    "                entry = cube[i,j,k]\n",
    "                adjacent = cube[i - 1:i + 2,j - 1:j + 2,k - 1:k + 2]\n",
    "                around = adjacent.sum() - entry\n",
    "                if entry and around not in [2, 3]:\n",
    "                    new_cube[i,j,k] = 0\n",
    "                elif not entry and around == 3:\n",
    "                    new_cube[i,j,k] = 1\n",
    "                    \n",
    "    cube = new_cube\n",
    "    print(cycle + 1, new_cube.sum())\n",
    "stop = datetime.datetime.now()\n",
    "print(stop - start)"
   ]
  },
  {
   "cell_type": "code",
   "execution_count": 6,
   "metadata": {
    "scrolled": false
   },
   "outputs": [
    {
     "name": "stdout",
     "output_type": "stream",
     "text": [
      "1 64.0\n",
      "2 60.0\n",
      "3 127.0\n",
      "4 110.0\n",
      "5 199.0\n",
      "6 230.0\n",
      "0:00:00.043060\n"
     ]
    }
   ],
   "source": [
    "cube = np.zeros((size, size, size))\n",
    "cube[middle,lower:upper,lower:upper] = starting_slice\n",
    "\n",
    "start = datetime.datetime.now()\n",
    "kernel = np.ones((3, 3, 3))\n",
    "kernel[1, 1, 1] = 0\n",
    "for cycle in range(6):\n",
    "    counts = signal.convolve(cube, kernel, method='direct', mode='same')\n",
    "    \n",
    "#     plt.figure()\n",
    "#     plt.imshow(cube[7])\n",
    "    \n",
    "#     plt.figure()\n",
    "#     plt.imshow(counts[6])\n",
    "#     plt.figure()\n",
    "#     plt.imshow(counts[7])\n",
    "#     plt.figure()\n",
    "#     plt.imshow(counts[8])\n",
    "    \n",
    "#     print(counts[7])\n",
    "\n",
    "    \n",
    "    new_cube = cube.copy()    \n",
    "    new_cube[(cube == 1) & ((counts != 2) & (counts != 3))] = 0\n",
    "    new_cube[(cube == 0) & (counts == 3)] = 1\n",
    "    cube = new_cube\n",
    "    print(cycle + 1, new_cube.sum())\n",
    "stop = datetime.datetime.now()\n",
    "print(stop - start)"
   ]
  },
  {
   "cell_type": "code",
   "execution_count": 7,
   "metadata": {},
   "outputs": [
    {
     "name": "stdout",
     "output_type": "stream",
     "text": [
      "1 172.0\n",
      "2 152.0\n",
      "3 1044.0\n",
      "4 488.0\n",
      "5 2000.0\n",
      "6 1600.0\n",
      "0:00:04.981852\n"
     ]
    }
   ],
   "source": [
    "cube = np.zeros((size, size, size, size))\n",
    "cube[middle,middle,lower:upper,lower:upper] = starting_slice\n",
    "\n",
    "# print(cube[7])\n",
    "\n",
    "def print_layout(layer):\n",
    "    mapping = {0:'.', 1:'#'}\n",
    "    output = ''\n",
    "    for i in range(layer.shape[0]):\n",
    "        for j in range(layer.shape[1]):\n",
    "            output += mapping[layer[i][j]]\n",
    "        output += '\\n'\n",
    "    \n",
    "    return output\n",
    "\n",
    "# do it directly\n",
    "start = datetime.datetime.now()\n",
    "for cycle in range(6):\n",
    "    new_cube = cube.copy()\n",
    "    for i in range(size):\n",
    "        for j in range(size):\n",
    "            for k in range(size):\n",
    "                for l in range(size):\n",
    "                    entry = cube[i,j,k,l]\n",
    "                    adjacent = cube[i - 1:i + 2,j - 1:j + 2,k - 1:k + 2,l - 1:l + 2]\n",
    "                    around = adjacent.sum() - entry\n",
    "                    if entry and around not in [2, 3]:\n",
    "                        new_cube[i,j,k,l] = 0\n",
    "                    elif not entry and around == 3:\n",
    "                        new_cube[i,j,k,l] = 1\n",
    "                    \n",
    "    cube = new_cube\n",
    "    print(cycle + 1, new_cube.sum())\n",
    "stop = datetime.datetime.now()\n",
    "print(stop - start)"
   ]
  },
  {
   "cell_type": "code",
   "execution_count": 8,
   "metadata": {},
   "outputs": [
    {
     "name": "stdout",
     "output_type": "stream",
     "text": [
      "1 172.0\n",
      "2 152.0\n",
      "3 1044.0\n",
      "4 488.0\n",
      "5 2000.0\n",
      "6 1600.0\n",
      "0:00:01.628966\n"
     ]
    }
   ],
   "source": [
    "# do it with a convolution\n",
    "cube = np.zeros((size, size, size, size))\n",
    "cube[middle,middle,lower:upper,lower:upper] = starting_slice\n",
    "\n",
    "start = datetime.datetime.now()\n",
    "kernel = np.ones((3, 3, 3, 3))\n",
    "kernel[1, 1, 1, 1] = 0\n",
    "for cycle in range(6):\n",
    "    counts = signal.convolve(cube, kernel, method='direct', mode='same')    \n",
    "    new_cube = cube.copy()    \n",
    "    new_cube[(cube == 1) & ((counts != 2) & (counts != 3))] = 0\n",
    "    new_cube[(cube == 0) & (counts == 3)] = 1\n",
    "    cube = new_cube\n",
    "    print(cycle + 1, new_cube.sum())\n",
    "stop = datetime.datetime.now()\n",
    "print(stop - start)"
   ]
  },
  {
   "cell_type": "code",
   "execution_count": null,
   "metadata": {},
   "outputs": [],
   "source": []
  }
 ],
 "metadata": {
  "kernelspec": {
   "display_name": "Python 3",
   "language": "python",
   "name": "python3"
  },
  "language_info": {
   "codemirror_mode": {
    "name": "ipython",
    "version": 3
   },
   "file_extension": ".py",
   "mimetype": "text/x-python",
   "name": "python",
   "nbconvert_exporter": "python",
   "pygments_lexer": "ipython3",
   "version": "3.8.3"
  }
 },
 "nbformat": 4,
 "nbformat_minor": 4
}
