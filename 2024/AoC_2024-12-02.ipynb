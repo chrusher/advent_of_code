{
 "cells": [
  {
   "cell_type": "code",
   "execution_count": 46,
   "id": "1b6ea8b7",
   "metadata": {},
   "outputs": [],
   "source": [
    "test_data = \"\"\"7 6 4 2 1\n",
    "1 2 7 8 9\n",
    "9 7 6 2 1\n",
    "1 3 2 4 5\n",
    "8 6 4 4 1\n",
    "1 3 6 7 9\"\"\"\n",
    "lines = test_data.split('\\n')"
   ]
  },
  {
   "cell_type": "code",
   "execution_count": 57,
   "id": "d911665a",
   "metadata": {},
   "outputs": [],
   "source": [
    "with open('2024-12-02_input') as f:\n",
    "    lines = f.readlines()"
   ]
  },
  {
   "cell_type": "code",
   "execution_count": 44,
   "id": "8ba2e5a8",
   "metadata": {},
   "outputs": [
    {
     "data": {
      "text/plain": [
       "1000"
      ]
     },
     "execution_count": 44,
     "metadata": {},
     "output_type": "execute_result"
    }
   ],
   "source": [
    "len(lines)"
   ]
  },
  {
   "cell_type": "code",
   "execution_count": 58,
   "id": "4ec634ef",
   "metadata": {
    "scrolled": false
   },
   "outputs": [
    {
     "name": "stdout",
     "output_type": "stream",
     "text": [
      "Part 1 379\n",
      "Part 2 430\n"
     ]
    }
   ],
   "source": [
    "reports = []\n",
    "initally_safe = 0\n",
    "corrected = 0\n",
    "for line in lines:\n",
    "    report = [int(level) for level in line.split()]\n",
    "    reports.append(report)\n",
    "#     print(report)\n",
    "\n",
    "    diffs = [report[i] - report[i - 1] for i in range(1, len(report))]\n",
    "    \n",
    "    if diffs[0] > 0:\n",
    "        if max(diffs) > 3 or min(diffs) < 1:\n",
    "            safe = False\n",
    "        else:\n",
    "            safe = True\n",
    "    elif diffs[0] < 0:\n",
    "        if min(diffs) < -3 or max(diffs) > -1:\n",
    "            safe = False\n",
    "        else:\n",
    "            safe = True\n",
    "    else:\n",
    "        safe = False\n",
    "                        \n",
    "    if safe:\n",
    "        initally_safe += 1\n",
    "        \n",
    "    else:\n",
    "        for i in range(len(report)):\n",
    "            new_report = report[:i] + report[i + 1:]\n",
    "            diffs = [new_report[i] - new_report[i - 1] for i in range(1, len(new_report))]\n",
    "            \n",
    "            if diffs[0] > 0:\n",
    "                if max(diffs) > 3 or min(diffs) < 1:\n",
    "                    safe = False\n",
    "                else:\n",
    "                    safe = True\n",
    "            elif diffs[0] < 0:\n",
    "                if min(diffs) < -3 or max(diffs) > -1:\n",
    "                    safe = False\n",
    "                else:\n",
    "                    safe = True\n",
    "            else:\n",
    "                safe = False\n",
    "                \n",
    "            if safe:\n",
    "                corrected += 1\n",
    "                break\n",
    "        \n",
    "        \n",
    "    \n",
    "print('Part 1', initally_safe)\n",
    "print('Part 2', initally_safe + corrected)"
   ]
  },
  {
   "cell_type": "code",
   "execution_count": 49,
   "id": "e269c6b7",
   "metadata": {},
   "outputs": [
    {
     "data": {
      "text/plain": [
       "[1, 3, 6, 7, 9]"
      ]
     },
     "execution_count": 49,
     "metadata": {},
     "output_type": "execute_result"
    }
   ],
   "source": [
    "report"
   ]
  },
  {
   "cell_type": "code",
   "execution_count": 51,
   "id": "145828b3",
   "metadata": {},
   "outputs": [
    {
     "name": "stdout",
     "output_type": "stream",
     "text": [
      "[3, 6, 7, 9]\n",
      "[1, 6, 7, 9]\n",
      "[1, 3, 7, 9]\n",
      "[1, 3, 6, 9]\n",
      "[1, 3, 6, 7]\n"
     ]
    }
   ],
   "source": [
    "for i in range(len(report)):\n",
    "    print(report[:i] + report[i + 1:])"
   ]
  },
  {
   "cell_type": "code",
   "execution_count": null,
   "id": "e0f50f69",
   "metadata": {},
   "outputs": [],
   "source": []
  }
 ],
 "metadata": {
  "kernelspec": {
   "display_name": "Python 3 (ipykernel)",
   "language": "python",
   "name": "python3"
  },
  "language_info": {
   "codemirror_mode": {
    "name": "ipython",
    "version": 3
   },
   "file_extension": ".py",
   "mimetype": "text/x-python",
   "name": "python",
   "nbconvert_exporter": "python",
   "pygments_lexer": "ipython3",
   "version": "3.10.9"
  }
 },
 "nbformat": 4,
 "nbformat_minor": 5
}
