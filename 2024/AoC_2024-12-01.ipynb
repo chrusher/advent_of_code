{
 "cells": [
  {
   "cell_type": "code",
   "execution_count": 21,
   "id": "1225b13b",
   "metadata": {},
   "outputs": [],
   "source": [
    "test_data = \"\"\"3   4\n",
    "4   3\n",
    "2   5\n",
    "1   3\n",
    "3   9\n",
    "3   3\"\"\"\n",
    "test_data = test_data.split('\\n')\n",
    "lines = test_data"
   ]
  },
  {
   "cell_type": "code",
   "execution_count": 26,
   "id": "8421287f",
   "metadata": {},
   "outputs": [],
   "source": [
    "with open('2024-12-01_input') as f:\n",
    "    lines = f.readlines()\n",
    "lines = [line.strip() for line in lines]"
   ]
  },
  {
   "cell_type": "code",
   "execution_count": 20,
   "id": "6b2ee8b2",
   "metadata": {},
   "outputs": [
    {
     "name": "stdout",
     "output_type": "stream",
     "text": [
      "1873376\n"
     ]
    }
   ],
   "source": [
    "# part 1\n",
    "lefts = []\n",
    "rights = []\n",
    "for line in lines:\n",
    "    left, right = line.split()\n",
    "    lefts.append(int(left))\n",
    "    rights.append(int(right))\n",
    "    \n",
    "lefts.sort()\n",
    "rights.sort()\n",
    "\n",
    "total = 0\n",
    "for left, right in zip(lefts, rights):\n",
    "    total += abs(left - right)\n",
    "print(total)"
   ]
  },
  {
   "cell_type": "code",
   "execution_count": 27,
   "id": "8585ce32",
   "metadata": {},
   "outputs": [
    {
     "name": "stdout",
     "output_type": "stream",
     "text": [
      "18997088\n"
     ]
    }
   ],
   "source": [
    "# part 2\n",
    "lefts = []\n",
    "rights = []\n",
    "for line in lines:\n",
    "    left, right = line.split()\n",
    "    lefts.append(int(left))\n",
    "    rights.append(int(right))\n",
    "    \n",
    "total = 0\n",
    "for left in lefts:\n",
    "    total += left * rights.count(left)\n",
    "print(total)"
   ]
  },
  {
   "cell_type": "code",
   "execution_count": null,
   "id": "f8cafb27",
   "metadata": {},
   "outputs": [],
   "source": []
  }
 ],
 "metadata": {
  "kernelspec": {
   "display_name": "Python 3 (ipykernel)",
   "language": "python",
   "name": "python3"
  },
  "language_info": {
   "codemirror_mode": {
    "name": "ipython",
    "version": 3
   },
   "file_extension": ".py",
   "mimetype": "text/x-python",
   "name": "python",
   "nbconvert_exporter": "python",
   "pygments_lexer": "ipython3",
   "version": "3.10.9"
  }
 },
 "nbformat": 4,
 "nbformat_minor": 5
}
