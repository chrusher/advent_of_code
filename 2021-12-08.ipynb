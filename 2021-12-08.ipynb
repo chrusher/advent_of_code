{
 "cells": [
  {
   "cell_type": "code",
   "execution_count": 15,
   "metadata": {},
   "outputs": [],
   "source": [
    "raw = \"acedgfb cdfbe gcdfa fbcad dab cefabd cdfgeb eafb cagedb ab | cdfeb fcadb cdfeb cdbaf\""
   ]
  },
  {
   "cell_type": "code",
   "execution_count": 63,
   "metadata": {},
   "outputs": [],
   "source": [
    "raw = \"\"\"be cfbegad cbdgef fgaecd cgeb fdcge agebfd fecdb fabcd edb |\n",
    "fdgacbe cefdb cefbgd gcbe\n",
    "edbfga begcd cbg gc gcadebf fbgde acbgfd abcde gfcbed gfec |\n",
    "fcgedb cgb dgebacf gc\n",
    "fgaebd cg bdaec gdafb agbcfd gdcbef bgcad gfac gcb cdgabef |\n",
    "cg cg fdcagb cbg\n",
    "fbegcd cbd adcefb dageb afcb bc aefdc ecdab fgdeca fcdbega |\n",
    "efabcd cedba gadfec cb\n",
    "aecbfdg fbg gf bafeg dbefa fcge gcbea fcaegb dgceab fcbdga |\n",
    "gecf egdcabf bgf bfgea\n",
    "fgeab ca afcebg bdacfeg cfaedg gcfdb baec bfadeg bafgc acf |\n",
    "gebdcfa ecba ca fadegcb\n",
    "dbcfg fgd bdegcaf fgec aegbdf ecdfab fbedc dacgb gdcebf gf |\n",
    "cefg dcbef fcge gbcadfe\n",
    "bdfegc cbegaf gecbf dfcage bdacg ed bedf ced adcbefg gebcd |\n",
    "ed bcgafe cdgba cbgef\n",
    "egadfb cdbfeg cegd fecab cgb gbdefca cg fgcdab egfdb bfceg |\n",
    "gbdfcae bgc cg cgb\n",
    "gcafb gcf dcaebfg ecagb gf abcdeg gaef cafbge fdbac fegbdc |\n",
    "fgae cfgab fg bagce\"\"\"\n",
    "\n",
    "raw = raw.replace('|\\n', '| ')"
   ]
  },
  {
   "cell_type": "code",
   "execution_count": 67,
   "metadata": {},
   "outputs": [],
   "source": [
    "with open('2021-12-08_input') as f:\n",
    "    raw = f.read()"
   ]
  },
  {
   "cell_type": "code",
   "execution_count": 51,
   "metadata": {},
   "outputs": [
    {
     "name": "stdout",
     "output_type": "stream",
     "text": [
      "{'abcefg': 0, 'cf': 1, 'acdeg': 2, 'acdfg': 3, 'bcdf': 4, 'abdfg': 5, 'abdefg': 6, 'acf': 7, 'abcdefg': 8, 'abcdfg': 9}\n",
      "{6: [0, 6, 9], 2: [1], 5: [2, 3, 5], 4: [4], 3: [7], 7: [8]}\n"
     ]
    }
   ],
   "source": [
    "segments = {0:'abcefg',\n",
    "            1:'cf', #only two\n",
    "            2:'acdeg',\n",
    "            3:'acdfg',\n",
    "            4:'bcdf', #only four\n",
    "            5:'abdfg',\n",
    "            6:'abdefg',\n",
    "            7:'acf', #only three\n",
    "            8:'abcdefg', # only eight\n",
    "            9:'abcdfg'}\n",
    "\n",
    "inverse_segments = {segments[segment]:segment for segment in segments}\n",
    "\n",
    "print(inverse_segments)\n",
    "\n",
    "counts = {}\n",
    "for segment in segments:\n",
    "    if len(segments[segment]) in counts:\n",
    "        counts[len(segments[segment])].append(segment)\n",
    "    else:\n",
    "        counts[len(segments[segment])] = [segment]\n",
    "        \n",
    "print(counts)\n"
   ]
  },
  {
   "cell_type": "code",
   "execution_count": 12,
   "metadata": {},
   "outputs": [
    {
     "name": "stdout",
     "output_type": "stream",
     "text": [
      "519\n"
     ]
    }
   ],
   "source": [
    "#part one\n",
    "count = 0\n",
    "for line in raw.split('\\n'):\n",
    "    digits = line.split('|')[-1].split()\n",
    "#     print(digits)\n",
    "    \n",
    "    for digit in digits:\n",
    "        if len(digit) in [2, 3, 4, 7]:\n",
    "            count += 1\n",
    "            \n",
    "print(count)"
   ]
  },
  {
   "cell_type": "code",
   "execution_count": 70,
   "metadata": {},
   "outputs": [
    {
     "name": "stdout",
     "output_type": "stream",
     "text": [
      "1027483\n"
     ]
    }
   ],
   "source": [
    "#part two\n",
    "\n",
    "total = 0\n",
    "for line in raw.split('\\n'):\n",
    "    if not line:\n",
    "        continue\n",
    "    \n",
    "    mappings, digits = line.split('|')\n",
    "    mappings = mappings.split()\n",
    "    digits = digits.split()\n",
    "    \n",
    "#     print(mappings, digits)\n",
    "    \n",
    "    one = [mapping for mapping in mappings if len(mapping) == 2][0]\n",
    "    four = [mapping for mapping in mappings if len(mapping) == 4][0]\n",
    "    seven = [mapping for mapping in mappings if len(mapping) == 3][0]\n",
    "    eight = [mapping for mapping in mappings if len(mapping) == 7][0]    \n",
    "    \n",
    "    letter_mapping = {}\n",
    "    \n",
    "    a = list(set(seven) - set(one))\n",
    "    letter_mapping[a[0]] = 'a'\n",
    "#     print('a', a)\n",
    "    bd = list(set(four) - set(one))\n",
    "#     print('bd', bd)\n",
    "    cf = list(set(one))\n",
    "#     print('cf', cf)\n",
    "    \n",
    "    fives = [mapping for mapping in mappings if len(mapping) == 5]\n",
    "    five_count = {}\n",
    "    for five in fives:\n",
    "        for letter in five:\n",
    "            if letter in five_count:\n",
    "                five_count[letter] += 1\n",
    "            else:\n",
    "                five_count[letter] = 1\n",
    "    \n",
    "    adg = [letter for letter in five_count if five_count[letter] == 3]\n",
    "#     print('adg', adg)\n",
    "    be = [letter for letter in five_count if five_count[letter] == 1]\n",
    "#     print('be', be)\n",
    "    \n",
    "    sixes = [mapping for mapping in mappings if len(mapping) == 6]\n",
    "    six_count = {}\n",
    "    for six in sixes:\n",
    "        for letter in six:\n",
    "            if letter in six_count:\n",
    "                six_count[letter] += 1\n",
    "            else:\n",
    "                six_count[letter] = 1\n",
    "    cde = [letter for letter in six_count if six_count[letter] == 2]\n",
    "#     print('cde', cde)\n",
    "    \n",
    "    dg = list(set(adg) - set(a))\n",
    "#     print('dg', dg)\n",
    "    \n",
    "    b = list(set(bd) & set(be))\n",
    "    letter_mapping[b[0]] = 'b'  \n",
    "#     print('b', b)\n",
    "    \n",
    "    d = list(set(bd) - set(b))\n",
    "    letter_mapping[d[0]] = 'd'   \n",
    "#     print('d', d)\n",
    "    \n",
    "    e = list(set(be) - set(b))\n",
    "    letter_mapping[e[0]] = 'e'\n",
    "#     print('e', e)\n",
    "    \n",
    "    c = list(set(cf) & set(cde))\n",
    "    letter_mapping[c[0]] = 'c'\n",
    "#     print('c', c)\n",
    "       \n",
    "    f = list(set(cf) - set(c))\n",
    "    letter_mapping[f[0]] = 'f'\n",
    "#     print('f', f)\n",
    "    \n",
    "    g = list(set(dg) - set(d))\n",
    "    letter_mapping[g[0]] = 'g'\n",
    "#     print('g', g)\n",
    "    \n",
    "#     print(a, b, c, d, e, f, g)\n",
    "#     print(letter_mapping)\n",
    "\n",
    "    \n",
    "    number = ''\n",
    "    for digit in digits:\n",
    "        \n",
    "        segment = ''.join(sorted([letter_mapping[letter] for letter in digit]))\n",
    "#         print(segment, inverse_segments[segment])\n",
    "        number += str(inverse_segments[segment])\n",
    "        \n",
    "#     print(int(number))\n",
    "    total += int(number)\n",
    "    \n",
    "print(total)"
   ]
  },
  {
   "cell_type": "code",
   "execution_count": null,
   "metadata": {},
   "outputs": [],
   "source": []
  }
 ],
 "metadata": {
  "kernelspec": {
   "display_name": "Python 3",
   "language": "python",
   "name": "python3"
  },
  "language_info": {
   "codemirror_mode": {
    "name": "ipython",
    "version": 3
   },
   "file_extension": ".py",
   "mimetype": "text/x-python",
   "name": "python",
   "nbconvert_exporter": "python",
   "pygments_lexer": "ipython3",
   "version": "3.8.3"
  }
 },
 "nbformat": 4,
 "nbformat_minor": 4
}
