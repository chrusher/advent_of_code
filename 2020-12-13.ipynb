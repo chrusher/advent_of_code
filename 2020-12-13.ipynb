{
 "cells": [
  {
   "cell_type": "code",
   "execution_count": 11,
   "metadata": {},
   "outputs": [
    {
     "name": "stdout",
     "output_type": "stream",
     "text": [
      "[7, 13, 59, 31, 19]\n"
     ]
    }
   ],
   "source": [
    "arrival_time = 939\n",
    "buses = '7,13,x,x,59,x,31,19'\n",
    "buses = [int(number) for number in buses.split(',') if number != 'x']\n",
    "print(buses)"
   ]
  },
  {
   "cell_type": "code",
   "execution_count": 12,
   "metadata": {},
   "outputs": [
    {
     "name": "stdout",
     "output_type": "stream",
     "text": [
      "[17, 37, 439, 29, 13, 23, 787, 41, 19]\n"
     ]
    }
   ],
   "source": [
    "arrival_time = 1000067\n",
    "buses = '17,x,x,x,x,x,x,x,x,x,x,37,x,x,x,x,x,439,x,29,x,x,x,x,x,x,x,x,x,x,13,x,x,x,x,x,x,x,x,x,23,x,x,x,x,x,x,x,787,x,x,x,x,x,x,x,x,x,41,x,x,x,x,x,x,x,x,19'\n",
    "buses = [int(number) for number in buses.split(',') if number != 'x']\n",
    "print(buses)"
   ]
  },
  {
   "cell_type": "code",
   "execution_count": 13,
   "metadata": {},
   "outputs": [
    {
     "name": "stdout",
     "output_type": "stream",
     "text": [
      "17 9\n",
      "37 6\n",
      "439 414\n",
      "29 27\n",
      "13 10\n",
      "23 19\n",
      "787 210\n",
      "41 5\n",
      "19 17\n",
      "41 5 205\n"
     ]
    }
   ],
   "source": [
    "smallest_wait = max(buses)\n",
    "best_bus = None\n",
    "\n",
    "for bus in buses:\n",
    "    \n",
    "    count = arrival_time // bus\n",
    "    wait = bus * (count + 1) - arrival_time\n",
    "    \n",
    "    print(bus, wait)\n",
    "    \n",
    "    if wait < smallest_wait:\n",
    "        smallest_wait = wait\n",
    "        best_bus = bus\n",
    "        \n",
    "print(best_bus, smallest_wait, best_bus * smallest_wait)"
   ]
  },
  {
   "cell_type": "code",
   "execution_count": 76,
   "metadata": {},
   "outputs": [
    {
     "name": "stdout",
     "output_type": "stream",
     "text": [
      "['17', 'x', 'x', 'x', 'x', 'x', 'x', 'x', 'x', 'x', 'x', '37', 'x', 'x', 'x', 'x', 'x', '439', 'x', '29', 'x', 'x', 'x', 'x', 'x', 'x', 'x', 'x', 'x', 'x', '13', 'x', 'x', 'x', 'x', 'x', 'x', 'x', 'x', 'x', '23', 'x', 'x', 'x', 'x', 'x', 'x', 'x', '787', 'x', 'x', 'x', 'x', 'x', 'x', 'x', 'x', 'x', '41', 'x', 'x', 'x', 'x', 'x', 'x', 'x', 'x', '19']\n",
      "range(0, 68)\n",
      "[17, 37, 439, 29, 13, 23, 787, 41, 19] [0, -11, -17, -19, -30, -40, -48, -58, -67]\n"
     ]
    }
   ],
   "source": [
    "busses = '7,13,x,x,59,x,31,19'.split(',')\n",
    "busses = '17,x,x,x,x,x,x,x,x,x,x,37,x,x,x,x,x,439,x,29,x,x,x,x,x,x,x,x,x,x,13,x,x,x,x,x,x,x,x,x,23,x,x,x,x,x,x,x,787,x,x,x,x,x,x,x,x,x,41,x,x,x,x,x,x,x,x,19'.split(',')\n",
    "print(busses)\n",
    "print(range(len(busses)))\n",
    "\n",
    "ns = []\n",
    "bs = []\n",
    "\n",
    "for bus, n in zip(busses, range(len(busses))):\n",
    "    if bus != 'x':\n",
    "        ns.append(int(bus))\n",
    "        bs.append(-n)\n",
    "        \n",
    "print(ns, bs)"
   ]
  },
  {
   "cell_type": "code",
   "execution_count": 77,
   "metadata": {},
   "outputs": [
    {
     "name": "stdout",
     "output_type": "stream",
     "text": [
      "803025030761664\n"
     ]
    }
   ],
   "source": [
    "def extended_euclid(a, b):\n",
    "    rs = [a, b]\n",
    "    ss = [1, 0]\n",
    "    ts = [0, 1]\n",
    "    \n",
    "    i = 2\n",
    "    while rs[-1]:\n",
    "        q = rs[i - 2] // rs[i - 1]\n",
    "        rs.append(rs[i - 2] - q * rs[i - 1])\n",
    "        ss.append(ss[i - 2] - q * ss[i - 1])\n",
    "        ts.append(ts[i - 2] - q * ts[i - 1])\n",
    "        \n",
    "        i += 1\n",
    "    \n",
    "    return(ss[-2], ts[-2])\n",
    "    \n",
    "    \n",
    "# print(extended_euclid(240, 46))\n",
    "# print(extended_euclid(13, 7))\n",
    "\n",
    "def calc_solution(a1, n1, a2, n2):\n",
    "    m1, m2 = extended_euclid(n1, n2)\n",
    "    return (a2 * m1 * n1 + a1 * m2 * n2) % (n1 * n2)\n",
    "\n",
    "# bs = [0, -1, -4, -6, -7]\n",
    "# ns = [7, 13, 59, 31, 19]\n",
    "\n",
    "x = calc_solution(bs[0], ns[0], bs[1], ns[1])\n",
    "n = ns[0] * ns[1]\n",
    "\n",
    "for i in range(2, len(bs)):\n",
    "    x = calc_solution(x, n, bs[i], ns[i])\n",
    "    n = n * ns[i]\n",
    "    \n",
    "print(x)"
   ]
  },
  {
   "cell_type": "code",
   "execution_count": 64,
   "metadata": {},
   "outputs": [
    {
     "name": "stdout",
     "output_type": "stream",
     "text": [
      "77\n",
      "350\n",
      "70147\n",
      "1068781\n"
     ]
    }
   ],
   "source": [
    "a1 = 0\n",
    "n1 = 7\n",
    "a2 = -1\n",
    "n2 = 13\n",
    "a3 = -4\n",
    "n3 = 59\n",
    "a4 = -6\n",
    "n4 = 31\n",
    "a5 = -7\n",
    "n5 = 19\n",
    "\n",
    "x2 = calc_solution(a1, n1, a2, n2)\n",
    "print(x2)\n",
    "x3 = calc_solution(x2, n1 * n2, a3, n3)\n",
    "print(x3)\n",
    "x4 = calc_solution(x3, n1 * n2 * n3, a4, n4)\n",
    "print(x4)\n",
    "x5 = calc_solution(x4, n1 * n2 * n3 * n4, a5, n5)\n",
    "print(x5)\n",
    "1068781"
   ]
  },
  {
   "cell_type": "code",
   "execution_count": 59,
   "metadata": {},
   "outputs": [
    {
     "name": "stdout",
     "output_type": "stream",
     "text": [
      "2 -1 1\n",
      "-14\n",
      "77\n",
      "77\n",
      "11 6\n",
      "350\n",
      "70147\n"
     ]
    }
   ],
   "source": [
    "a1 = 0\n",
    "n1 = 7\n",
    "a2 = -1\n",
    "n2 = 13\n",
    "a3 = -4\n",
    "n3 = 59\n",
    "\n",
    "\n",
    "\n",
    "\n",
    "for x in range(n1 * n2):\n",
    "    if not (a1 + n1 * x - a2) % n2:\n",
    "        x1 = x\n",
    "        break\n",
    "        \n",
    "m1, m2 = extended_euclid(n1, n2)\n",
    "print(m1, m2, m1 * n1 + m2 * n2)\n",
    "print(a2 * m1 * n1 + a1 * m2 * n2)\n",
    "print((a2 * m1 * n1 + a1 * m2 * n2) % (n1 * n2))\n",
    "\n",
    "x = a1 + n1 * x1\n",
    "x2 = (x - a2) // n2 \n",
    "print(x)\n",
    "\n",
    "print(x1, x2)\n",
    "# print(x, a1 + n1 * x1, a2 + n2 * x2)\n",
    "\n",
    "# xx = x + n1 * n2\n",
    "# xx1 = (xx - a1) // n1\n",
    "# xx2 = (xx - a2) // n2\n",
    "# print(xx1, xx2)\n",
    "# print(xx, a1 + n1 * xx1, a2 + n2 * xx2)\n",
    "\n",
    "# x mod n1 * n2\n",
    "\n",
    "A = x\n",
    "N = n1 * n2\n",
    "\n",
    "a3 = -4\n",
    "n3 = 59\n",
    "\n",
    "for x in range(N * n3):\n",
    "    if not (A + N * x - a3) % n3:\n",
    "        X = x\n",
    "        break\n",
    "        \n",
    "x  = A + N * X\n",
    "x3 = (x - a3) // n3\n",
    "print(x)\n",
    "\n",
    "A = x\n",
    "N = n1 * n2 * n3\n",
    "a4 = -6\n",
    "n4 = 31\n",
    "for x in range(N * n4):\n",
    "    if not (A + N * x - a4) % n4:\n",
    "        X = x\n",
    "        break\n",
    "        \n",
    "x  = A + N * X\n",
    "x4 = (x - a4) // n4\n",
    "print(x)"
   ]
  },
  {
   "cell_type": "code",
   "execution_count": 44,
   "metadata": {},
   "outputs": [
    {
     "data": {
      "text/plain": [
       "(0, -1, -4, -6)"
      ]
     },
     "execution_count": 44,
     "metadata": {},
     "output_type": "execute_result"
    }
   ],
   "source": [
    "350 % 7, 350 % 13 - 13, 350 % 59 - 59\n",
    "70147 % 7, 70147 % 13 - 13, 70147 % 59 - 59, 70147 % 31 - 31"
   ]
  },
  {
   "cell_type": "code",
   "execution_count": null,
   "metadata": {},
   "outputs": [],
   "source": [
    "a1 + n1 * x1 = a2 + n2 * x2\n",
    "\n",
    "\n",
    "# 7 * a = 13 * b - 1 = 59 * c - 4 = 31 * d - 6 = 19 * e - 7 = k\n",
    "\n",
    "# 0 % 7\n",
    "# -1 % 13\n",
    "\n",
    "# 7 * x + 13 * y = 1\n",
    "\n",
    "#r_i+1 = r_i-1 - q_i * r_i\n",
    "#s_i+1 = s_i-1 - q_i * s_i\n",
    "#t_i+1 = t_i-1 - q_i * t_i\n",
    "\n",
    "# i    q     r      s    t\n",
    "# 0         13      1    0\n",
    "# 1          7      0    1\n",
    "# 2    1     6      1   -1\n",
    "# 3    1     1      -1   2\n",
    "# 4    6     0      7    -13\n",
    "\n",
    "# 7 * 2 + 13 * -1 = 1\n",
    "\n",
    "\n",
    "# -1 * 7 * 2 + 0 * 13 * -1 = -14\n",
    "# -14 mod 91 = 77\n",
    "#-> a = 11, b = 6\n",
    "\n",
    "59 * c - 4\n",
    "\n",
    "\n",
    "\n",
    "\n",
    "\n",
    "\n"
   ]
  }
 ],
 "metadata": {
  "kernelspec": {
   "display_name": "Python 3",
   "language": "python",
   "name": "python3"
  },
  "language_info": {
   "codemirror_mode": {
    "name": "ipython",
    "version": 3
   },
   "file_extension": ".py",
   "mimetype": "text/x-python",
   "name": "python",
   "nbconvert_exporter": "python",
   "pygments_lexer": "ipython3",
   "version": "3.8.3"
  }
 },
 "nbformat": 4,
 "nbformat_minor": 4
}
