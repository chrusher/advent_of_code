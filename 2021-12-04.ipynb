{
 "cells": [
  {
   "cell_type": "code",
   "execution_count": 13,
   "metadata": {},
   "outputs": [],
   "source": [
    "import numpy as np"
   ]
  },
  {
   "cell_type": "code",
   "execution_count": 77,
   "metadata": {},
   "outputs": [],
   "source": [
    "raw = \"\"\"7,4,9,5,11,17,23,2,0,14,21,24,10,16,13,6,15,25,12,22,18,20,8,19,3,26,1\n",
    "\n",
    "22 13 17 11  0\n",
    " 8  2 23  4 24\n",
    "21  9 14 16  7\n",
    " 6 10  3 18  5\n",
    " 1 12 20 15 19\n",
    "\n",
    " 3 15  0  2 22\n",
    " 9 18 13 17  5\n",
    "19  8  7 25 23\n",
    "20 11 10 24  4\n",
    "14 21 16 12  6\n",
    "\n",
    "14 21 17 24  4\n",
    "10 16 15  9 19\n",
    "18  8 23 26 20\n",
    "22 11 13  6  5\n",
    " 2  0 12  3  7\"\"\"\n",
    "\n",
    "blocks = raw.split('\\n\\n')"
   ]
  },
  {
   "cell_type": "code",
   "execution_count": 80,
   "metadata": {
    "scrolled": false
   },
   "outputs": [
    {
     "name": "stdout",
     "output_type": "stream",
     "text": [
      "24 188\n",
      "4512\n"
     ]
    }
   ],
   "source": [
    "numbers = [int(number) for number in blocks[0].split(',')]\n",
    "\n",
    "cards = []\n",
    "for block in blocks[1:]:\n",
    "    cards.append({'card':np.reshape(np.array(block.split(), dtype=np.int_), (5, 5)),\n",
    "                  'filled':np.zeros((5,5), dtype=np.bool_)})\n",
    "total = 0\n",
    "for number in numbers:\n",
    "    for card in cards:\n",
    "        card['filled'] = card['filled'] | (card['card'] == number)\n",
    "        for i in range(card['card'].shape[0]):\n",
    "            \n",
    "#             print(card['filled'][i], card['filled'][:,i])\n",
    "            if card['filled'][i].all() or card['filled'][:,i].all():\n",
    "                print(number, card['card'][~card['filled']].sum())\n",
    "                total = number * card['card'][~card['filled']].sum()\n",
    "                \n",
    "        if total:\n",
    "            break\n",
    "                \n",
    "    if total:\n",
    "        break\n",
    "    \n",
    "print(total)"
   ]
  },
  {
   "cell_type": "code",
   "execution_count": 90,
   "metadata": {
    "scrolled": false
   },
   "outputs": [
    {
     "name": "stdout",
     "output_type": "stream",
     "text": [
      "14 3 2745\n",
      "46 59 33040\n",
      "21 13 9867\n",
      "54 69 42849\n",
      "7 83 44986\n",
      "9 83 33698\n",
      "30 51 29478\n",
      "15 64 38400\n",
      "76 64 38336\n",
      "92 64 26880\n",
      "73 82 42476\n",
      "22 49 22246\n",
      "27 8 5904\n",
      "51 8 4688\n",
      "89 8 5272\n",
      "12 36 21564\n",
      "60 36 15804\n",
      "86 36 17784\n",
      "32 66 31614\n",
      "33 66 38874\n",
      "100 66 47322\n",
      "43 19 13281\n",
      "83 19 9462\n",
      "23 99 32076\n",
      "48 99 50490\n",
      "82 99 70587\n",
      "88 99 44055\n",
      "61 41 23206\n",
      "70 41 15416\n",
      "34 91 58331\n",
      "55 91 28665\n",
      "11 78 39936\n",
      "25 78 25740\n",
      "87 78 40560\n",
      "93 78 46956\n",
      "4 40 15720\n",
      "57 62 27466\n",
      "52 63 29106\n",
      "68 57 27816\n",
      "36 39 17238\n",
      "59 39 15093\n",
      "84 39 13494\n",
      "13 55 22715\n",
      "24 55 27885\n",
      "62 55 15070\n",
      "98 55 25080\n",
      "28 47 25756\n",
      "1 29 10933\n",
      "6 29 12644\n",
      "50 29 14268\n",
      "64 29 14094\n",
      "31 50 25450\n",
      "67 50 17400\n",
      "71 50 22750\n",
      "99 50 24850\n",
      "17 58 13050\n",
      "63 58 18096\n",
      "5 34 14348\n",
      "66 34 16626\n",
      "96 34 21488\n",
      "38 27 8748\n",
      "53 27 11016\n",
      "75 27 10827\n",
      "85 27 12636\n",
      "45 43 14534\n",
      "49 43 6536\n",
      "90 43 18662\n",
      "37 30 11850\n",
      "79 30 11610\n",
      "8 35 15995\n",
      "16 35 17465\n",
      "74 35 14665\n",
      "19 22 6226\n",
      "69 22 6710\n",
      "40 28 8960\n",
      "44 28 8876\n",
      "10 4 1228\n",
      "41 4 1380\n",
      "58 4 1708\n",
      "94 4 1360\n",
      "81 14 6216\n",
      "95 14 7252\n",
      "26 26 8736\n",
      "35 26 6942\n",
      "2 32 14624\n",
      "47 32 7072\n",
      "56 32 6976\n",
      "77 32 10592\n",
      "78 32 13952\n",
      "20 10 3620\n",
      "42 10 3930\n",
      "91 88 24728\n",
      "18 46 15824\n",
      "39 46 21114\n",
      "80 46 10166\n",
      "29 76 31996\n",
      "97 76 25080\n",
      "72 38 10640\n",
      "3 44 10956\n",
      "65 21 6594\n",
      "0\n"
     ]
    }
   ],
   "source": [
    "#part two\n",
    "numbers = [int(number) for number in blocks[0].split(',')]\n",
    "\n",
    "cards = []\n",
    "for i in range(1, len(blocks)):\n",
    "    cards.append({'card':np.reshape(np.array(blocks[i].split(), dtype=np.int_), (5, 5)),\n",
    "                  'filled':np.zeros((5,5), dtype=np.bool_),\n",
    "                  'number':i,\n",
    "                  'won':False})\n",
    "    \n",
    "total = 0\n",
    "for number in numbers:\n",
    "    for card in cards:\n",
    "        if card['won']:\n",
    "            continue      \n",
    "            \n",
    "        card['filled'] = card['filled'] | (card['card'] == number)\n",
    "\n",
    "#         print(card['number'], number)\n",
    "        for i in range(card['card'].shape[0]):\n",
    "#             print(card['card'][i], card['card'][:,i])\n",
    "#             print(card['filled'][i], card['filled'][:,i])\n",
    "#             print(card['filled'][i].all(), card['filled'][:,i].all())\n",
    "            if card['filled'][i].all() or card['filled'][:,i].all():\n",
    "                total = number * card['card'][~card['filled']].sum()\n",
    "                \n",
    "        if total:\n",
    "            card['won'] = True\n",
    "            print(card['number'], number, total)\n",
    "            total = 0\n",
    "            \n",
    "    \n",
    "print(total)"
   ]
  },
  {
   "cell_type": "code",
   "execution_count": 89,
   "metadata": {},
   "outputs": [],
   "source": [
    "with open('2021-12-04_input') as f:\n",
    "    blocks = f.read().split('\\n\\n')"
   ]
  },
  {
   "cell_type": "code",
   "execution_count": 88,
   "metadata": {},
   "outputs": [
    {
     "data": {
      "text/plain": [
       "['7,4,9,5,11,17,23,2,0,14,21,24,10,16,13,6,15,25,12,22,18,20,8,19,3,26,1',\n",
       " '22 13 17 11  0\\n 8  2 23  4 24\\n21  9 14 16  7\\n 6 10  3 18  5\\n 1 12 20 15 19',\n",
       " ' 3 15  0  2 22\\n 9 18 13 17  5\\n19  8  7 25 23\\n20 11 10 24  4\\n14 21 16 12  6',\n",
       " '14 21 17 24  4\\n10 16 15  9 19\\n18  8 23 26 20\\n22 11 13  6  5\\n 2  0 12  3  7']"
      ]
     },
     "execution_count": 88,
     "metadata": {},
     "output_type": "execute_result"
    }
   ],
   "source": [
    "blocks"
   ]
  },
  {
   "cell_type": "code",
   "execution_count": null,
   "metadata": {},
   "outputs": [],
   "source": []
  }
 ],
 "metadata": {
  "kernelspec": {
   "display_name": "Python 3",
   "language": "python",
   "name": "python3"
  },
  "language_info": {
   "codemirror_mode": {
    "name": "ipython",
    "version": 3
   },
   "file_extension": ".py",
   "mimetype": "text/x-python",
   "name": "python",
   "nbconvert_exporter": "python",
   "pygments_lexer": "ipython3",
   "version": "3.8.3"
  }
 },
 "nbformat": 4,
 "nbformat_minor": 4
}
