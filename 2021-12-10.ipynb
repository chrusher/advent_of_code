{
 "cells": [
  {
   "cell_type": "code",
   "execution_count": 4,
   "metadata": {},
   "outputs": [],
   "source": [
    "raw = \"\"\"[({(<(())[]>[[{[]{<()<>>\n",
    "[(()[<>])]({[<{<<[]>>(\n",
    "{([(<{}[<>[]}>{[]{[(<()>\n",
    "(((({<>}<{<{<>}{[]{[]{}\n",
    "[[<[([]))<([[{}[[()]]]\n",
    "[{[{({}]{}}([{[{{{}}([]\n",
    "{<[[]]>}<{[{[{[]{()[[[]\n",
    "[<(<(<(<{}))><([]([]()\n",
    "<{([([[(<>()){}]>(<<{{\n",
    "<{([{{}}[<[[[<>{}]]]>[]]\"\"\""
   ]
  },
  {
   "cell_type": "code",
   "execution_count": 13,
   "metadata": {},
   "outputs": [],
   "source": [
    "with open('2021-12-10_input') as f:\n",
    "    raw = f.read().strip()"
   ]
  },
  {
   "cell_type": "code",
   "execution_count": 14,
   "metadata": {},
   "outputs": [
    {
     "name": "stdout",
     "output_type": "stream",
     "text": [
      "243939\n",
      "2421222841\n"
     ]
    }
   ],
   "source": [
    "#part one and two\n",
    "\n",
    "closes = {')':'(',\n",
    "          ']':'[',\n",
    "          '}':'{',\n",
    "          '>':'<'}\n",
    "opens = {closes[close]:close for close in closes}\n",
    "\n",
    "corrupt_values = {')':3,\n",
    "                  ']':57,\n",
    "                  '}':1197,\n",
    "                  '>':25137}\n",
    "imcomplete_values = {'(':1,\n",
    "                     '[':2,\n",
    "                     '{':3,\n",
    "                     '<':4}\n",
    "\n",
    "corrupt_value = 0\n",
    "imcomplete_totals = []\n",
    "for line in raw.split('\\n'):\n",
    "    openned = []\n",
    "    corrupted = False\n",
    "    for c in line:\n",
    "        if c in '([{<':\n",
    "            openned.append(c)\n",
    "        else:\n",
    "            if openned[-1] == closes[c]:\n",
    "                openned.pop()\n",
    "            else:\n",
    "                corrupt_value += corrupt_values[c]\n",
    "                corrupted = True\n",
    "                break\n",
    "        \n",
    "    if corrupted:\n",
    "        continue\n",
    "        \n",
    "\n",
    "    total = 0\n",
    "    for c in openned[::-1]:        \n",
    "        total = 5 * total + imcomplete_values[c]        \n",
    "    imcomplete_totals.append(total)\n",
    "                \n",
    "print(corrupt_value)\n",
    "imcomplete_totals.sort()\n",
    "print(imcomplete_totals[len(imcomplete_totals) // 2])"
   ]
  },
  {
   "cell_type": "code",
   "execution_count": null,
   "metadata": {},
   "outputs": [],
   "source": []
  },
  {
   "cell_type": "code",
   "execution_count": null,
   "metadata": {},
   "outputs": [],
   "source": []
  }
 ],
 "metadata": {
  "kernelspec": {
   "display_name": "Python 3",
   "language": "python",
   "name": "python3"
  },
  "language_info": {
   "codemirror_mode": {
    "name": "ipython",
    "version": 3
   },
   "file_extension": ".py",
   "mimetype": "text/x-python",
   "name": "python",
   "nbconvert_exporter": "python",
   "pygments_lexer": "ipython3",
   "version": "3.8.3"
  }
 },
 "nbformat": 4,
 "nbformat_minor": 4
}
