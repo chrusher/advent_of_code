{
 "cells": [
  {
   "cell_type": "code",
   "execution_count": 15,
   "metadata": {},
   "outputs": [],
   "source": [
    "first_example = \"\"\"start-A\n",
    "start-b\n",
    "A-c\n",
    "A-b\n",
    "b-d\n",
    "A-end\n",
    "b-end\"\"\"\n",
    "\n",
    "second_example = \"\"\"dc-end\n",
    "HN-start\n",
    "start-kj\n",
    "dc-start\n",
    "dc-HN\n",
    "LN-dc\n",
    "HN-end\n",
    "kj-sa\n",
    "kj-HN\n",
    "kj-dc\"\"\"\n",
    "\n",
    "third_example = \"\"\"fs-end\n",
    "he-DX\n",
    "fs-he\n",
    "start-DX\n",
    "pj-DX\n",
    "end-zg\n",
    "zg-sl\n",
    "zg-pj\n",
    "pj-he\n",
    "RW-he\n",
    "fs-DX\n",
    "pj-RW\n",
    "zg-RW\n",
    "start-pj\n",
    "he-WI\n",
    "zg-he\n",
    "pj-fs\n",
    "start-RW\"\"\""
   ]
  },
  {
   "cell_type": "code",
   "execution_count": 28,
   "metadata": {},
   "outputs": [],
   "source": [
    "puzzle = \"\"\"ax-end\n",
    "xq-GF\n",
    "end-xq\n",
    "im-wg\n",
    "ax-ie\n",
    "start-ws\n",
    "ie-ws\n",
    "CV-start\n",
    "ng-wg\n",
    "ng-ie\n",
    "GF-ng\n",
    "ng-av\n",
    "CV-end\n",
    "ie-GF\n",
    "CV-ie\n",
    "im-xq\n",
    "start-GF\n",
    "GF-ws\n",
    "wg-LY\n",
    "CV-ws\n",
    "im-CV\n",
    "CV-wg\"\"\""
   ]
  },
  {
   "cell_type": "code",
   "execution_count": 29,
   "metadata": {
    "scrolled": false
   },
   "outputs": [
    {
     "name": "stdout",
     "output_type": "stream",
     "text": [
      "{'ax': ['end', 'ie'], 'end': ['ax', 'xq', 'CV'], 'xq': ['GF', 'end', 'im'], 'GF': ['xq', 'ng', 'ie', 'start', 'ws'], 'im': ['wg', 'xq', 'CV'], 'wg': ['im', 'ng', 'LY', 'CV'], 'ie': ['ax', 'ws', 'ng', 'GF', 'CV'], 'start': ['ws', 'CV', 'GF'], 'ws': ['start', 'ie', 'GF', 'CV'], 'CV': ['start', 'end', 'ie', 'ws', 'im', 'wg'], 'ng': ['wg', 'ie', 'GF', 'av'], 'av': ['ng'], 'LY': ['wg']}\n",
      "3576\n"
     ]
    }
   ],
   "source": [
    "#path one\n",
    "graph = {}\n",
    "\n",
    "for line in puzzle.split():\n",
    "    start, end = line.split('-')\n",
    "    \n",
    "    if start in graph:\n",
    "        graph[start].append(end)\n",
    "    else:\n",
    "        graph[start] = [end]\n",
    "        \n",
    "    if end in graph:\n",
    "        graph[end].append(start)\n",
    "    else:\n",
    "        graph[end] = [start]\n",
    "        \n",
    "print(graph)\n",
    "\n",
    "valid_paths = []\n",
    "\n",
    "def traverse(path):\n",
    "    \n",
    "    end = path[-1]   \n",
    "    for node in graph[end]:   \n",
    "        \n",
    "        if node == 'start':\n",
    "            continue\n",
    "        if node == 'end':\n",
    "            valid_paths.append(path + ['end'])\n",
    "            continue\n",
    "        if node.islower() and node in path:\n",
    "            continue\n",
    "        \n",
    "        new_path = path + [node]\n",
    "        traverse(new_path)\n",
    "\n",
    "        \n",
    "traverse(['start'])\n",
    "\n",
    "print(len(valid_paths))"
   ]
  },
  {
   "cell_type": "code",
   "execution_count": 47,
   "metadata": {},
   "outputs": [
    {
     "name": "stdout",
     "output_type": "stream",
     "text": [
      "{'ax': ['end', 'ie'], 'end': ['ax', 'xq', 'CV'], 'xq': ['GF', 'end', 'im'], 'GF': ['xq', 'ng', 'ie', 'start', 'ws'], 'im': ['wg', 'xq', 'CV'], 'wg': ['im', 'ng', 'LY', 'CV'], 'ie': ['ax', 'ws', 'ng', 'GF', 'CV'], 'start': ['ws', 'CV', 'GF'], 'ws': ['start', 'ie', 'GF', 'CV'], 'CV': ['start', 'end', 'ie', 'ws', 'im', 'wg'], 'ng': ['wg', 'ie', 'GF', 'av'], 'av': ['ng'], 'LY': ['wg']}\n",
      "84271\n"
     ]
    }
   ],
   "source": [
    "#path two\n",
    "graph = {}\n",
    "\n",
    "for line in puzzle.split():\n",
    "    start, end = line.split('-')\n",
    "    \n",
    "    if start in graph:\n",
    "        graph[start].append(end)\n",
    "    else:\n",
    "        graph[start] = [end]\n",
    "        \n",
    "    if end in graph:\n",
    "        graph[end].append(start)\n",
    "    else:\n",
    "        graph[end] = [start]\n",
    "        \n",
    "print(graph)\n",
    "\n",
    "valid_paths = []\n",
    "\n",
    "def traverse(path):\n",
    "    \n",
    "    end = path[-1]   \n",
    "    for node in graph[end]:   \n",
    "        new_path = path + [node]\n",
    "        if node == 'start':\n",
    "            continue\n",
    "        if node == 'end':\n",
    "            if new_path not in valid_paths:\n",
    "#                 print(new_path)\n",
    "                valid_paths.append(new_path)\n",
    "            continue\n",
    "                    \n",
    "                  \n",
    "        if node.islower() and node in path and any([path.count(node) > 1 for node in set(path) if node.islower()]):\n",
    "            continue\n",
    "#         print(new_path)\n",
    "        traverse(new_path)\n",
    "\n",
    "        \n",
    "traverse(['start'])\n",
    "\n",
    "print(len(valid_paths))"
   ]
  },
  {
   "cell_type": "code",
   "execution_count": null,
   "metadata": {},
   "outputs": [],
   "source": []
  }
 ],
 "metadata": {
  "kernelspec": {
   "display_name": "Python 3",
   "language": "python",
   "name": "python3"
  },
  "language_info": {
   "codemirror_mode": {
    "name": "ipython",
    "version": 3
   },
   "file_extension": ".py",
   "mimetype": "text/x-python",
   "name": "python",
   "nbconvert_exporter": "python",
   "pygments_lexer": "ipython3",
   "version": "3.8.3"
  }
 },
 "nbformat": 4,
 "nbformat_minor": 4
}
