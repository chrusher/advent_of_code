{
 "cells": [
  {
   "cell_type": "code",
   "execution_count": 10,
   "metadata": {},
   "outputs": [],
   "source": [
    "import numpy as np"
   ]
  },
  {
   "cell_type": "code",
   "execution_count": 32,
   "metadata": {},
   "outputs": [],
   "source": [
    "example = \"\"\"NNCB\n",
    "\n",
    "CH -> B\n",
    "HH -> N\n",
    "CB -> H\n",
    "NH -> C\n",
    "HB -> C\n",
    "HC -> B\n",
    "HN -> C\n",
    "NN -> C\n",
    "BH -> H\n",
    "NC -> B\n",
    "NB -> B\n",
    "BN -> B\n",
    "BB -> N\n",
    "BC -> B\n",
    "CC -> N\n",
    "CN -> C\"\"\""
   ]
  },
  {
   "cell_type": "code",
   "execution_count": 2,
   "metadata": {},
   "outputs": [],
   "source": [
    "with open('2021-12-14_input') as f:\n",
    "    puzzle = f.read().strip()"
   ]
  },
  {
   "cell_type": "code",
   "execution_count": 61,
   "metadata": {
    "scrolled": false
   },
   "outputs": [
    {
     "name": "stdout",
     "output_type": "stream",
     "text": [
      "NNSOFOCNHBVVNOBSBHCB\n",
      "{'N': 4, 'F': 1, 'C': 2, 'O': 3, 'S': 2, 'H': 2, 'B': 4, 'V': 2}\n",
      "{'HN': 'S', 'FK': 'N', 'CH': 'P', 'VP': 'P', 'VV': 'C', 'PB': 'H', 'CP': 'F', 'KO': 'P', 'KN': 'V', 'NO': 'K', 'NF': 'N', 'CO': 'P', 'HO': 'H', 'VH': 'V', 'OV': 'C', 'VS': 'F', 'PK': 'H', 'OS': 'S', 'BF': 'S', 'SN': 'P', 'NK': 'N', 'SV': 'O', 'KB': 'O', 'ON': 'O', 'FN': 'H', 'FO': 'N', 'KV': 'S', 'CS': 'C', 'VO': 'O', 'SP': 'O', 'VK': 'H', 'KP': 'S', 'SK': 'N', 'NC': 'B', 'PN': 'N', 'HV': 'O', 'HS': 'C', 'CN': 'N', 'OO': 'V', 'FF': 'B', 'VC': 'V', 'HK': 'K', 'CC': 'H', 'BO': 'H', 'SC': 'O', 'HH': 'C', 'BV': 'P', 'OB': 'O', 'FC': 'H', 'PO': 'C', 'FV': 'C', 'BK': 'F', 'HB': 'B', 'NH': 'P', 'KF': 'N', 'BP': 'H', 'KK': 'O', 'OH': 'K', 'CB': 'H', 'CK': 'C', 'OK': 'H', 'NN': 'F', 'VF': 'N', 'SO': 'K', 'OP': 'F', 'NP': 'B', 'FS': 'S', 'SH': 'O', 'FP': 'O', 'SF': 'V', 'HF': 'N', 'KC': 'K', 'SB': 'V', 'FH': 'N', 'SS': 'C', 'BB': 'C', 'NV': 'K', 'OC': 'S', 'CV': 'N', 'HC': 'P', 'BC': 'N', 'OF': 'K', 'BH': 'N', 'NS': 'K', 'BN': 'F', 'PC': 'C', 'CF': 'N', 'HP': 'F', 'BS': 'O', 'PF': 'S', 'PV': 'B', 'KH': 'K', 'VN': 'V', 'NB': 'N', 'PH': 'V', 'KS': 'B', 'PP': 'V', 'PS': 'C', 'VB': 'N', 'FB': 'N'}\n",
      "1 5\n",
      "2 10\n",
      "3 23\n",
      "4 54\n",
      "5 104\n",
      "6 216\n",
      "7 462\n",
      "8 935\n",
      "9 1922\n",
      "10 3906\n"
     ]
    }
   ],
   "source": [
    "#part one\n",
    "template, rule_str = puzzle.split('\\n\\n')\n",
    "print(template)\n",
    "\n",
    "print({element:template.count(element) for element in set(template)})\n",
    "\n",
    "rules = {}\n",
    "for rule in rule_str.split('\\n'):\n",
    "    pair, insert = rule.split(' -> ')\n",
    "    rules[pair] = insert\n",
    "    \n",
    "print(rules)\n",
    "\n",
    "\n",
    "for t in range(10):\n",
    "    \n",
    "    new_template = template[0]\n",
    "        \n",
    "    for i in range(len(template) - 1):\n",
    "\n",
    "        if template[i:i+2] in rules:\n",
    "            new_template += rules[template[i:i + 2]] + template[i + 1]\n",
    "\n",
    "        else:\n",
    "            new_template += template[i + 1]\n",
    "            \n",
    "#     print(t + 1, len(new_template))\n",
    "#     print(new_template)\n",
    "#     print({element:new_template.count(element) for element in set(new_template)})\n",
    "    counts = sorted([new_template.count(element) for element in set(new_template)])\n",
    "    print(t + 1, counts[-1] - counts[0])\n",
    "    \n",
    "    template = new_template"
   ]
  },
  {
   "cell_type": "code",
   "execution_count": 62,
   "metadata": {},
   "outputs": [
    {
     "name": "stdout",
     "output_type": "stream",
     "text": [
      "1 5\n",
      "2 10\n",
      "3 23\n",
      "4 54\n",
      "5 104\n",
      "6 216\n",
      "7 462\n",
      "8 935\n",
      "9 1922\n",
      "10 3906\n",
      "11 8042\n",
      "12 16200\n",
      "13 32818\n",
      "14 65868\n",
      "15 132545\n",
      "16 265621\n",
      "17 532278\n",
      "18 1065347\n",
      "19 2131750\n",
      "20 4263987\n",
      "21 8526311\n",
      "22 17047775\n",
      "23 34081836\n",
      "24 68133748\n",
      "25 136202983\n",
      "26 272276031\n",
      "27 544298814\n",
      "28 1088105952\n",
      "29 2175281509\n",
      "30 4348807002\n",
      "31 8694337726\n",
      "32 17382598101\n",
      "33 34753945622\n",
      "34 69487229193\n",
      "35 138936465803\n",
      "36 277803548728\n",
      "37 555480254392\n",
      "38 1110729716305\n",
      "39 2221039512901\n",
      "40 4441317262452\n"
     ]
    }
   ],
   "source": [
    "#part two\n",
    "template, rule_str = puzzle.split('\\n\\n')\n",
    "\n",
    "rules = {}\n",
    "for rule in rule_str.split('\\n'):\n",
    "    pair, insert = rule.split(' -> ')\n",
    "    rules[pair] = insert\n",
    "    \n",
    "pair_counts = {pair:0 for pair in rules}\n",
    "pair_mapping = {pair:[pair[0] + rules[pair], rules[pair] + pair[1]] for pair in rules}\n",
    "\n",
    "for i in range(len(template) - 1):\n",
    "    pair_counts[template[i:i+2]] += 1\n",
    "    \n",
    "# print(pair_counts)\n",
    "\n",
    "for t in range(40):\n",
    "    letter_counts = {c:0 for c in set(''.join(rules.keys()))}\n",
    "    new_pairs = {pair:0 for pair in rules}\n",
    "    for pair in pair_counts:\n",
    "        new_pair = pair_mapping[pair]\n",
    "        new_pairs[new_pair[0]] += pair_counts[pair]\n",
    "        letter_counts[new_pair[0][0]] += pair_counts[pair]\n",
    "        letter_counts[new_pair[0][1]] += pair_counts[pair]\n",
    "        new_pairs[new_pair[1]] += pair_counts[pair]\n",
    "        letter_counts[new_pair[1][0]] += pair_counts[pair]\n",
    "        letter_counts[new_pair[1][1]] += pair_counts[pair]    \n",
    "\n",
    "    # print(new_pairs)\n",
    "#     print([[c, letter_counts[c] // 2 + letter_counts[c] % 2] for c in letter_counts])\n",
    "    counts = sorted([letter_counts[c] // 2 + letter_counts[c] % 2 for c in letter_counts])\n",
    "    print(t + 1, counts[-1] - counts[0])\n",
    "    \n",
    "    pair_counts = new_pairs\n",
    "    "
   ]
  }
 ],
 "metadata": {
  "kernelspec": {
   "display_name": "Python 3",
   "language": "python",
   "name": "python3"
  },
  "language_info": {
   "codemirror_mode": {
    "name": "ipython",
    "version": 3
   },
   "file_extension": ".py",
   "mimetype": "text/x-python",
   "name": "python",
   "nbconvert_exporter": "python",
   "pygments_lexer": "ipython3",
   "version": "3.8.3"
  }
 },
 "nbformat": 4,
 "nbformat_minor": 4
}
