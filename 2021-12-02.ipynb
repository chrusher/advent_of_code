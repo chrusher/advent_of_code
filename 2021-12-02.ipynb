{
 "cells": [
  {
   "cell_type": "code",
   "execution_count": 1,
   "metadata": {},
   "outputs": [
    {
     "name": "stdout",
     "output_type": "stream",
     "text": [
      "['forward 5', 'down 5', 'forward 8', 'up 3', 'down 8', 'forward 2']\n"
     ]
    }
   ],
   "source": [
    "raw = \"\"\"forward 5\n",
    "down 5\n",
    "forward 8\n",
    "up 3\n",
    "down 8\n",
    "forward 2\"\"\"\n",
    "\n",
    "lines = raw.split('\\n')\n",
    "print(lines)"
   ]
  },
  {
   "cell_type": "code",
   "execution_count": 5,
   "metadata": {},
   "outputs": [
    {
     "name": "stdout",
     "output_type": "stream",
     "text": [
      "1931 953 1840243\n"
     ]
    }
   ],
   "source": [
    "#part one\n",
    "foward = sum([int(line.split()[-1]) for line in lines if 'forward' in line])\n",
    "down = sum([int(line.split()[-1]) for line in lines if 'down' in line])\n",
    "up = sum([int(line.split()[-1]) for line in lines if 'up' in line])\n",
    "\n",
    "horizontal = foward\n",
    "vertical = down - up\n",
    "print(horizontal, vertical, horizontal * vertical)"
   ]
  },
  {
   "cell_type": "code",
   "execution_count": null,
   "metadata": {},
   "outputs": [],
   "source": [
    "#part two\n",
    "aim = 0\n",
    "depth = 0\n",
    "horizontal = 0\n",
    "\n",
    "for line in lines:\n",
    "    direction, distance = line.split()\n",
    "    distance = int(distance)\n",
    "    if 'up' == direction:\n",
    "        aim += -distance\n",
    "    elif 'down' == direction:\n",
    "        aim += distance"
   ]
  },
  {
   "cell_type": "code",
   "execution_count": 4,
   "metadata": {},
   "outputs": [],
   "source": [
    "with open('2021-12-02_input') as f:\n",
    "    lines = f.readlines()"
   ]
  },
  {
   "cell_type": "code",
   "execution_count": null,
   "metadata": {},
   "outputs": [],
   "source": []
  }
 ],
 "metadata": {
  "kernelspec": {
   "display_name": "Python 3",
   "language": "python",
   "name": "python3"
  },
  "language_info": {
   "codemirror_mode": {
    "name": "ipython",
    "version": 3
   },
   "file_extension": ".py",
   "mimetype": "text/x-python",
   "name": "python",
   "nbconvert_exporter": "python",
   "pygments_lexer": "ipython3",
   "version": "3.8.3"
  }
 },
 "nbformat": 4,
 "nbformat_minor": 4
}
