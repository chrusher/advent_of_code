{
 "cells": [
  {
   "cell_type": "code",
   "execution_count": 21,
   "id": "21a01444",
   "metadata": {},
   "outputs": [],
   "source": [
    "import re"
   ]
  },
  {
   "cell_type": "code",
   "execution_count": 51,
   "id": "63742417",
   "metadata": {},
   "outputs": [],
   "source": [
    "test_input = \"\"\"467..114..\n",
    "...*......\n",
    "..35..633.\n",
    "......#...\n",
    "617*......\n",
    ".....+.58.\n",
    "..592.....\n",
    "......755.\n",
    "...$.*....\n",
    ".664.598..\"\"\"\n",
    "lines = test_input.split('\\n')"
   ]
  },
  {
   "cell_type": "code",
   "execution_count": 64,
   "id": "7d56a7a4",
   "metadata": {},
   "outputs": [],
   "source": [
    "lines = [line.strip() for line in open('AoC_2023-12-03_input').readlines()]"
   ]
  },
  {
   "cell_type": "code",
   "execution_count": 31,
   "id": "89637b56",
   "metadata": {},
   "outputs": [
    {
     "name": "stdout",
     "output_type": "stream",
     "text": [
      "467..114..\n",
      "...*......\n",
      "..35..633.\n",
      "......#...\n",
      "617*......\n",
      ".....+.58.\n",
      "..592.....\n",
      "......755.\n",
      "...$.*....\n",
      ".664.598..\n"
     ]
    }
   ],
   "source": [
    "for line in lines:\n",
    "    print(line)"
   ]
  },
  {
   "cell_type": "code",
   "execution_count": 66,
   "id": "f51a12cd",
   "metadata": {},
   "outputs": [
    {
     "name": "stdout",
     "output_type": "stream",
     "text": [
      "Parts total 528799\n",
      "Gear ratios total 84907174\n"
     ]
    }
   ],
   "source": [
    "verbose = False\n",
    "digits = [str(n) for n in range(10)]\n",
    "\n",
    "total = 0\n",
    "gears = {}\n",
    "for i in range(len(lines)):\n",
    "    line = lines[i]\n",
    "    number = False\n",
    "       \n",
    "    for j in range(len(line)):\n",
    "        char = line[j]\n",
    "        if number:\n",
    "            if char in digits:\n",
    "                number = number + char\n",
    "            else:\n",
    "                upper = max(0, i - 1)\n",
    "                lower = min(len(lines), i + 2)\n",
    "                left = max(0, j - len(number) - 1)\n",
    "                right = min(len(line), j + 1)\n",
    "                \n",
    "                part = False\n",
    "                gear = None\n",
    "                \n",
    "                for k in range(upper, lower):\n",
    "                    for l in range(left, right):\n",
    "                        if lines[k][l] not in digits + ['.']:\n",
    "                            part = True\n",
    "                        if lines[k][l] == '*':\n",
    "                            gear = (k, l)\n",
    "                \n",
    "                test = '\\n'.join([lines[k][left:right] for k in range(upper, lower)])\n",
    "                if verbose:\n",
    "                    print(test)\n",
    "                    print('part', part)\n",
    "                    print('gear', gear)\n",
    "                    print()\n",
    "        \n",
    "                number = int(number)\n",
    "                if part:\n",
    "                    total += number\n",
    "                if gear:\n",
    "                    if gear in gears:\n",
    "                        gears[gear].append(number)\n",
    "                    else:\n",
    "                        gears[gear] = [number]\n",
    "                                    \n",
    "                number = False\n",
    "        elif char in digits:\n",
    "            number = char          \n",
    "            \n",
    "    if number:\n",
    "        upper = max(0, i - 1)\n",
    "        lower = min(len(lines), i + 2)\n",
    "        left = max(0, j - len(number))\n",
    "        right = min(len(line), j + 1)\n",
    "                \n",
    "        part = False\n",
    "        gear = None\n",
    "\n",
    "        for k in range(upper, lower):\n",
    "            for l in range(left, right):\n",
    "                if lines[k][l] not in digits + ['.']:\n",
    "                    part = True\n",
    "                if lines[k][l] == '*':\n",
    "                    gear = (k, l)\n",
    "\n",
    "        test = '\\n'.join([lines[k][left:right] for k in range(upper, lower)])\n",
    "        if verbose:\n",
    "            print(test)\n",
    "            print('part', part)\n",
    "            print('gear', gear)\n",
    "            print()\n",
    "\n",
    "        number = int(number)\n",
    "        if part:\n",
    "            total += number\n",
    "        if gear:\n",
    "            if gear in gears:\n",
    "                gears[gear].append(number)\n",
    "            else:\n",
    "                gears[gear] = [number]\n",
    "    \n",
    "print('Parts total', total)\n",
    "if verbose:\n",
    "    print(gears)\n",
    "\n",
    "ratios = 0\n",
    "for gear in gears:\n",
    "    if len(gears[gear]) == 2:\n",
    "        ratios += gears[gear][0] * gears[gear][1]\n",
    "        \n",
    "print('Gear ratios total', ratios)"
   ]
  },
  {
   "cell_type": "code",
   "execution_count": null,
   "id": "fdf86589",
   "metadata": {},
   "outputs": [],
   "source": []
  }
 ],
 "metadata": {
  "kernelspec": {
   "display_name": "Python 3 (ipykernel)",
   "language": "python",
   "name": "python3"
  },
  "language_info": {
   "codemirror_mode": {
    "name": "ipython",
    "version": 3
   },
   "file_extension": ".py",
   "mimetype": "text/x-python",
   "name": "python",
   "nbconvert_exporter": "python",
   "pygments_lexer": "ipython3",
   "version": "3.10.9"
  }
 },
 "nbformat": 4,
 "nbformat_minor": 5
}
