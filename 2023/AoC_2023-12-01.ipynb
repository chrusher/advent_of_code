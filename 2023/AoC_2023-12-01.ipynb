{
 "cells": [
  {
   "cell_type": "code",
   "execution_count": 6,
   "id": "7fbe8a16",
   "metadata": {},
   "outputs": [],
   "source": [
    "import re"
   ]
  },
  {
   "cell_type": "code",
   "execution_count": 4,
   "id": "ee3c1535",
   "metadata": {},
   "outputs": [],
   "source": [
    "test_input = \"\"\"1abc2\n",
    "pqr3stu8vwx\n",
    "a1b2c3d4e5f\n",
    "treb7uchet\"\"\"\n",
    "lines = test_input.split('\\n')"
   ]
  },
  {
   "cell_type": "code",
   "execution_count": 54,
   "id": "8b2e8c5a",
   "metadata": {},
   "outputs": [],
   "source": [
    "lines = open('AoC_2023-12-01_input').readlines()"
   ]
  },
  {
   "cell_type": "code",
   "execution_count": 16,
   "id": "2e498671",
   "metadata": {},
   "outputs": [
    {
     "name": "stdout",
     "output_type": "stream",
     "text": [
      "53080\n"
     ]
    }
   ],
   "source": [
    "# part one\n",
    "total = 0\n",
    "for line in lines:\n",
    "    numbers = re.findall('\\d', line)\n",
    "    total += int(numbers[0] + numbers[-1])\n",
    "print(total)"
   ]
  },
  {
   "cell_type": "code",
   "execution_count": 47,
   "id": "4b16c912",
   "metadata": {},
   "outputs": [],
   "source": [
    "test_input = \"\"\"two1nine\n",
    "eightwothree\n",
    "abcone2threexyz\n",
    "xtwone3four\n",
    "4nineeightseven2\n",
    "zoneight234\n",
    "7pqrstsixteen\"\"\"\n",
    "lines = test_input.split('\\n')\n",
    "\n",
    "# lines = ['eightwothree']"
   ]
  },
  {
   "cell_type": "code",
   "execution_count": 55,
   "id": "67850fa7",
   "metadata": {},
   "outputs": [
    {
     "name": "stdout",
     "output_type": "stream",
     "text": [
      "53268\n"
     ]
    }
   ],
   "source": [
    "# part two\n",
    "digits = {'one':'1', 'two':'2', 'three':'3', 'four':'4', 'five':'5', 'six':'6', 'seven':'7', 'eight':'8', 'nine':'9'}\n",
    "expression = '|'.join(['\\d'] + list(digits.keys()))\n",
    "reverse_expression = '|'.join(['\\d'] + [key[::-1] for key in digits.keys()])\n",
    "\n",
    "total = 0\n",
    "for line in lines:\n",
    "    first = re.search(expression, line).group()\n",
    "    last = re.search(reverse_expression, line[::-1]).group()[::-1]\n",
    "    if first in digits:\n",
    "        first = digits[first]\n",
    "    if last in digits:\n",
    "        last = digits[last]\n",
    "    total += int(first + last)\n",
    "    \n",
    "print(total)"
   ]
  },
  {
   "cell_type": "code",
   "execution_count": null,
   "id": "0418b87f",
   "metadata": {},
   "outputs": [],
   "source": []
  }
 ],
 "metadata": {
  "kernelspec": {
   "display_name": "Python 3 (ipykernel)",
   "language": "python",
   "name": "python3"
  },
  "language_info": {
   "codemirror_mode": {
    "name": "ipython",
    "version": 3
   },
   "file_extension": ".py",
   "mimetype": "text/x-python",
   "name": "python",
   "nbconvert_exporter": "python",
   "pygments_lexer": "ipython3",
   "version": "3.10.9"
  }
 },
 "nbformat": 4,
 "nbformat_minor": 5
}
