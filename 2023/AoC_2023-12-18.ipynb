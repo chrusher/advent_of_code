{
 "cells": [
  {
   "cell_type": "code",
   "execution_count": 2,
   "id": "03a93085",
   "metadata": {},
   "outputs": [],
   "source": [
    "test_input = \"\"\"R 6 (#70c710)\n",
    "D 5 (#0dc571)\n",
    "L 2 (#5713f0)\n",
    "D 2 (#d2c081)\n",
    "R 2 (#59c680)\n",
    "D 2 (#411b91)\n",
    "L 5 (#8ceee2)\n",
    "U 2 (#caa173)\n",
    "L 1 (#1b58a2)\n",
    "U 2 (#caa171)\n",
    "R 2 (#7807d2)\n",
    "U 3 (#a77fa3)\n",
    "L 2 (#015232)\n",
    "U 2 (#7a21e3)\"\"\""
   ]
  },
  {
   "cell_type": "code",
   "execution_count": 21,
   "id": "f1dd4932",
   "metadata": {},
   "outputs": [],
   "source": [
    "with open('AoC_2023-12-18_input') as f:\n",
    "    full_input = f.read().strip()"
   ]
  },
  {
   "cell_type": "code",
   "execution_count": 79,
   "id": "869117f0",
   "metadata": {
    "scrolled": false
   },
   "outputs": [
    {
     "name": "stdout",
     "output_type": "stream",
     "text": [
      "-186 88\n",
      "-288 200\n",
      "56678\n"
     ]
    }
   ],
   "source": [
    "# part 1\n",
    "\n",
    "lines = test_input.split('\\n')\n",
    "lines = full_input.split('\\n')\n",
    "\n",
    "dig_directions = []\n",
    "colours = []\n",
    "for line in lines:\n",
    "    direction, distance, colour = line.split()\n",
    "    distance = int(distance)\n",
    "    colour = colour[1:-1]\n",
    "    dig_directions.append((direction, distance))\n",
    "    colours.append(colours)\n",
    "    \n",
    "directions = {'U':(-1, 0), 'R':(0, 1), 'D':(1, 0), 'L':(0, -1)}\n",
    "start = (0, 0)\n",
    "dug = [start]\n",
    "for dig_direction in dig_directions:\n",
    "    direction, distance = dig_direction\n",
    "    vector = directions[direction]\n",
    "    for i in range(1, distance + 1):\n",
    "        dug.append((start[0] + i * vector[0], start[1] + i * vector[1]))\n",
    "        \n",
    "    start = dug[-1]\n",
    "    \n",
    "ys = [dig[0] for dig in dug]\n",
    "xs = [dig[1] for dig in dug]\n",
    "print(min(ys), max(ys))\n",
    "print(min(xs), max(xs))\n",
    "\n",
    "dig_site = [['.' for j in range(max(xs) - min(xs) + 1)] for i in range(max(ys) - min(ys) + 1)]\n",
    "\n",
    "for dig in dug:\n",
    "    dig_site[dig[0] - min(ys)][dig[1] - min(xs)] = '#'\n",
    "\n",
    "# dig_site[0 - min(ys) + 1][0 - min(xs) + 1] = 'X'\n",
    "\n",
    "\n",
    "# print('\\n'.join([''.join(line) for line in dig_site]))\n",
    "# print()\n",
    "\n",
    "# print(dig_directions[0], dig_directions[-1])\n",
    "# first = directions[dig_directions[0][0]]\n",
    "# last = directions[dig_directions[-1][0]]\n",
    "# print(first[0] - last[0], first[1] - last[1])\n",
    "# inside = (first[0] - last[0], first[1] - last[1])\n",
    "# dig_site[inside[0] - min(ys) + 1][inside[1] - min(xs) + 1] = 'X'\n",
    "\n",
    "# for i in range(len(dig_site)):\n",
    "#     fill = False\n",
    "#     for j in range(len(dig_site[0])):\n",
    "#         if not fill and dig_site[i][j] == '#':\n",
    "#             fill = True\n",
    "#             continue\n",
    "#         if fill and dig_site[i][j] == '#':\n",
    "#             fill = False\n",
    "#             continue\n",
    "#         if fill and dig_site[i][j] == '.':\n",
    "#             dig_site[i][j] = 'O'\n",
    "            \n",
    "            \n",
    "to_visit = set()\n",
    "for i in range(len(dig_site)):\n",
    "    if dig_site[i][0] == '.':\n",
    "        to_visit.add((i, 0))\n",
    "    if dig_site[i][-1] == '.':\n",
    "        to_visit.add((i, len(dig_site[0]) - 1))\n",
    "        \n",
    "for i in range(1, len(dig_site[0]) - 1):\n",
    "    if dig_site[0][i] == '.':\n",
    "        to_visit.add((0, i))\n",
    "    if dig_site[-1][i] == '.':\n",
    "        to_visit.add((len(dig_site) - 1, i))\n",
    "        \n",
    "while len(to_visit):\n",
    "    unvisited = set()\n",
    "    for point in to_visit:\n",
    "        dig_site[point[0]][point[1]] = 'O'\n",
    "        if point[0] - 1 > 0 and dig_site[point[0] - 1][point[1]] == '.':\n",
    "            unvisited.add((point[0] - 1, point[1]))\n",
    "        if point[0] + 1 < len(dig_site) and dig_site[point[0] + 1][point[1]] == '.':\n",
    "            unvisited.add((point[0] + 1, point[1]))\n",
    "        if point[1] - 1 > 0 and dig_site[point[0]][point[1] - 1] == '.':\n",
    "            unvisited.add((point[0], point[1] - 1))\n",
    "        if point[1] + 1 < len(dig_site[0]) and dig_site[point[0]][point[1] + 1] == '.':\n",
    "            unvisited.add((point[0], point[1] + 1))\n",
    "          \n",
    "    unvisited = unvisited - to_visit\n",
    "    to_visit = unvisited\n",
    "    \n",
    "            \n",
    "# print('\\n'.join([''.join(line) for line in dig_site]))    \n",
    "# print()\n",
    "\n",
    "total = 0\n",
    "for line in dig_site:\n",
    "    total += line.count('#') + line.count('.')\n",
    "print(total)"
   ]
  },
  {
   "cell_type": "code",
   "execution_count": 96,
   "id": "f92a81a5",
   "metadata": {},
   "outputs": [
    {
     "name": "stdout",
     "output_type": "stream",
     "text": [
      "56678\n"
     ]
    }
   ],
   "source": [
    "# part 1 solved with math (the shoelace formula and Pick's theorem)\n",
    "\n",
    "lines = test_input.split('\\n')\n",
    "lines = full_input.split('\\n')\n",
    "\n",
    "dig_directions = []\n",
    "for line in lines:\n",
    "    direction, distance, colour = line.split()\n",
    "    distance = int(distance)\n",
    "    dig_directions.append((direction, distance))\n",
    "    \n",
    "directions = {'U':(-1, 0), 'R':(0, 1), 'D':(1, 0), 'L':(0, -1)}\n",
    "start = (0, 0)\n",
    "dug = [start]\n",
    "length = 0\n",
    "for dig_direction in dig_directions:\n",
    "    direction, distance = dig_direction\n",
    "    vector = directions[direction]\n",
    "    dug.append((start[0] + distance * vector[0], start[1] + distance * vector[1]))\n",
    "    length += distance\n",
    "    start = dug[-1]\n",
    "    \n",
    "area = 0\n",
    "for i in range(len(dug) - 1):\n",
    "    area += dug[i][1] * dug[i + 1][0] - dug[i + 1][1] * dug[i][0]\n",
    "\n",
    "area = abs(area // 2)\n",
    "boundary = length\n",
    "interior = area - boundary // 2 + 1\n",
    "print(interior + boundary)"
   ]
  },
  {
   "cell_type": "code",
   "execution_count": 102,
   "id": "30b54109",
   "metadata": {},
   "outputs": [
    {
     "name": "stdout",
     "output_type": "stream",
     "text": [
      "79088855654037\n"
     ]
    }
   ],
   "source": [
    "# part 2\n",
    "\n",
    "lines = test_input.split('\\n')\n",
    "lines = full_input.split('\\n')\n",
    "\n",
    "direction_map = {'0':'R', '1':'D', '2':'L', '3':'U'}\n",
    "\n",
    "dig_directions = []\n",
    "for line in lines:\n",
    "    direction, distance, colour = line.split()\n",
    "    \n",
    "    direction = colour[7]\n",
    "    direction = direction_map[direction]\n",
    "    distance = int(colour[2:7], 16)\n",
    "#     print(direction, distance)\n",
    "    \n",
    "    dig_directions.append((direction, distance))\n",
    "    \n",
    "irections = {'U':(-1, 0), 'R':(0, 1), 'D':(1, 0), 'L':(0, -1)}\n",
    "start = (0, 0)\n",
    "dug = [start]\n",
    "length = 0\n",
    "for dig_direction in dig_directions:\n",
    "    direction, distance = dig_direction\n",
    "    vector = directions[direction]\n",
    "    dug.append((start[0] + distance * vector[0], start[1] + distance * vector[1]))\n",
    "    length += distance\n",
    "    start = dug[-1]\n",
    "    \n",
    "area = 0\n",
    "for i in range(len(dug) - 1):\n",
    "    area += dug[i][1] * dug[i + 1][0] - dug[i + 1][1] * dug[i][0]\n",
    "\n",
    "area = abs(area // 2)\n",
    "boundary = length\n",
    "interior = area - boundary // 2 + 1\n",
    "print(interior + boundary)\n"
   ]
  },
  {
   "cell_type": "code",
   "execution_count": 91,
   "id": "eb760161",
   "metadata": {},
   "outputs": [
    {
     "name": "stdout",
     "output_type": "stream",
     "text": [
      "[(0, 0), (0, 3), (3, 3), (3, 0), (0, 0)]\n",
      "9\n",
      "4\n",
      "16\n"
     ]
    }
   ],
   "source": [
    "# trivial example\n",
    "\n",
    "dig_directions = [('R', 3), ('D', 3), ('L', 3), ('U', 3)]\n",
    "directions = {'U':(-1, 0), 'R':(0, 1), 'D':(1, 0), 'L':(0, -1)}\n",
    "start = (0, 0)\n",
    "dug = [start]\n",
    "length = 0\n",
    "for dig_direction in dig_directions:\n",
    "    direction, distance = dig_direction\n",
    "    vector = directions[direction]\n",
    "    dug.append((start[0] + distance * vector[0], start[1] + distance * vector[1]))\n",
    "    length += distance\n",
    "    start = dug[-1]\n",
    "    \n",
    "print(dug)\n",
    "\n",
    "total = 0\n",
    "for i in range(len(dug) - 1):\n",
    "#     total += (dug[i][0] + dug[i + 1][0]) * (dug[i][1] - dug[i + 1][0])\n",
    "    total += dug[i][1] * dug[i + 1][0] - dug[i + 1][1] * dug[i][0] \n",
    "area = abs(total) // 2\n",
    "print(area)\n",
    "\n",
    "interor = area - length // 2 + 1\n",
    "print(interor)\n",
    "print(interor + length)"
   ]
  },
  {
   "cell_type": "code",
   "execution_count": 45,
   "id": "7f423f8d",
   "metadata": {},
   "outputs": [
    {
     "data": {
      "text/html": [
       "<style>.container { width:100% !important; }</style>"
      ],
      "text/plain": [
       "<IPython.core.display.HTML object>"
      ]
     },
     "metadata": {},
     "output_type": "display_data"
    }
   ],
   "source": [
    "from IPython.display import display, HTML\n",
    "display(HTML(\"<style>.container { width:100% !important; }</style>\"))"
   ]
  },
  {
   "cell_type": "code",
   "execution_count": null,
   "id": "f0d4c3ab",
   "metadata": {},
   "outputs": [],
   "source": []
  }
 ],
 "metadata": {
  "kernelspec": {
   "display_name": "Python 3 (ipykernel)",
   "language": "python",
   "name": "python3"
  },
  "language_info": {
   "codemirror_mode": {
    "name": "ipython",
    "version": 3
   },
   "file_extension": ".py",
   "mimetype": "text/x-python",
   "name": "python",
   "nbconvert_exporter": "python",
   "pygments_lexer": "ipython3",
   "version": "3.10.9"
  }
 },
 "nbformat": 4,
 "nbformat_minor": 5
}
