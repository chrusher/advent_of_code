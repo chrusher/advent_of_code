{
 "cells": [
  {
   "cell_type": "code",
   "execution_count": 50,
   "id": "45d0ecc5",
   "metadata": {},
   "outputs": [],
   "source": [
    "import math\n",
    "import re"
   ]
  },
  {
   "cell_type": "code",
   "execution_count": 1,
   "id": "c654bfc4",
   "metadata": {},
   "outputs": [],
   "source": [
    "test_input = \"\"\"RL\n",
    "\n",
    "AAA = (BBB, CCC)\n",
    "BBB = (DDD, EEE)\n",
    "CCC = (ZZZ, GGG)\n",
    "DDD = (DDD, DDD)\n",
    "EEE = (EEE, EEE)\n",
    "GGG = (GGG, GGG)\n",
    "ZZZ = (ZZZ, ZZZ)\"\"\"\n",
    "lines = test_input.split('\\n')"
   ]
  },
  {
   "cell_type": "code",
   "execution_count": 16,
   "id": "a25afd51",
   "metadata": {},
   "outputs": [],
   "source": [
    "test_input = \"\"\"LLR\n",
    "\n",
    "AAA = (BBB, BBB)\n",
    "BBB = (AAA, ZZZ)\n",
    "ZZZ = (ZZZ, ZZZ)\"\"\"\n",
    "lines = test_input.split('\\n')"
   ]
  },
  {
   "cell_type": "code",
   "execution_count": 47,
   "id": "ce9cfb4e",
   "metadata": {},
   "outputs": [],
   "source": [
    "lines = [line.strip() for line in open('AoC_2023-12-08_input').readlines()]"
   ]
  },
  {
   "cell_type": "code",
   "execution_count": 20,
   "id": "e8b7ea1b",
   "metadata": {},
   "outputs": [
    {
     "name": "stdout",
     "output_type": "stream",
     "text": [
      "\n",
      "21797\n"
     ]
    }
   ],
   "source": [
    "order = lines[0]\n",
    "order = [1 if c == 'R' else 0 for c in order]\n",
    "\n",
    "graph = {}\n",
    "for line in lines[2:]:\n",
    "    node, left, right =  re.findall('\\w{3}', line)\n",
    "    graph[node] = (left, right)\n",
    "\n",
    "current = 'AAA'\n",
    "step = 0\n",
    "while current != 'ZZZ':\n",
    "    direction = order[step % len(order)]\n",
    "    current = graph[current][direction]\n",
    "#     print(current)\n",
    "    step += 1\n",
    "\n",
    "print()\n",
    "print(step)"
   ]
  },
  {
   "cell_type": "code",
   "execution_count": 44,
   "id": "0c781c42",
   "metadata": {},
   "outputs": [],
   "source": [
    "test_input = \"\"\"LR\n",
    "\n",
    "11A = (11B, XXX)\n",
    "11B = (XXX, 11Z)\n",
    "11Z = (11B, XXX)\n",
    "22A = (22B, XXX)\n",
    "22B = (22C, 22C)\n",
    "22C = (22Z, 22Z)\n",
    "22Z = (22B, 22B)\n",
    "XXX = (XXX, XXX)\"\"\"\n",
    "lines = test_input.split('\\n')"
   ]
  },
  {
   "cell_type": "code",
   "execution_count": 52,
   "id": "4b861a7a",
   "metadata": {},
   "outputs": [
    {
     "name": "stdout",
     "output_type": "stream",
     "text": [
      "['FQA', 'JSA', 'GJA', 'PBA', 'AAA', 'NNA']\n",
      "\n",
      "18727\n",
      "\n",
      "24253\n",
      "\n",
      "18113\n",
      "\n",
      "22411\n",
      "\n",
      "21797\n",
      "\n",
      "16271\n",
      "\n",
      "[18727, 24253, 18113, 22411, 21797, 16271]\n",
      "23977527174353\n"
     ]
    }
   ],
   "source": [
    "order = lines[0]\n",
    "order = [1 if c == 'R' else 0 for c in order]\n",
    "\n",
    "currents = []\n",
    "graph = {}\n",
    "for line in lines[2:]:\n",
    "    node, left, right =  re.findall('\\w{3}', line)\n",
    "    graph[node] = (left, right)\n",
    "    if node[2] == 'A':\n",
    "        currents.append(node)\n",
    "\n",
    "print(currents) \n",
    "\n",
    "steps = []\n",
    "for i in range(len(currents)):\n",
    "\n",
    "    step = 0\n",
    "    while currents[i][2] != 'Z':\n",
    "        direction = order[step % len(order)]\n",
    "\n",
    "        stop = True\n",
    "        currents[i] = graph[currents[i]][direction]\n",
    "        stop = stop and currents[i][2] == 'Z' \n",
    "        step += 1\n",
    "\n",
    "\n",
    "    print()\n",
    "    print(step)\n",
    "    steps.append(step)\n",
    "print()  \n",
    "\n",
    "print(steps)\n",
    "print(math.lcm(*steps))"
   ]
  },
  {
   "cell_type": "code",
   "execution_count": null,
   "id": "3d29ddb7",
   "metadata": {},
   "outputs": [],
   "source": []
  }
 ],
 "metadata": {
  "kernelspec": {
   "display_name": "Python 3 (ipykernel)",
   "language": "python",
   "name": "python3"
  },
  "language_info": {
   "codemirror_mode": {
    "name": "ipython",
    "version": 3
   },
   "file_extension": ".py",
   "mimetype": "text/x-python",
   "name": "python",
   "nbconvert_exporter": "python",
   "pygments_lexer": "ipython3",
   "version": "3.10.9"
  }
 },
 "nbformat": 4,
 "nbformat_minor": 5
}
