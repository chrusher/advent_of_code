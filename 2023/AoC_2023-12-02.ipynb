{
 "cells": [
  {
   "cell_type": "code",
   "execution_count": 12,
   "id": "619b57e8",
   "metadata": {},
   "outputs": [],
   "source": [
    "test_input = \"\"\"Game 1: 3 blue, 4 red; 1 red, 2 green, 6 blue; 2 green\n",
    "Game 2: 1 blue, 2 green; 3 green, 4 blue, 1 red; 1 green, 1 blue\n",
    "Game 3: 8 green, 6 blue, 20 red; 5 blue, 4 red, 13 green; 5 green, 1 red\n",
    "Game 4: 1 green, 3 red, 6 blue; 3 green, 6 red; 3 green, 15 blue, 14 red\n",
    "Game 5: 6 red, 1 blue, 3 green; 2 blue, 1 red, 2 green\"\"\"\n",
    "lines = test_input.split('\\n')"
   ]
  },
  {
   "cell_type": "code",
   "execution_count": 16,
   "id": "88c0e976",
   "metadata": {},
   "outputs": [],
   "source": [
    "lines = open('AoC_2023-12-02_input').readlines()"
   ]
  },
  {
   "cell_type": "code",
   "execution_count": 11,
   "id": "c887c207",
   "metadata": {},
   "outputs": [
    {
     "name": "stdout",
     "output_type": "stream",
     "text": [
      "2528\n"
     ]
    }
   ],
   "source": [
    "# part 1\n",
    "\n",
    "maxima = {'red':12, 'green':13, 'blue':14}\n",
    "\n",
    "total = 0\n",
    "for line in lines:\n",
    "    valid = True\n",
    "    game, cubes = line.split(':')\n",
    "    game = int(game.split()[-1])\n",
    "    draws = cubes.split(';')\n",
    "    for draw in draws:\n",
    "        counts = draw.split(',')\n",
    "        for count in counts:\n",
    "            number, colour = count.split()\n",
    "            if int(number) > maxima[colour]:\n",
    "                valid = False\n",
    "    if valid:\n",
    "        total += game\n",
    "    \n",
    "print(total)"
   ]
  },
  {
   "cell_type": "code",
   "execution_count": 17,
   "id": "06c381b0",
   "metadata": {},
   "outputs": [
    {
     "name": "stdout",
     "output_type": "stream",
     "text": [
      "67363\n"
     ]
    }
   ],
   "source": [
    "# part 2\n",
    "\n",
    "colours = ['red', 'green', 'blue']\n",
    "total = 0\n",
    "for line in lines:\n",
    "    \n",
    "    maxima = {colour:0 for colour in colours}\n",
    "    game, cubes = line.split(':')\n",
    "    game = int(game.split()[-1])\n",
    "    draws = cubes.split(';')\n",
    "    for draw in draws:\n",
    "        counts = draw.split(',')\n",
    "        for count in counts:\n",
    "            number, colour = count.split()\n",
    "            maxima[colour] = max(int(number), maxima[colour])\n",
    "    \n",
    "    product = 1\n",
    "    for colour in colours:\n",
    "        product *= maxima[colour]\n",
    "    total += product\n",
    "\n",
    "print(total)"
   ]
  },
  {
   "cell_type": "code",
   "execution_count": null,
   "id": "56a37fb6",
   "metadata": {},
   "outputs": [],
   "source": []
  }
 ],
 "metadata": {
  "kernelspec": {
   "display_name": "Python 3 (ipykernel)",
   "language": "python",
   "name": "python3"
  },
  "language_info": {
   "codemirror_mode": {
    "name": "ipython",
    "version": 3
   },
   "file_extension": ".py",
   "mimetype": "text/x-python",
   "name": "python",
   "nbconvert_exporter": "python",
   "pygments_lexer": "ipython3",
   "version": "3.10.9"
  }
 },
 "nbformat": 4,
 "nbformat_minor": 5
}
