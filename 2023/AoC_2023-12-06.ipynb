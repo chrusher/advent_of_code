{
 "cells": [
  {
   "cell_type": "code",
   "execution_count": 16,
   "id": "bc8be9e5",
   "metadata": {},
   "outputs": [],
   "source": [
    "test_input = \"\"\"Time:      7  15   30\n",
    "Distance:  9  40  200\"\"\"\n",
    "lines = test_input.split('\\n')"
   ]
  },
  {
   "cell_type": "code",
   "execution_count": 20,
   "id": "f5e80d01",
   "metadata": {},
   "outputs": [],
   "source": [
    "real_input = \"\"\"Time:        42     89     91     89\n",
    "Distance:   308   1170   1291   1467\"\"\"\n",
    "lines = real_input.split('\\n')"
   ]
  },
  {
   "cell_type": "code",
   "execution_count": 15,
   "id": "a74fdefb",
   "metadata": {},
   "outputs": [
    {
     "name": "stdout",
     "output_type": "stream",
     "text": [
      "[42, 89, 91, 89] [308, 1170, 1291, 1467]\n",
      "42 308\n",
      "23\n",
      "\n",
      "89 1170\n",
      "56\n",
      "\n",
      "91 1291\n",
      "56\n",
      "\n",
      "89 1467\n",
      "46\n",
      "\n",
      "3317888\n"
     ]
    }
   ],
   "source": [
    "# part 1\n",
    "\n",
    "times = [int(time) for time in lines[0].split(':')[1].split()]\n",
    "distances = [int(dist) for dist in lines[1].split(':')[1].split()]\n",
    "print(times, distances)\n",
    "\n",
    "total = 1\n",
    "for time, distance in zip(times, distances):\n",
    "    print(time, distance)\n",
    "    \n",
    "    count = 0\n",
    "    for t in range(time):\n",
    "        d = t * (time - t)\n",
    "        if d > distance:\n",
    "#             print(t)\n",
    "            count += 1\n",
    "    print(count)        \n",
    "    total = total * count\n",
    "    \n",
    "    print()\n",
    "\n",
    "print(total)"
   ]
  },
  {
   "cell_type": "code",
   "execution_count": 21,
   "id": "aabdf7be",
   "metadata": {},
   "outputs": [
    {
     "name": "stdout",
     "output_type": "stream",
     "text": [
      "42899189 308117012911467\n",
      "24655068\n"
     ]
    }
   ],
   "source": [
    "# part 2\n",
    "time = int(lines[0].split(':')[1].replace(' ', ''))\n",
    "distance = int(lines[1].split(':')[1].replace(' ', ''))\n",
    "\n",
    "print(time, distance)\n",
    "\n",
    "count = 0\n",
    "for t in range(time):\n",
    "    d = t * (time - t)\n",
    "    if d > distance:\n",
    "#             print(t)\n",
    "        count += 1\n",
    "print(count)        \n"
   ]
  },
  {
   "cell_type": "code",
   "execution_count": null,
   "id": "aed5b0ea",
   "metadata": {},
   "outputs": [],
   "source": []
  }
 ],
 "metadata": {
  "kernelspec": {
   "display_name": "Python 3 (ipykernel)",
   "language": "python",
   "name": "python3"
  },
  "language_info": {
   "codemirror_mode": {
    "name": "ipython",
    "version": 3
   },
   "file_extension": ".py",
   "mimetype": "text/x-python",
   "name": "python",
   "nbconvert_exporter": "python",
   "pygments_lexer": "ipython3",
   "version": "3.10.9"
  }
 },
 "nbformat": 4,
 "nbformat_minor": 5
}
