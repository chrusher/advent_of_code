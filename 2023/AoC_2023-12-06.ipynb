{
 "cells": [
  {
   "cell_type": "code",
   "execution_count": 8,
   "id": "f80c9585",
   "metadata": {},
   "outputs": [],
   "source": [
    "import datetime"
   ]
  },
  {
   "cell_type": "code",
   "execution_count": 1,
   "id": "bc8be9e5",
   "metadata": {},
   "outputs": [],
   "source": [
    "test_input = \"\"\"Time:      7  15   30\n",
    "Distance:  9  40  200\"\"\"\n",
    "lines = test_input.split('\\n')"
   ]
  },
  {
   "cell_type": "code",
   "execution_count": 5,
   "id": "f5e80d01",
   "metadata": {},
   "outputs": [],
   "source": [
    "real_input = \"\"\"Time:        42     89     91     89\n",
    "Distance:   308   1170   1291   1467\"\"\"\n",
    "lines = real_input.split('\\n')"
   ]
  },
  {
   "cell_type": "code",
   "execution_count": 24,
   "id": "a74fdefb",
   "metadata": {},
   "outputs": [
    {
     "name": "stdout",
     "output_type": "stream",
     "text": [
      "[42, 89, 91, 89] [308, 1170, 1291, 1467]\n",
      "42 308\n",
      "23\n",
      "\n",
      "89 1170\n",
      "56\n",
      "\n",
      "91 1291\n",
      "56\n",
      "\n",
      "89 1467\n",
      "46\n",
      "\n",
      "3317888\n"
     ]
    }
   ],
   "source": [
    "# part 1\n",
    "\n",
    "times = [int(time) for time in lines[0].split(':')[1].split()]\n",
    "distances = [int(dist) for dist in lines[1].split(':')[1].split()]\n",
    "print(times, distances)\n",
    "\n",
    "total = 1\n",
    "for time, distance in zip(times, distances):\n",
    "    print(time, distance)\n",
    "    \n",
    "    count = 0\n",
    "    for t in range(time):\n",
    "        d = t * (time - t)\n",
    "        if d > distance:\n",
    "#             print(t)\n",
    "            count += 1\n",
    "    print(count)        \n",
    "    total = total * count\n",
    "    \n",
    "    print()\n",
    "\n",
    "print(total)"
   ]
  },
  {
   "cell_type": "code",
   "execution_count": 9,
   "id": "aabdf7be",
   "metadata": {},
   "outputs": [
    {
     "name": "stdout",
     "output_type": "stream",
     "text": [
      "42899189 308117012911467\n",
      "24655068\n",
      "0:00:08.620687\n"
     ]
    }
   ],
   "source": [
    "start = datetime.datetime.now()\n",
    "\n",
    "# part 2\n",
    "time = int(lines[0].split(':')[1].replace(' ', ''))\n",
    "distance = int(lines[1].split(':')[1].replace(' ', ''))\n",
    "\n",
    "print(time, distance)\n",
    "\n",
    "count = 0\n",
    "for t in range(time):\n",
    "    d = t * (time - t)\n",
    "    if d > distance:\n",
    "#             print(t)\n",
    "        count += 1\n",
    "print(count)        \n",
    "\n",
    "print(datetime.datetime.now() - start)"
   ]
  },
  {
   "cell_type": "code",
   "execution_count": 10,
   "id": "394e64c9",
   "metadata": {},
   "outputs": [
    {
     "name": "stdout",
     "output_type": "stream",
     "text": [
      "[42, 89, 91, 89] [308, 1170, 1291, 1467]\n",
      "42 308\n",
      "23\n",
      "\n",
      "89 1170\n",
      "56\n",
      "\n",
      "91 1291\n",
      "56\n",
      "\n",
      "89 1467\n",
      "46\n",
      "\n",
      "3317888\n",
      "\n",
      "42899189 308117012911467\n",
      "24655068\n",
      "0:00:00.000276\n"
     ]
    }
   ],
   "source": [
    "# smarter version of both parts\n",
    "\n",
    "import math\n",
    "def calc_range(time, dist):\n",
    "    lower = (time - (time**2 - 4 * dist)**0.5) / 2    \n",
    "    upper = (time + (time**2 - 4 * dist)**0.5) / 2\n",
    "    lower = int(lower) + 1\n",
    "    if upper % 1:\n",
    "        upper = int(upper)\n",
    "    else:\n",
    "        upper = int(upper) - 1\n",
    "    return upper - lower + 1\n",
    "    \n",
    "times = [int(time) for time in lines[0].split(':')[1].split()]\n",
    "distances = [int(dist) for dist in lines[1].split(':')[1].split()]\n",
    "print(times, distances)\n",
    "\n",
    "total = 1\n",
    "for time, distance in zip(times, distances):\n",
    "    print(time, distance)\n",
    "    count = calc_range(time, distance)\n",
    "    print(count)\n",
    "    total = total * count\n",
    "    print()\n",
    "    \n",
    "print(total)\n",
    "print()\n",
    "\n",
    "start = datetime.datetime.now()\n",
    "time = int(lines[0].split(':')[1].replace(' ', ''))\n",
    "distance = int(lines[1].split(':')[1].replace(' ', ''))\n",
    "\n",
    "print(time, distance)\n",
    "print(calc_range(time, distance))\n",
    "print(datetime.datetime.now() - start)"
   ]
  },
  {
   "cell_type": "code",
   "execution_count": 11,
   "id": "847a8708",
   "metadata": {},
   "outputs": [
    {
     "name": "stdout",
     "output_type": "stream",
     "text": [
      "[42, 89, 91, 89] [308, 1170, 1291, 1467]\n",
      "42 308\n",
      "23\n",
      "89 1170\n",
      "56\n",
      "91 1291\n",
      "56\n",
      "89 1467\n",
      "46\n",
      "42899189 308117012911467\n",
      "24655068\n",
      "0:00:00.433727\n"
     ]
    }
   ],
   "source": [
    "# numpy solution\n",
    "\n",
    "import numpy as np\n",
    "\n",
    "times = [int(time) for time in lines[0].split(':')[1].split()]\n",
    "distances = [int(dist) for dist in lines[1].split(':')[1].split()]\n",
    "print(times, distances)\n",
    "\n",
    "total = 1\n",
    "for time, distance in zip(times, distances):\n",
    "    print(time, distance)\n",
    "    ts = np.arange(time)\n",
    "    ds = ts * (time - ts)\n",
    "    \n",
    "    print((ds > distance).sum())\n",
    "     \n",
    "start = datetime.datetime.now()\n",
    "time = int(lines[0].split(':')[1].replace(' ', ''))\n",
    "distance = int(lines[1].split(':')[1].replace(' ', ''))\n",
    "print(time, distance)\n",
    "ts = np.arange(time)\n",
    "ds = ts * (time - ts)\n",
    "\n",
    "print((ds > distance).sum())\n",
    "print(datetime.datetime.now() - start)"
   ]
  },
  {
   "cell_type": "code",
   "execution_count": null,
   "id": "6da11e5f",
   "metadata": {},
   "outputs": [],
   "source": []
  }
 ],
 "metadata": {
  "kernelspec": {
   "display_name": "Python 3 (ipykernel)",
   "language": "python",
   "name": "python3"
  },
  "language_info": {
   "codemirror_mode": {
    "name": "ipython",
    "version": 3
   },
   "file_extension": ".py",
   "mimetype": "text/x-python",
   "name": "python",
   "nbconvert_exporter": "python",
   "pygments_lexer": "ipython3",
   "version": "3.10.9"
  }
 },
 "nbformat": 4,
 "nbformat_minor": 5
}
