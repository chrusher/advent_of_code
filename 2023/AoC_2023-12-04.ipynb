{
 "cells": [
  {
   "cell_type": "code",
   "execution_count": 8,
   "id": "4adbc0f6",
   "metadata": {},
   "outputs": [],
   "source": [
    "test_input = \"\"\"Card 1: 41 48 83 86 17 | 83 86  6 31 17  9 48 53\n",
    "Card 2: 13 32 20 16 61 | 61 30 68 82 17 32 24 19\n",
    "Card 3:  1 21 53 59 44 | 69 82 63 72 16 21 14  1\n",
    "Card 4: 41 92 73 84 69 | 59 84 76 51 58  5 54 83\n",
    "Card 5: 87 83 26 28 32 | 88 30 70 12 93 22 82 36\n",
    "Card 6: 31 18 13 56 72 | 74 77 10 23 35 67 36 11\"\"\"\n",
    "\n",
    "lines = test_input.split('\\n')"
   ]
  },
  {
   "cell_type": "code",
   "execution_count": 15,
   "id": "00cf36c6",
   "metadata": {},
   "outputs": [],
   "source": [
    "lines = [line.strip() for line in open('AoC_2023-12-04_input')]"
   ]
  },
  {
   "cell_type": "code",
   "execution_count": 6,
   "id": "d71968a0",
   "metadata": {},
   "outputs": [
    {
     "name": "stdout",
     "output_type": "stream",
     "text": [
      "18519\n"
     ]
    }
   ],
   "source": [
    "# part 1\n",
    "total = 0\n",
    "for line in lines:\n",
    "    card, numbers = line.split(':')\n",
    "#     print(card)     \n",
    "    card = int(card.split()[-1])   \n",
    "    winners, numbers = numbers.split('|')\n",
    "    winners = winners.split()\n",
    "    count = -1\n",
    "    for number in numbers.split():\n",
    "        if number in winners:\n",
    "            count += 1\n",
    "#             print(number)\n",
    "    if count >= 0:\n",
    "#         print(2**count)\n",
    "        total += 2**count\n",
    "#     print()\n",
    "    \n",
    "print(total)"
   ]
  },
  {
   "cell_type": "code",
   "execution_count": 16,
   "id": "054d0489",
   "metadata": {},
   "outputs": [
    {
     "name": "stdout",
     "output_type": "stream",
     "text": [
      "11787590\n"
     ]
    }
   ],
   "source": [
    "# part 2\n",
    "cards = {}\n",
    "for line in lines:\n",
    "    card, numbers = line.split(':')\n",
    "#     print(card)     \n",
    "    card = int(card.split()[-1])   \n",
    "    winners, numbers = numbers.split('|')\n",
    "    winners = winners.split()\n",
    "    count = 0\n",
    "    for number in numbers.split():\n",
    "        if number in winners:\n",
    "            count += 1\n",
    "    cards[card] = count\n",
    "    \n",
    "# print(cards)\n",
    "\n",
    "counts = {card:1 for card in cards}\n",
    "\n",
    "for card in cards:\n",
    "    \n",
    "    for i in range(card + 1, card + 1 + cards[card]):\n",
    "        counts[i] += counts[card]\n",
    "        \n",
    "# print(counts)\n",
    "print(sum(counts.values()))"
   ]
  },
  {
   "cell_type": "code",
   "execution_count": null,
   "id": "4eee3562",
   "metadata": {},
   "outputs": [],
   "source": []
  }
 ],
 "metadata": {
  "kernelspec": {
   "display_name": "Python 3 (ipykernel)",
   "language": "python",
   "name": "python3"
  },
  "language_info": {
   "codemirror_mode": {
    "name": "ipython",
    "version": 3
   },
   "file_extension": ".py",
   "mimetype": "text/x-python",
   "name": "python",
   "nbconvert_exporter": "python",
   "pygments_lexer": "ipython3",
   "version": "3.10.9"
  }
 },
 "nbformat": 4,
 "nbformat_minor": 5
}
