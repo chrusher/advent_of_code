{
 "cells": [
  {
   "cell_type": "code",
   "execution_count": 36,
   "id": "0c29710d",
   "metadata": {},
   "outputs": [],
   "source": [
    "test_input = \"\"\"...#......\n",
    ".......#..\n",
    "#.........\n",
    "..........\n",
    "......#...\n",
    ".#........\n",
    ".........#\n",
    "..........\n",
    ".......#..\n",
    "#...#.....\"\"\"\n",
    "lines = test_input.split('\\n')"
   ]
  },
  {
   "cell_type": "code",
   "execution_count": 50,
   "id": "ee9a7d70",
   "metadata": {},
   "outputs": [],
   "source": [
    "lines = [line.strip() for line in open('AoC_2023-12-11_input').readlines()]"
   ]
  },
  {
   "cell_type": "code",
   "execution_count": 42,
   "id": "84f52727",
   "metadata": {},
   "outputs": [
    {
     "name": "stdout",
     "output_type": "stream",
     "text": [
      "2\n",
      "5\n",
      "8\n",
      "{1: (0, 4), 2: (1, 9), 3: (2, 0), 4: (5, 8), 5: (6, 1), 6: (7, 12), 7: (10, 9), 8: (11, 0), 9: (11, 5)}\n",
      "9 galaxies\n",
      "\n",
      "374\n"
     ]
    }
   ],
   "source": [
    "# print('\\n'.join(lines))\n",
    "# print()\n",
    "\n",
    "new_lines = []\n",
    "\n",
    "for line in lines:\n",
    "    new_lines.append(line)\n",
    "    if '#' not in line:\n",
    "        new_lines.append(line)\n",
    "        \n",
    "new_lines       \n",
    "        \n",
    "# print('\\n'.join(new_lines))\n",
    "# print()\n",
    "\n",
    "columns = []\n",
    "for i in range(len(new_lines[0])):\n",
    "    column = [line[i] for line in new_lines]\n",
    "    columns.append(column)\n",
    "    if '#' not in column:\n",
    "        columns.append(column)\n",
    "        \n",
    "rows = []\n",
    "for i in range(len(columns[0])):\n",
    "    row = [column[i] for column in columns]\n",
    "    rows.append(''.join(row))\n",
    "    \n",
    "# print('\\n'.join(rows))\n",
    "# print()\n",
    "\n",
    "galaxies = {}\n",
    "count = 1\n",
    "for i in range(len(rows)):\n",
    "    for j in range(len(rows[0])):\n",
    "        if rows[i][j] == '#':\n",
    "            galaxies[count] = (i, j)\n",
    "            count += 1\n",
    "            \n",
    "print(galaxies)\n",
    "print(len(galaxies), 'galaxies')\n",
    "\n",
    "def distance(first, second):\n",
    "    return abs(first[0] - second[0]) + abs(first[1] - second[1])\n",
    "\n",
    "total = 0\n",
    "\n",
    "for ident in galaxies:\n",
    "    for other in galaxies:\n",
    "        if ident < other:\n",
    "            total += distance(galaxies[ident], galaxies[other])\n",
    "            \n",
    "print()\n",
    "print(total)"
   ]
  },
  {
   "cell_type": "code",
   "execution_count": 52,
   "id": "57680f7e",
   "metadata": {},
   "outputs": [
    {
     "name": "stdout",
     "output_type": "stream",
     "text": [
      "451 galaxies\n",
      "\n",
      "553083047914\n"
     ]
    }
   ],
   "source": [
    "scale = 1000000\n",
    "\n",
    "empty_columns = []\n",
    "for i in range(len(lines[0])):\n",
    "    if '#' not in [line[i] for line in lines]:\n",
    "        empty_columns.append(i)\n",
    "\n",
    "# print(empty_columns)\n",
    "        \n",
    "galaxies = {}\n",
    "count = 1\n",
    "offset = 0\n",
    "for i in range(len(lines)):\n",
    "    if '#' not in lines[i]:\n",
    "        offset += scale - 1\n",
    "        continue\n",
    "    correction = 0\n",
    "    for j in range(len(lines[0])):\n",
    "        if j in empty_columns:\n",
    "            correction += scale - 1\n",
    "        if lines[i][j] == '#':\n",
    "            galaxies[count] = (i + offset, j + correction)\n",
    "            count += 1\n",
    "            \n",
    "# print(galaxies)\n",
    "print(len(galaxies), 'galaxies')\n",
    "\n",
    "def distance(first, second):\n",
    "    return abs(first[0] - second[0]) + abs(first[1] - second[1])\n",
    "\n",
    "total = 0\n",
    "\n",
    "for ident in galaxies:\n",
    "    for other in galaxies:\n",
    "        if ident < other:\n",
    "            total += distance(galaxies[ident], galaxies[other])\n",
    "            \n",
    "print()\n",
    "print(total)\n"
   ]
  },
  {
   "cell_type": "code",
   "execution_count": null,
   "id": "3df3ab84",
   "metadata": {},
   "outputs": [],
   "source": []
  },
  {
   "cell_type": "code",
   "execution_count": null,
   "id": "18c42b49",
   "metadata": {},
   "outputs": [],
   "source": []
  }
 ],
 "metadata": {
  "kernelspec": {
   "display_name": "Python 3 (ipykernel)",
   "language": "python",
   "name": "python3"
  },
  "language_info": {
   "codemirror_mode": {
    "name": "ipython",
    "version": 3
   },
   "file_extension": ".py",
   "mimetype": "text/x-python",
   "name": "python",
   "nbconvert_exporter": "python",
   "pygments_lexer": "ipython3",
   "version": "3.10.9"
  }
 },
 "nbformat": 4,
 "nbformat_minor": 5
}
