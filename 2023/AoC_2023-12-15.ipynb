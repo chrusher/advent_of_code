{
 "cells": [
  {
   "cell_type": "code",
   "execution_count": 27,
   "id": "9d87448f",
   "metadata": {},
   "outputs": [],
   "source": [
    "test_input = 'rn=1,cm-,qp=3,cm=2,qp-,pc=4,ot=9,ab=5,pc-,pc=6,ot=7'"
   ]
  },
  {
   "cell_type": "code",
   "execution_count": 21,
   "id": "d667dec4",
   "metadata": {},
   "outputs": [],
   "source": [
    "real_input = open('AoC_2023-12-15_input').readline().strip()"
   ]
  },
  {
   "cell_type": "code",
   "execution_count": 23,
   "id": "fed6f393",
   "metadata": {},
   "outputs": [
    {
     "name": "stdout",
     "output_type": "stream",
     "text": [
      "513158\n"
     ]
    }
   ],
   "source": [
    "# part 1\n",
    "\n",
    "commands = real_input.split(',')\n",
    "\n",
    "total = 0\n",
    "for command in commands:\n",
    "#     print(command)\n",
    "    value = 0\n",
    "    for c in command:\n",
    "        value += ord(c)\n",
    "        value = value * 17\n",
    "        value = value % 256\n",
    "    total += value\n",
    "#     print(value)\n",
    "#     print()\n",
    "    \n",
    "print(total)\n"
   ]
  },
  {
   "cell_type": "code",
   "execution_count": 35,
   "id": "a46ea60a",
   "metadata": {},
   "outputs": [
    {
     "name": "stdout",
     "output_type": "stream",
     "text": [
      "0 rn 1 1\n",
      "0 cm 2 2\n",
      "3 ot 1 7\n",
      "3 ab 2 5\n",
      "3 pc 3 6\n",
      "105\n"
     ]
    }
   ],
   "source": [
    "# part 2\n",
    "\n",
    "def hashmap(s):\n",
    "    value = 0\n",
    "    for c in s:\n",
    "        value += ord(c)\n",
    "        value = value * 17\n",
    "        value = value % 256\n",
    "    return value   \n",
    "\n",
    "commands = test_input.split(',')\n",
    "\n",
    "\n",
    "boxes = {}\n",
    "for command in commands:\n",
    "    \n",
    "    if '=' in command:\n",
    "        label, focal = command.split('=')\n",
    "        box = hashmap(label)\n",
    "        if box in boxes:\n",
    "            boxes[box][label] = focal\n",
    "        else:\n",
    "            boxes[box] = {label:focal}     \n",
    "        \n",
    "    else:\n",
    "        label = command[:-1]\n",
    "        box = hashmap(label)\n",
    "        if box in boxes and label in boxes[box]:\n",
    "            del boxes[box][label]\n",
    "\n",
    "total = 0\n",
    "for box in boxes:\n",
    "    for i, label in enumerate(boxes[box]):\n",
    "        print(box, label, i + 1, int(boxes[box][label]))\n",
    "        total += (box + 1) * (i + 1) * int(boxes[box][label])\n",
    "\n",
    "print(total)"
   ]
  },
  {
   "cell_type": "code",
   "execution_count": null,
   "id": "f45f7b18",
   "metadata": {},
   "outputs": [],
   "source": []
  }
 ],
 "metadata": {
  "kernelspec": {
   "display_name": "Python 3 (ipykernel)",
   "language": "python",
   "name": "python3"
  },
  "language_info": {
   "codemirror_mode": {
    "name": "ipython",
    "version": 3
   },
   "file_extension": ".py",
   "mimetype": "text/x-python",
   "name": "python",
   "nbconvert_exporter": "python",
   "pygments_lexer": "ipython3",
   "version": "3.10.9"
  }
 },
 "nbformat": 4,
 "nbformat_minor": 5
}
