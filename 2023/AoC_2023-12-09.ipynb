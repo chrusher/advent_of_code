{
 "cells": [
  {
   "cell_type": "code",
   "execution_count": 21,
   "id": "514ca8f8",
   "metadata": {},
   "outputs": [],
   "source": [
    "test_input = \"\"\"0 3 6 9 12 15\n",
    "1 3 6 10 15 21\n",
    "10 13 16 21 30 45\"\"\"\n",
    "lines = test_input.split('\\n')"
   ]
  },
  {
   "cell_type": "code",
   "execution_count": 27,
   "id": "86f6989b",
   "metadata": {},
   "outputs": [],
   "source": [
    "lines = [line.strip() for line in open('AoC_2023-12-09_input')]"
   ]
  },
  {
   "cell_type": "code",
   "execution_count": 20,
   "id": "bbe76ce8",
   "metadata": {},
   "outputs": [
    {
     "name": "stdout",
     "output_type": "stream",
     "text": [
      "1819125966\n"
     ]
    }
   ],
   "source": [
    "# part 1\n",
    "total = 0\n",
    "for line in lines:\n",
    "    numbers = [int(number) for number in line.split()]\n",
    "    diff = numbers\n",
    "    diffs = [diff]\n",
    "    while True:\n",
    "        diff = [diff[i + 1] - diff[i] for i in range(len(diff) - 1)]\n",
    "        diffs.append(diff)\n",
    "        if not any(diff):\n",
    "#             print(diff)\n",
    "            break\n",
    "#     print(diffs)\n",
    "    \n",
    "    for i in range(len(diffs) - 2, -1, -1):\n",
    "        \n",
    "        diffs[i].append(diffs[i][-1] + diffs[i + 1][-1])\n",
    "#         print(diffs[i])\n",
    "        \n",
    "#     print()\n",
    "    total += diffs[0][-1]\n",
    "    \n",
    "print(total)"
   ]
  },
  {
   "cell_type": "code",
   "execution_count": 29,
   "id": "aeef2c55",
   "metadata": {},
   "outputs": [
    {
     "name": "stdout",
     "output_type": "stream",
     "text": [
      "1140\n"
     ]
    }
   ],
   "source": [
    "# part 2\n",
    "total = 0\n",
    "for line in lines:\n",
    "    numbers = [int(number) for number in line.split()]\n",
    "    diff = numbers\n",
    "    diffs = [diff]\n",
    "    while True:\n",
    "        diff = [diff[i + 1] - diff[i] for i in range(len(diff) - 1)]\n",
    "        diffs.append(diff)\n",
    "        if not any(diff):\n",
    "#             print(diff)\n",
    "            break\n",
    "#     print(diffs)\n",
    "    \n",
    "    for i in range(len(diffs) - 2, -1, -1):\n",
    "        diffs[i] =  [diffs[i][0] - diffs[i + 1][0]] + diffs[i]\n",
    "#         print(diffs[i])\n",
    "        \n",
    "#     print()\n",
    "    total += diffs[0][0]\n",
    "    \n",
    "print(total)"
   ]
  },
  {
   "cell_type": "code",
   "execution_count": null,
   "id": "d1a01b23",
   "metadata": {},
   "outputs": [],
   "source": []
  }
 ],
 "metadata": {
  "kernelspec": {
   "display_name": "Python 3 (ipykernel)",
   "language": "python",
   "name": "python3"
  },
  "language_info": {
   "codemirror_mode": {
    "name": "ipython",
    "version": 3
   },
   "file_extension": ".py",
   "mimetype": "text/x-python",
   "name": "python",
   "nbconvert_exporter": "python",
   "pygments_lexer": "ipython3",
   "version": "3.10.9"
  }
 },
 "nbformat": 4,
 "nbformat_minor": 5
}
