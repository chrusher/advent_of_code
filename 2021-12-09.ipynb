{
 "cells": [
  {
   "cell_type": "code",
   "execution_count": 19,
   "metadata": {},
   "outputs": [],
   "source": [
    "import numpy as np\n",
    "import matplotlib.pyplot as plt"
   ]
  },
  {
   "cell_type": "code",
   "execution_count": 21,
   "metadata": {},
   "outputs": [],
   "source": [
    "raw = \"\"\"2199943210\n",
    "3987894921\n",
    "9856789892\n",
    "8767896789\n",
    "9899965678\"\"\""
   ]
  },
  {
   "cell_type": "code",
   "execution_count": 48,
   "metadata": {},
   "outputs": [],
   "source": [
    "with open('2021-12-09_input') as f:\n",
    "    raw = f.read().strip()"
   ]
  },
  {
   "cell_type": "code",
   "execution_count": 22,
   "metadata": {},
   "outputs": [
    {
     "name": "stdout",
     "output_type": "stream",
     "text": [
      "[[2 1 9 9 9 4 3 2 1 0]\n",
      " [3 9 8 7 8 9 4 9 2 1]\n",
      " [9 8 5 6 7 8 9 8 9 2]\n",
      " [8 7 6 7 8 9 6 7 8 9]\n",
      " [9 8 9 9 9 6 5 6 7 8]]\n",
      "[[False  True False False False False False False False  True]\n",
      " [False False False False False False False False False False]\n",
      " [False False  True False False False False False False False]\n",
      " [False False False False False False False False False False]\n",
      " [False False False False False False  True False False False]]\n",
      "15\n",
      "[[ True  True False False False  True  True  True  True  True]\n",
      " [ True False  True  True  True False  True False  True  True]\n",
      " [False  True  True  True  True  True False  True False  True]\n",
      " [ True  True  True  True  True False  True  True  True False]\n",
      " [False  True False False False  True  True  True  True  True]]\n"
     ]
    },
    {
     "data": {
      "text/plain": [
       "<matplotlib.image.AxesImage at 0x11a1facd0>"
      ]
     },
     "execution_count": 22,
     "metadata": {},
     "output_type": "execute_result"
    },
    {
     "data": {
      "image/png": "[encoded data removed]",
      "text/plain": [
       "<Figure size 720x720 with 1 Axes>"
      ]
     },
     "metadata": {
      "needs_background": "light"
     },
     "output_type": "display_data"
    }
   ],
   "source": [
    "#part one\n",
    "numbers = np.array([list(line) for line in raw.split('\\n')], dtype=np.int_)\n",
    "print(numbers)\n",
    "\n",
    "minima = np.zeros(numbers.shape, dtype=np.bool_)\n",
    "\n",
    "\n",
    "for i in range(0, numbers.shape[0]):\n",
    "    for j in range(0, numbers.shape[1]):\n",
    "        \n",
    "        adjacent = []\n",
    "        if i - 1 >= 0:\n",
    "            adjacent.append(numbers[i - 1,j])\n",
    "        if i + 1 < numbers.shape[0]:\n",
    "            adjacent.append(numbers[i + 1,j])\n",
    "        if j - 1 >= 0:\n",
    "            adjacent.append(numbers[i,j - 1])\n",
    "        if j + 1 < numbers.shape[1]:\n",
    "            adjacent.append(numbers[i,j + 1])\n",
    "            \n",
    "        \n",
    "        if numbers[i,j] < min(adjacent):\n",
    "            minima[i,j] = True\n",
    "\n",
    "print(minima)\n",
    "print((numbers[minima] + 1).sum())\n",
    "\n",
    "print(numbers < 9)\n",
    "\n",
    "plt.figure(figsize=(10, 10))\n",
    "plt.imshow(numbers < 9)\n",
    "\n",
    "\n"
   ]
  },
  {
   "cell_type": "code",
   "execution_count": 50,
   "metadata": {
    "scrolled": false
   },
   "outputs": [
    {
     "name": "stdout",
     "output_type": "stream",
     "text": [
      "[[9 8 6 ... 2 1 0]\n",
      " [2 9 9 ... 3 2 2]\n",
      " [3 9 8 ... 4 5 3]\n",
      " ...\n",
      " [9 8 7 ... 3 1 2]\n",
      " [2 9 9 ... 3 2 4]\n",
      " [1 2 3 ... 4 3 5]]\n",
      "(100, 100)\n",
      "[[9 9 9 ... 9 9 9]\n",
      " [9 9 8 ... 1 0 9]\n",
      " [9 2 9 ... 2 2 9]\n",
      " ...\n",
      " [9 2 9 ... 2 4 9]\n",
      " [9 1 2 ... 3 5 9]\n",
      " [9 9 9 ... 9 9 9]]\n",
      "[12, 26, 4, 33, 18, 18, 13, 63, 63, 17, 4, 27, 2, 72, 52, 73, 33, 53, 60, 83, 47, 4, 55, 16, 37, 89, 4, 21, 14, 23, 59, 2, 57, 33, 2, 65, 69, 3, 4, 40, 33, 39, 16, 54, 23, 77, 18, 81, 3, 4, 14, 2, 63, 18, 53, 16, 25, 2, 80, 4, 52, 67, 56, 15, 42, 34, 17, 47, 3, 30, 33, 2, 11, 15, 41, 10, 24, 34, 60, 4, 8, 15, 14, 5, 81, 29, 43, 72, 9, 44, 5, 3, 18, 30, 8, 18, 13, 5, 15, 43, 41, 14, 26, 3, 13, 3, 65, 45, 29, 2, 22, 93, 7, 68, 2, 5, 45, 10, 26, 20, 98, 10, 77, 19, 95, 32, 15, 11, 7, 10, 55, 4, 11, 70, 48, 36, 72, 100, 11, 30, 23, 20, 18, 12, 38, 17, 74, 67, 65, 69, 40, 4, 2, 21, 9, 59, 5, 19, 2, 28, 10, 97, 46, 13, 23, 14, 39, 60, 2, 2, 7, 26, 2, 53, 8, 33, 24, 7, 4, 29, 41, 75, 2, 95, 5, 38, 18, 21, 54, 18, 9, 12, 25, 68, 28, 37, 33, 6, 2, 24, 76, 51, 60, 93, 52, 91, 39, 39, 24, 19, 32, 7, 6, 4, 11, 72, 11, 6, 6, 5, 50, 41, 52, 66, 2, 63, 36, 46, 17, 2, 19, 22, 13, 5, 4, 4, 2]\n",
      "950600\n"
     ]
    }
   ],
   "source": [
    "numbers = np.array([list(line) for line in raw.split('\\n')], dtype=np.int_)\n",
    "print(numbers)\n",
    "\n",
    "print(numbers.shape)\n",
    "\n",
    "padded = 9 * np.ones([numbers.shape[0] + 2, numbers.shape[1] + 2], dtype=np.int_)\n",
    "padded[1:-1,1:-1] = numbers\n",
    "print(padded)\n",
    "\n",
    "minima = []\n",
    "basins = []\n",
    "in_basins = set()\n",
    "\n",
    "for i in range(1, padded.shape[0] - 1):\n",
    "    for j in range(1, padded.shape[1] - 1):\n",
    "        if padded[i,j] == 9 or (i, j) in in_basins:\n",
    "            continue\n",
    "        \n",
    "        k = i\n",
    "        l = j\n",
    "        while True:\n",
    "            adjacent = [padded[k - 1,l], padded[k + 1,l], padded[k,l - 1], padded[k,l + 1]]\n",
    "            if min(adjacent) > padded[k,l]:\n",
    "                minimum = (k, l)\n",
    "                break\n",
    "            lowest = [(k - 1,l), (k + 1,l), (k,l - 1), (k,l + 1)][adjacent.index(min(adjacent))]\n",
    "            k, l = lowest\n",
    "        \n",
    "#         print(minima)\n",
    "        minima.append(padded[minimum[0], minimum[1]] + 1)\n",
    "        this_basin = set((minimum,))\n",
    "#         print(this_basin)\n",
    "        \n",
    "        outside = set((minimum,))\n",
    "        \n",
    "        while outside:\n",
    "            \n",
    "            adjacent = set()\n",
    "            this_basin = this_basin | outside\n",
    "            for entry in outside:\n",
    "                k, l = entry\n",
    "                adjacent = adjacent | set([point for point in [(k - 1,l), (k + 1,l), (k,l - 1), (k,l + 1)] if (padded[point[0],point[1]] < 9) and point not in this_basin])\n",
    "                \n",
    "            outside = adjacent\n",
    "            \n",
    "#         print(this_basin)\n",
    "        basins.append(len(this_basin))\n",
    "        in_basins = in_basins | this_basin\n",
    "        \n",
    "        \n",
    "#         print()\n",
    "        \n",
    "        \n",
    "print(sum(minima))\n",
    "basins.sort()\n",
    "print(basins[-1] * basins[-2] * basins[-3])"
   ]
  },
  {
   "cell_type": "code",
   "execution_count": 30,
   "metadata": {},
   "outputs": [
    {
     "data": {
      "text/plain": [
       "1"
      ]
     },
     "execution_count": 30,
     "metadata": {},
     "output_type": "execute_result"
    }
   ],
   "source": [
    "padded[1,2]"
   ]
  },
  {
   "cell_type": "code",
   "execution_count": null,
   "metadata": {},
   "outputs": [],
   "source": []
  }
 ],
 "metadata": {
  "kernelspec": {
   "display_name": "Python 3",
   "language": "python",
   "name": "python3"
  },
  "language_info": {
   "codemirror_mode": {
    "name": "ipython",
    "version": 3
   },
   "file_extension": ".py",
   "mimetype": "text/x-python",
   "name": "python",
   "nbconvert_exporter": "python",
   "pygments_lexer": "ipython3",
   "version": "3.8.3"
  }
 },
 "nbformat": 4,
 "nbformat_minor": 4
}
