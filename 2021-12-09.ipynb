{
 "cells": [
  {
   "cell_type": "code",
   "execution_count": 1,
   "metadata": {},
   "outputs": [],
   "source": [
    "import numpy as np\n",
    "import matplotlib.pyplot as plt"
   ]
  },
  {
   "cell_type": "code",
   "execution_count": 2,
   "metadata": {},
   "outputs": [],
   "source": [
    "raw = \"\"\"2199943210\n",
    "3987894921\n",
    "9856789892\n",
    "8767896789\n",
    "9899965678\"\"\""
   ]
  },
  {
   "cell_type": "code",
   "execution_count": 3,
   "metadata": {},
   "outputs": [],
   "source": [
    "with open('2021-12-09_input') as f:\n",
    "    raw = f.read().strip()"
   ]
  },
  {
   "cell_type": "code",
   "execution_count": 4,
   "metadata": {},
   "outputs": [
    {
     "name": "stdout",
     "output_type": "stream",
     "text": [
      "[[9 8 6 ... 2 1 0]\n",
      " [2 9 9 ... 3 2 2]\n",
      " [3 9 8 ... 4 5 3]\n",
      " ...\n",
      " [9 8 7 ... 3 1 2]\n",
      " [2 9 9 ... 3 2 4]\n",
      " [1 2 3 ... 4 3 5]]\n",
      "[[False False False ... False False  True]\n",
      " [ True False False ... False False False]\n",
      " [False False False ... False False False]\n",
      " ...\n",
      " [False False False ... False  True False]\n",
      " [False False False ... False False False]\n",
      " [ True False False ... False False False]]\n",
      "545\n",
      "[[False  True  True ...  True  True  True]\n",
      " [ True False False ...  True  True  True]\n",
      " [ True False  True ...  True  True  True]\n",
      " ...\n",
      " [False  True  True ...  True  True  True]\n",
      " [ True False False ...  True  True  True]\n",
      " [ True  True  True ...  True  True  True]]\n"
     ]
    },
    {
     "data": {
      "text/plain": [
       "<matplotlib.image.AxesImage at 0x11c710370>"
      ]
     },
     "execution_count": 4,
     "metadata": {},
     "output_type": "execute_result"
    },
    {
     "data": {
      "image/png": "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\n",
      "text/plain": [
       "<Figure size 720x720 with 1 Axes>"
      ]
     },
     "metadata": {
      "needs_background": "light"
     },
     "output_type": "display_data"
    }
   ],
   "source": [
    "#part one\n",
    "numbers = np.array([list(line) for line in raw.split('\\n')], dtype=np.int_)\n",
    "print(numbers)\n",
    "\n",
    "minima = np.zeros(numbers.shape, dtype=np.bool_)\n",
    "\n",
    "\n",
    "for i in range(0, numbers.shape[0]):\n",
    "    for j in range(0, numbers.shape[1]):\n",
    "        \n",
    "        adjacent = []\n",
    "        if i - 1 >= 0:\n",
    "            adjacent.append(numbers[i - 1,j])\n",
    "        if i + 1 < numbers.shape[0]:\n",
    "            adjacent.append(numbers[i + 1,j])\n",
    "        if j - 1 >= 0:\n",
    "            adjacent.append(numbers[i,j - 1])\n",
    "        if j + 1 < numbers.shape[1]:\n",
    "            adjacent.append(numbers[i,j + 1])\n",
    "            \n",
    "        \n",
    "        if numbers[i,j] < min(adjacent):\n",
    "            minima[i,j] = True\n",
    "\n",
    "print(minima)\n",
    "print((numbers[minima] + 1).sum())\n",
    "\n",
    "print(numbers < 9)\n",
    "\n",
    "plt.figure(figsize=(10, 10))\n",
    "plt.imshow(numbers < 9)\n",
    "\n",
    "\n"
   ]
  },
  {
   "cell_type": "code",
   "execution_count": 5,
   "metadata": {
    "scrolled": false
   },
   "outputs": [
    {
     "name": "stdout",
     "output_type": "stream",
     "text": [
      "[[9 8 6 ... 2 1 0]\n",
      " [2 9 9 ... 3 2 2]\n",
      " [3 9 8 ... 4 5 3]\n",
      " ...\n",
      " [9 8 7 ... 3 1 2]\n",
      " [2 9 9 ... 3 2 4]\n",
      " [1 2 3 ... 4 3 5]]\n",
      "(100, 100)\n",
      "[[9 9 9 ... 9 9 9]\n",
      " [9 9 8 ... 1 0 9]\n",
      " [9 2 9 ... 2 2 9]\n",
      " ...\n",
      " [9 2 9 ... 2 4 9]\n",
      " [9 1 2 ... 3 5 9]\n",
      " [9 9 9 ... 9 9 9]]\n",
      "545\n",
      "950600\n"
     ]
    }
   ],
   "source": [
    "numbers = np.array([list(line) for line in raw.split('\\n')], dtype=np.int_)\n",
    "print(numbers)\n",
    "\n",
    "print(numbers.shape)\n",
    "\n",
    "padded = 9 * np.ones([numbers.shape[0] + 2, numbers.shape[1] + 2], dtype=np.int_)\n",
    "padded[1:-1,1:-1] = numbers\n",
    "print(padded)\n",
    "\n",
    "minima = []\n",
    "basins = []\n",
    "in_basins = set()\n",
    "\n",
    "for i in range(1, padded.shape[0] - 1):\n",
    "    for j in range(1, padded.shape[1] - 1):\n",
    "        if padded[i,j] == 9 or (i, j) in in_basins:\n",
    "            continue\n",
    "        \n",
    "        k = i\n",
    "        l = j\n",
    "        while True:\n",
    "            adjacent = [padded[k - 1,l], padded[k + 1,l], padded[k,l - 1], padded[k,l + 1]]\n",
    "            if min(adjacent) > padded[k,l]:\n",
    "                minimum = (k, l)\n",
    "                break\n",
    "            lowest = [(k - 1,l), (k + 1,l), (k,l - 1), (k,l + 1)][adjacent.index(min(adjacent))]\n",
    "            k, l = lowest\n",
    "        \n",
    "#         print(minima)\n",
    "        minima.append(padded[minimum[0], minimum[1]] + 1)\n",
    "        this_basin = set((minimum,))\n",
    "#         print(this_basin)\n",
    "        \n",
    "        outside = set((minimum,))\n",
    "        \n",
    "        while outside:\n",
    "            \n",
    "            adjacent = set()\n",
    "            this_basin = this_basin | outside\n",
    "            for entry in outside:\n",
    "                k, l = entry\n",
    "                adjacent = adjacent | set([point for point in [(k - 1,l), (k + 1,l), (k,l - 1), (k,l + 1)] if (padded[point[0],point[1]] < 9) and point not in this_basin])\n",
    "                \n",
    "            outside = adjacent\n",
    "            \n",
    "#         print(this_basin)\n",
    "        basins.append(len(this_basin))\n",
    "        in_basins = in_basins | this_basin\n",
    "        \n",
    "        \n",
    "#         print()\n",
    "        \n",
    "        \n",
    "print(sum(minima))\n",
    "basins.sort()\n",
    "print(basins[-1] * basins[-2] * basins[-3])"
   ]
  },
  {
   "cell_type": "code",
<<<<<<< HEAD
=======
   "execution_count": 30,
   "metadata": {},
   "outputs": [
    {
     "data": {
      "text/plain": [
       "1"
      ]
     },
     "execution_count": 30,
     "metadata": {},
     "output_type": "execute_result"
    }
   ],
   "source": [
    "padded[1,2]"
   ]
  },
  {
   "cell_type": "code",
>>>>>>> 5ded99b75084a31b87181b5468e225af2085a035
   "execution_count": null,
   "metadata": {},
   "outputs": [],
   "source": []
  }
 ],
 "metadata": {
  "kernelspec": {
   "display_name": "Python 3",
   "language": "python",
   "name": "python3"
  },
  "language_info": {
   "codemirror_mode": {
    "name": "ipython",
    "version": 3
   },
   "file_extension": ".py",
   "mimetype": "text/x-python",
   "name": "python",
   "nbconvert_exporter": "python",
   "pygments_lexer": "ipython3",
   "version": "3.8.3"
  }
 },
 "nbformat": 4,
 "nbformat_minor": 4
}
