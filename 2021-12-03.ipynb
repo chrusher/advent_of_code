{
 "cells": [
  {
   "cell_type": "code",
   "execution_count": 63,
   "metadata": {},
   "outputs": [],
   "source": [
    "raw = \"\"\"00100\n",
    "11110\n",
    "10110\n",
    "10111\n",
    "10101\n",
    "01111\n",
    "00111\n",
    "11100\n",
    "10000\n",
    "11001\n",
    "00010\n",
    "01010\"\"\"\n",
    "lines = raw.split()"
   ]
  },
  {
   "cell_type": "code",
   "execution_count": 47,
   "metadata": {},
   "outputs": [],
   "source": [
    "lines = ['010',\n",
    "         '101',\n",
    "         '010']"
   ]
  },
  {
   "cell_type": "code",
   "execution_count": 53,
   "metadata": {},
   "outputs": [
    {
     "name": "stdout",
     "output_type": "stream",
     "text": [
      "1000\n",
      "[0, 0, 0, 1, 0, 0, 0, 1, 1, 1, 0, 0] [1, 1, 1, 0, 1, 1, 1, 0, 0, 0, 1, 1]\n",
      "[0, 0, 4, 8, 16, 0, 0, 0, 256, 0, 0, 0]\n",
      "[1, 2, 0, 0, 0, 32, 64, 128, 0, 512, 1024, 2048]\n",
      "284 3811\n",
      "1082324\n"
     ]
    }
   ],
   "source": [
    "#first part\n",
    "print(len(lines))\n",
    "\n",
    "gamma = []\n",
    "epsilon = []\n",
    "for i in range(len(lines[0].strip())):\n",
    "    if sum([int(line[i]) for line in lines]) > len(lines) // 2:\n",
    "        gamma.append(1)\n",
    "        epsilon.append(0)\n",
    "    else:\n",
    "        gamma.append(0)\n",
    "        epsilon.append(1)\n",
    "    \n",
    "print(gamma, epsilon)\n",
    "print([2**i * gamma[::-1][i] for i in range(len(gamma))])\n",
    "print([2**i * epsilon[::-1][i] for i in range(len(epsilon))])\n",
    "\n",
    "gamma = sum([2**i * gamma[::-1][i] for i in range(len(gamma))])\n",
    "epsilon = sum([2**i * epsilon[::-1][i] for i in range(len(epsilon))])\n",
    "print(gamma, epsilon)\n",
    "print(gamma * epsilon)"
   ]
  },
  {
   "cell_type": "code",
   "execution_count": 84,
   "metadata": {},
   "outputs": [
    {
     "name": "stdout",
     "output_type": "stream",
     "text": [
      "486 2784 1353024\n"
     ]
    }
   ],
   "source": [
    "#second part\n",
    "\n",
    "these_lines = lines\n",
    "\n",
    "index = 0\n",
    "# print(these_lines)\n",
    "while len(these_lines) > 1:\n",
    "\n",
    "    if sum([int(line[index]) for line in these_lines]) >= len(these_lines) / 2:\n",
    "        these_lines = [line for line in these_lines if line[index] == '1']\n",
    "    else:\n",
    "        these_lines = [line for line in these_lines if line[index] == '0']\n",
    "    index += 1\n",
    "#     print(these_lines)\n",
    "    \n",
    "line = these_lines[0].strip()\n",
    "oxygen = sum([2**i * int(line[::-1][i]) for i in range(len(line))])\n",
    "\n",
    "\n",
    "these_lines = lines\n",
    "\n",
    "index = 0\n",
    "\n",
    "while len(these_lines) > 1:\n",
    "\n",
    "    if sum([int(line[index]) for line in these_lines]) >= len(these_lines) / 2:\n",
    "        these_lines = [line for line in these_lines if line[index] == '0']\n",
    "    else:\n",
    "        these_lines = [line for line in these_lines if line[index] == '1']\n",
    "    index += 1\n",
    "    \n",
    "line = these_lines[0].strip()\n",
    "co2 = sum([2**i * int(line[::-1][i]) for i in range(len(line))])\n",
    "\n",
    "print(oxygen, co2, oxygen * co2)"
   ]
  },
  {
   "cell_type": "code",
   "execution_count": 22,
   "metadata": {},
   "outputs": [
    {
     "data": {
      "text/plain": [
       "452"
      ]
     },
     "execution_count": 22,
     "metadata": {},
     "output_type": "execute_result"
    }
   ],
   "source": [
    "256 + 128 + 64 + 4"
   ]
  },
  {
   "cell_type": "code",
   "execution_count": 82,
   "metadata": {},
   "outputs": [],
   "source": [
    "with open('2021-12-03_input') as f:\n",
    "    lines = f.readlines()\n",
    "# lines = lines[:11]"
   ]
  },
  {
   "cell_type": "code",
   "execution_count": 42,
   "metadata": {},
   "outputs": [
    {
     "data": {
      "text/plain": [
       "12"
      ]
     },
     "execution_count": 42,
     "metadata": {},
     "output_type": "execute_result"
    }
   ],
   "source": [
    "len('101111101000')"
   ]
  },
  {
   "cell_type": "code",
   "execution_count": 43,
   "metadata": {},
   "outputs": [
    {
     "name": "stdout",
     "output_type": "stream",
     "text": [
      "101111101000\n",
      "110110011100\n",
      "010111111000\n",
      "010101000001\n",
      "011000000001\n",
      "100001111001\n",
      "000000001010\n",
      "010110111001\n",
      "111000011000\n",
      "001101010111\n",
      "010101110100\n",
      "\n"
     ]
    }
   ],
   "source": [
    "print(*lines, sep='')"
   ]
  },
  {
   "cell_type": "code",
   "execution_count": null,
   "metadata": {},
   "outputs": [],
   "source": []
  }
 ],
 "metadata": {
  "kernelspec": {
   "display_name": "Python 3",
   "language": "python",
   "name": "python3"
  },
  "language_info": {
   "codemirror_mode": {
    "name": "ipython",
    "version": 3
   },
   "file_extension": ".py",
   "mimetype": "text/x-python",
   "name": "python",
   "nbconvert_exporter": "python",
   "pygments_lexer": "ipython3",
   "version": "3.8.3"
  }
 },
 "nbformat": 4,
 "nbformat_minor": 4
}
