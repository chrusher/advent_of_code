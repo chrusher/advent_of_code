{
 "cells": [
  {
   "cell_type": "code",
   "execution_count": 4,
   "metadata": {},
   "outputs": [],
   "source": [
    "raw = \"\"\"3,4,3,1,2\"\"\""
   ]
  },
  {
   "cell_type": "code",
   "execution_count": 18,
   "metadata": {},
   "outputs": [],
   "source": [
    "raw = \"\"\"2,4,1,5,1,3,1,1,5,2,2,5,4,2,1,2,5,3,2,4,1,3,5,3,1,3,1,3,5,4,1,1,1,1,5,1,2,5,5,5,2,3,4,1,1,1,2,1,4,1,3,2,1,4,3,1,4,1,5,4,5,1,4,1,2,2,3,1,1,1,2,5,1,1,1,2,1,1,2,2,1,4,3,3,1,1,1,2,1,2,5,4,1,4,3,1,5,5,1,3,1,5,1,5,2,4,5,1,2,1,1,5,4,1,1,4,5,3,1,4,5,1,3,2,2,1,1,1,4,5,2,2,5,1,4,5,2,1,1,5,3,1,1,1,3,1,2,3,3,1,4,3,1,2,3,1,4,2,1,2,5,4,2,5,4,1,1,2,1,2,4,3,3,1,1,5,1,1,1,1,1,3,1,4,1,4,1,2,3,5,1,2,5,4,5,4,1,3,1,4,3,1,2,2,2,1,5,1,1,1,3,2,1,3,5,2,1,1,4,4,3,5,3,5,1,4,3,1,3,5,1,3,4,1,2,5,2,1,5,4,3,4,1,3,3,5,1,1,3,5,3,3,4,3,5,5,1,4,1,1,3,5,5,1,5,4,4,1,3,1,1,1,1,3,2,1,2,3,1,5,1,1,1,4,3,1,1,1,1,1,1,1,1,1,2,1,1,2,5,3\"\"\""
   ]
  },
  {
   "cell_type": "code",
   "execution_count": 4,
   "metadata": {},
   "outputs": [],
   "source": []
  },
  {
   "cell_type": "code",
   "execution_count": 3,
   "metadata": {
    "collapsed": true
   },
   "outputs": [
    {
     "name": "stdout",
     "output_type": "stream",
     "text": [
      "300\n",
      "419\n",
      "464\n",
      "512\n",
      "552\n",
      "600\n",
      "600\n",
      "600\n",
      "719\n",
      "764\n",
      "931\n",
      "1016\n",
      "1112\n",
      "1152\n",
      "1200\n",
      "1319\n",
      "1364\n",
      "1650\n",
      "1780\n",
      "2043\n",
      "2168\n",
      "2312\n",
      "2471\n",
      "2564\n",
      "2969\n",
      "3144\n",
      "3693\n",
      "3948\n",
      "4355\n",
      "4639\n",
      "4876\n",
      "5440\n",
      "5708\n",
      "6662\n",
      "7092\n",
      "8048\n",
      "8587\n",
      "9231\n",
      "10079\n",
      "10584\n",
      "12102\n",
      "12800\n",
      "14710\n",
      "15679\n",
      "17279\n",
      "18666\n",
      "19815\n",
      "22181\n",
      "23384\n",
      "26812\n",
      "28479\n",
      "31989\n",
      "34345\n",
      "37094\n",
      "40847\n",
      "43199\n",
      "48993\n",
      "51863\n",
      "58801\n",
      "62824\n",
      "69083\n",
      "75192\n",
      "80293\n",
      "89840\n",
      "95062\n",
      "107794\n",
      "114687\n",
      "127884\n",
      "138016\n",
      "149376\n",
      "165032\n",
      "175355\n",
      "197634\n",
      "209749\n",
      "235678\n",
      "252703\n",
      "277260\n",
      "303048\n",
      "324731\n",
      "362666\n"
     ]
    }
   ],
   "source": [
    "initial = [int(n) for n in raw.split(',')]\n",
    "for i in range(80):  \n",
    "    fish = []\n",
    "    \n",
    "    for n in initial:       \n",
    "        if n:\n",
    "            fish.append(n - 1)\n",
    "        else:\n",
    "            fish.append(6)\n",
    "            fish.append(8)\n",
    "            \n",
    "    print(len(fish))\n",
    "    initial = fish"
   ]
  },
  {
   "cell_type": "code",
   "execution_count": 19,
   "metadata": {},
   "outputs": [
    {
     "name": "stdout",
     "output_type": "stream",
     "text": [
      "1640526601595\n"
     ]
    }
   ],
   "source": [
    "counts = [0] * 9\n",
    "\n",
    "for n in raw.split(','):\n",
    "    counts[int(n)] += 1\n",
    "    \n",
    "# print(counts)\n",
    "\n",
    "for i in range(256):\n",
    "    \n",
    "    new_counts = counts[1:] + [counts[0]]\n",
    "    new_counts[6] += counts[0]\n",
    "    \n",
    "#     print(sum(new_counts), new_counts)\n",
    "    counts = new_counts\n",
    "    \n",
    "print(sum(counts))"
   ]
  },
  {
   "cell_type": "code",
   "execution_count": null,
   "metadata": {},
   "outputs": [],
   "source": []
  }
 ],
 "metadata": {
  "kernelspec": {
   "display_name": "Python 3",
   "language": "python",
   "name": "python3"
  },
  "language_info": {
   "codemirror_mode": {
    "name": "ipython",
    "version": 3
   },
   "file_extension": ".py",
   "mimetype": "text/x-python",
   "name": "python",
   "nbconvert_exporter": "python",
   "pygments_lexer": "ipython3",
   "version": "3.8.3"
  }
 },
 "nbformat": 4,
 "nbformat_minor": 4
}
