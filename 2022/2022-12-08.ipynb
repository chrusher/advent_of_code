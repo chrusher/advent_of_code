{
 "cells": [
  {
   "cell_type": "code",
   "execution_count": 22,
   "id": "074a4dac",
   "metadata": {},
   "outputs": [
    {
     "name": "stdout",
     "output_type": "stream",
     "text": [
      "[['3', '0', '3', '7', '3'], ['2', '5', '5', '1', '2'], ['6', '5', '3', '3', '2'], ['3', '3', '5', '4', '9'], ['3', '5', '3', '9', '0']]\n",
      "1 1 5 True\n",
      "1 2 5 True\n",
      "1 3 1 False\n",
      "2 1 5 True\n",
      "2 2 3 False\n",
      "2 3 3 True\n",
      "3 1 3 False\n",
      "3 2 5 True\n",
      "3 3 4 False\n",
      "21\n"
     ]
    }
   ],
   "source": [
    "test_input = '''30373\n",
    "25512\n",
    "65332\n",
    "33549\n",
    "35390'''\n",
    "\n",
    "lines = test_input.split('\\n')\n",
    "\n",
    "grid = []\n",
    "\n",
    "for line in lines:\n",
    "    grid.append(list(line))\n",
    "    \n",
    "print(grid)\n",
    "\n",
    "count = 0\n",
    "for i in range(1, len(grid) - 1): #row\n",
    "    for j in range(1, len(grid[0]) - 1): #column\n",
    "\n",
    "        this = grid[i][j]\n",
    "        visible_right = all([this > item for item in grid[i][j + 1:]])\n",
    "        visible_left = all([this > item for item in grid[i][:j]])\n",
    "        visible_down = all([this > item for item in [line[j] for line in grid[i + 1:]]])\n",
    "        visible_up = all([this > item for item in [line[j] for line in grid[:i]]])\n",
    "        visible = visible_right or visible_left or visible_down or visible_up\n",
    "        if visible:\n",
    "            count += 1\n",
    "        print(i, j, grid[i][j], visible)\n",
    "        \n",
    "print(count + 2 * len(grid) + 2 * len(grid[0]) - 4)"
   ]
  },
  {
   "cell_type": "code",
   "execution_count": 23,
   "id": "6733bbbd",
   "metadata": {},
   "outputs": [
    {
     "name": "stdout",
     "output_type": "stream",
     "text": [
      "1695\n"
     ]
    }
   ],
   "source": [
    "\n",
    "\n",
    "grid = []\n",
    "lines = open('2022-12-08_input').readlines()\n",
    "for line in lines:\n",
    "    grid.append(list(line.strip('\\n')))\n",
    "    \n",
    "count = 0\n",
    "for i in range(1, len(grid) - 1): #row\n",
    "    for j in range(1, len(grid[0]) - 1): #column\n",
    "\n",
    "        this = grid[i][j]\n",
    "        visible_right = all([this > item for item in grid[i][j + 1:]])\n",
    "        visible_left = all([this > item for item in grid[i][:j]])\n",
    "        visible_down = all([this > item for item in [line[j] for line in grid[i + 1:]]])\n",
    "        visible_up = all([this > item for item in [line[j] for line in grid[:i]]])\n",
    "        visible = visible_right or visible_left or visible_down or visible_up\n",
    "        if visible:\n",
    "            count += 1\n",
    "        \n",
    "print(count + 2 * len(grid) + 2 * len(grid[0]) - 4)"
   ]
  },
  {
   "cell_type": "code",
   "execution_count": 57,
   "id": "dc5c299e",
   "metadata": {},
   "outputs": [
    {
     "name": "stdout",
     "output_type": "stream",
     "text": [
      "3 2 5 ['3', '3', '5', '4', '9'] 8\n",
      "8\n"
     ]
    }
   ],
   "source": [
    "#part 2\n",
    "\n",
    "lines = test_input.split('\\n')\n",
    "\n",
    "grid = []\n",
    "\n",
    "for line in lines:\n",
    "    grid.append(list(line))\n",
    "\n",
    "best = 0\n",
    "for i in range(1, len(grid) - 1): #row\n",
    "    for j in range(1, len(grid[0]) - 1): #column\n",
    "        \n",
    "        this = grid[i][j]\n",
    "        \n",
    "        right = grid[i][j + 1:]\n",
    "        right_count = 1\n",
    "        for k in right[:-1]:\n",
    "            if k < this:\n",
    "                right_count += 1\n",
    "            else:\n",
    "                break                \n",
    "                \n",
    "        left = grid[i][:j]\n",
    "        left_count = 1\n",
    "        for k in left[1:][::-1]:\n",
    "            if k < this:\n",
    "                left_count += 1\n",
    "            else:\n",
    "                break\n",
    "                \n",
    "        down = [line[j] for line in grid[i + 1:]]\n",
    "        down_count = 1\n",
    "        for k in down[:-1]:\n",
    "            if k < this:\n",
    "                down_count += 1\n",
    "            else:\n",
    "                break\n",
    "        \n",
    "        up = [line[j] for line in grid[:i]]\n",
    "        up_count = 1\n",
    "        for k in up[1:][::-1]:\n",
    "            if k < this:\n",
    "                up_count += 1\n",
    "            else:\n",
    "                break\n",
    "                \n",
    "        count = right_count * left_count * down_count * up_count\n",
    "        \n",
    "        if count > best:\n",
    "            best = count\n",
    "        \n",
    "        if i == 3 and j == 2:\n",
    "#         if i == 1 and j == 2:            \n",
    "            \n",
    "            print(i, j, this, grid[i], count)\n",
    "\n",
    "print(best)         "
   ]
  },
  {
   "cell_type": "code",
   "execution_count": 58,
   "id": "460d7a42",
   "metadata": {},
   "outputs": [
    {
     "name": "stdout",
     "output_type": "stream",
     "text": [
      "287040\n"
     ]
    }
   ],
   "source": [
    "grid = []\n",
    "lines = open('2022-12-08_input').readlines()\n",
    "for line in lines:\n",
    "    grid.append(list(line.strip('\\n')))\n",
    "\n",
    "best = 0\n",
    "for i in range(1, len(grid) - 1): #row\n",
    "    for j in range(1, len(grid[0]) - 1): #column\n",
    "        \n",
    "        this = grid[i][j]\n",
    "        \n",
    "        right = grid[i][j + 1:]\n",
    "        right_count = 1\n",
    "        for k in right[:-1]:\n",
    "            if k < this:\n",
    "                right_count += 1\n",
    "            else:\n",
    "                break                \n",
    "                \n",
    "        left = grid[i][:j]\n",
    "        left_count = 1\n",
    "        for k in left[1:][::-1]:\n",
    "            if k < this:\n",
    "                left_count += 1\n",
    "            else:\n",
    "                break\n",
    "                \n",
    "        down = [line[j] for line in grid[i + 1:]]\n",
    "        down_count = 1\n",
    "        for k in down[:-1]:\n",
    "            if k < this:\n",
    "                down_count += 1\n",
    "            else:\n",
    "                break\n",
    "        \n",
    "        up = [line[j] for line in grid[:i]]\n",
    "        up_count = 1\n",
    "        for k in up[1:][::-1]:\n",
    "            if k < this:\n",
    "                up_count += 1\n",
    "            else:\n",
    "                break\n",
    "                \n",
    "        count = right_count * left_count * down_count * up_count        \n",
    "        if count > best:\n",
    "            best = count\n",
    "\n",
    "print(best)         "
   ]
  },
  {
   "cell_type": "code",
   "execution_count": null,
   "id": "98de4f0d",
   "metadata": {},
   "outputs": [],
   "source": []
  }
 ],
 "metadata": {
  "kernelspec": {
   "display_name": "Python 3 (ipykernel)",
   "language": "python",
   "name": "python3"
  },
  "language_info": {
   "codemirror_mode": {
    "name": "ipython",
    "version": 3
   },
   "file_extension": ".py",
   "mimetype": "text/x-python",
   "name": "python",
   "nbconvert_exporter": "python",
   "pygments_lexer": "ipython3",
   "version": "3.10.9"
  }
 },
 "nbformat": 4,
 "nbformat_minor": 5
}
