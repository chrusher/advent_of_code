{
 "cells": [
  {
   "cell_type": "code",
   "execution_count": 1,
   "id": "a14ca0ea",
   "metadata": {},
   "outputs": [],
   "source": [
    "test_input = \"\"\"1000\n",
    "2000\n",
    "3000\n",
    "\n",
    "4000\n",
    "\n",
    "5000\n",
    "6000\n",
    "\n",
    "7000\n",
    "8000\n",
    "9000\n",
    "\n",
    "10000\"\"\""
   ]
  },
  {
   "cell_type": "code",
   "execution_count": null,
   "id": "7cbaefaa",
   "metadata": {},
   "outputs": [],
   "source": [
    "real_input = open()"
   ]
  },
  {
   "cell_type": "code",
   "execution_count": 4,
   "id": "3826c824",
   "metadata": {},
   "outputs": [
    {
     "name": "stdout",
     "output_type": "stream",
     "text": [
      "24000\n"
     ]
    }
   ],
   "source": [
    "# part 1\n",
    "current_total = 0\n",
    "largest = 0\n",
    "\n",
    "for line in test_input.split('\\n'):\n",
    "    if not line:\n",
    "        current_total = 0\n",
    "    if line:\n",
    "        current_total += int(line)\n",
    "        if current_total > largest:\n",
    "            largest = current_total\n",
    "            \n",
    "print(largest)"
   ]
  },
  {
   "cell_type": "code",
   "execution_count": 7,
   "id": "76e2cc02",
   "metadata": {},
   "outputs": [
    {
     "name": "stdout",
     "output_type": "stream",
     "text": [
      "71924\n"
     ]
    }
   ],
   "source": [
    "current_total = 0\n",
    "largest = 0\n",
    "\n",
    "for line in open('2022-12-01_input').readlines():\n",
    "    line = line.strip()\n",
    "    if not line:\n",
    "        current_total = 0\n",
    "    if line:\n",
    "        current_total += int(line)\n",
    "        if current_total > largest:\n",
    "            largest = current_total\n",
    "            \n",
    "print(largest)"
   ]
  },
  {
   "cell_type": "code",
   "execution_count": 14,
   "id": "49df962e",
   "metadata": {},
   "outputs": [
    {
     "name": "stdout",
     "output_type": "stream",
     "text": [
      "45000\n"
     ]
    }
   ],
   "source": [
    "# part 2\n",
    "\n",
    "totals = [0]\n",
    "\n",
    "for line in test_input.split('\\n'):\n",
    "    if not line:\n",
    "        totals.append(0)\n",
    "    if line:\n",
    "        totals[-1] += int(line)\n",
    "        \n",
    "print(sum(sorted(totals)[-3:]))"
   ]
  },
  {
   "cell_type": "code",
   "execution_count": 16,
   "id": "a94b659b",
   "metadata": {},
   "outputs": [
    {
     "name": "stdout",
     "output_type": "stream",
     "text": [
      "210406\n"
     ]
    }
   ],
   "source": [
    "totals = [0]\n",
    "\n",
    "for line in open('2022-12-01_input').readlines():\n",
    "    line = line.strip()\n",
    "    if not line:\n",
    "        totals.append(0)\n",
    "    if line:\n",
    "        totals[-1] += int(line)\n",
    "        \n",
    "print(sum(sorted(totals)[-3:]))"
   ]
  },
  {
   "cell_type": "code",
   "execution_count": null,
   "id": "c474f702",
   "metadata": {},
   "outputs": [],
   "source": []
  }
 ],
 "metadata": {
  "kernelspec": {
   "display_name": "Python 3",
   "language": "python",
   "name": "python3"
  },
  "language_info": {
   "codemirror_mode": {
    "name": "ipython",
    "version": 3
   },
   "file_extension": ".py",
   "mimetype": "text/x-python",
   "name": "python",
   "nbconvert_exporter": "python",
   "pygments_lexer": "ipython3",
   "version": "3.7.9"
  }
 },
 "nbformat": 4,
 "nbformat_minor": 5
}
