{
 "cells": [
  {
   "cell_type": "code",
   "execution_count": 7,
   "id": "d7166d3d",
   "metadata": {},
   "outputs": [],
   "source": [
    "test = '''2-4,6-8\n",
    "2-3,4-5\n",
    "5-7,7-9\n",
    "2-8,3-7\n",
    "6-6,4-6\n",
    "2-6,4-8'''\n",
    "\n",
    "test_lines = test.split('\\n')"
   ]
  },
  {
   "cell_type": "code",
   "execution_count": 3,
   "id": "cced4cfb",
   "metadata": {},
   "outputs": [],
   "source": [
    "input_lines = [line.strip('\\n') for line in open('2022-12-04_input')]"
   ]
  },
  {
   "cell_type": "code",
   "execution_count": 38,
   "id": "3808b3fa",
   "metadata": {},
   "outputs": [
    {
     "name": "stdout",
     "output_type": "stream",
     "text": [
      "2 4 6 8\n",
      "2 3 4 5\n",
      "5 7 7 9\n",
      "2 8 3 7\n",
      "second inside\n",
      "6 6 4 6\n",
      "first inside\n",
      "2 6 4 8\n",
      "2\n"
     ]
    }
   ],
   "source": [
    "total = 0\n",
    "for line in test_lines:\n",
    "    first, second = line.split(',')\n",
    "    first_start, first_end = first.split('-')\n",
    "    second_start, second_end = second.split('-')\n",
    "    print(first_start, first_end, second_start, second_end)\n",
    "    if int(second_start) >= int(first_start) and int(second_end) <= int(first_end):\n",
    "        total += 1\n",
    "        print('second inside')\n",
    "    elif int(first_start) >= int(second_start) and int(first_end) <= int(second_end):\n",
    "        total += 1        \n",
    "        print('first inside')\n",
    "print(total)"
   ]
  },
  {
   "cell_type": "code",
   "execution_count": 37,
   "id": "14225546",
   "metadata": {
    "scrolled": false
   },
   "outputs": [
    {
     "name": "stdout",
     "output_type": "stream",
     "text": [
      "605\n"
     ]
    }
   ],
   "source": [
    "total = 0\n",
    "for line in input_lines:\n",
    "    first, second = line.split(',')\n",
    "    first_start, first_end = first.split('-')\n",
    "    second_start, second_end = second.split('-')\n",
    "    if int(second_start) >= int(first_start) and int(second_end) <= int(first_end):\n",
    "        total += 1\n",
    "    elif int(first_start) >= int(second_start) and int(first_end) <= int(second_end):\n",
    "        total += 1        \n",
    "print(total)"
   ]
  },
  {
   "cell_type": "code",
   "execution_count": 48,
   "id": "6178407f",
   "metadata": {},
   "outputs": [
    {
     "name": "stdout",
     "output_type": "stream",
     "text": [
      "2 4 6 8\n",
      "2 3 4 5\n",
      "5 7 7 9\n",
      "overlap\n",
      "2 8 3 7\n",
      "overlap\n",
      "6 6 4 6\n",
      "overlap\n",
      "2 6 4 8\n",
      "overlap\n",
      "4\n"
     ]
    }
   ],
   "source": [
    "total = 0\n",
    "for line in test_lines:\n",
    "    first, second = line.split(',')\n",
    "    first_start, first_end = first.split('-')\n",
    "    second_start, second_end = second.split('-')\n",
    "    print(first_start, first_end, second_start, second_end)\n",
    "    if int(first_end) >= int(second_start) and int(first_end) <= int(second_end):\n",
    "        total += 1\n",
    "        print('overlap')\n",
    "    elif int(second_end) >= int(first_start) and int(second_end) <= int(first_end):\n",
    "        total += 1\n",
    "        print('overlap')\n",
    "print(total)"
   ]
  },
  {
   "cell_type": "code",
   "execution_count": 49,
   "id": "00ffdf11",
   "metadata": {},
   "outputs": [
    {
     "name": "stdout",
     "output_type": "stream",
     "text": [
      "914\n"
     ]
    }
   ],
   "source": [
    "total = 0\n",
    "for line in input_lines:\n",
    "    first, second = line.split(',')\n",
    "    first_start, first_end = first.split('-')\n",
    "    second_start, second_end = second.split('-')\n",
    "    if int(first_end) >= int(second_start) and int(first_end) <= int(second_end):\n",
    "        total += 1\n",
    "    elif int(second_end) >= int(first_start) and int(second_end) <= int(first_end):\n",
    "        total += 1\n",
    "print(total)"
   ]
  },
  {
   "cell_type": "code",
   "execution_count": null,
   "id": "ff009f8c",
   "metadata": {},
   "outputs": [],
   "source": []
  }
 ],
 "metadata": {
  "kernelspec": {
   "display_name": "Python 3",
   "language": "python",
   "name": "python3"
  },
  "language_info": {
   "codemirror_mode": {
    "name": "ipython",
    "version": 3
   },
   "file_extension": ".py",
   "mimetype": "text/x-python",
   "name": "python",
   "nbconvert_exporter": "python",
   "pygments_lexer": "ipython3",
   "version": "3.7.9"
  }
 },
 "nbformat": 4,
 "nbformat_minor": 5
}
