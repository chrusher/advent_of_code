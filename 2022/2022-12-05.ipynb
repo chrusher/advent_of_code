{
 "cells": [
  {
   "cell_type": "code",
   "execution_count": 29,
   "id": "75036dcf",
   "metadata": {},
   "outputs": [],
   "source": [
    "test_input = '''    [D]    \n",
    "[N] [C]    \n",
    "[Z] [M] [P]\n",
    " 1   2   3 \n",
    "\n",
    "move 1 from 2 to 1\n",
    "move 3 from 1 to 3\n",
    "move 2 from 2 to 1\n",
    "move 1 from 1 to 2'''\n",
    "\n",
    "test_start, test_moves =  test_input.split('\\n\\n')"
   ]
  },
  {
   "cell_type": "code",
   "execution_count": 23,
   "id": "e0432251",
   "metadata": {},
   "outputs": [
    {
     "name": "stdout",
     "output_type": "stream",
     "text": [
      "    [D]    \n",
      "[N] [C]    \n",
      "[Z] [M] [P]\n",
      " 1   2   3 \n"
     ]
    }
   ],
   "source": [
    "print(test_start)  "
   ]
  },
  {
   "cell_type": "code",
   "execution_count": 46,
   "id": "0ce889c6",
   "metadata": {},
   "outputs": [
    {
     "name": "stdout",
     "output_type": "stream",
     "text": [
      "[[], [], []]\n",
      "[['N', 'Z'], ['D', 'C', 'M'], ['P']]\n",
      "1 1 0\n",
      "[['D', 'N', 'Z'], ['C', 'M'], ['P']]\n",
      "3 0 2\n",
      "[['N', 'Z'], ['C', 'M'], ['D', 'P']]\n",
      "[['Z'], ['C', 'M'], ['N', 'D', 'P']]\n",
      "[[], ['C', 'M'], ['Z', 'N', 'D', 'P']]\n",
      "2 1 0\n",
      "[['C'], ['M'], ['Z', 'N', 'D', 'P']]\n",
      "[['M', 'C'], [], ['Z', 'N', 'D', 'P']]\n",
      "1 0 1\n",
      "[['C'], ['M'], ['Z', 'N', 'D', 'P']]\n",
      "CMZ\n"
     ]
    }
   ],
   "source": [
    "# part 1\n",
    "test_start_lines = test_start.split('\\n')\n",
    "\n",
    "stacks = [[] for i in range(len(test_start_lines[-1].split()))]\n",
    "print(stacks)\n",
    "\n",
    "for line in test_start_lines[:-1]:    \n",
    "    for i in range(len(stacks)):\n",
    "        if line[4 * i + 1] is not ' ':\n",
    "            stacks[i].append(line[4 * i + 1])\n",
    "\n",
    "print(stacks)\n",
    "\n",
    "for line in test_moves.split('\\n'):\n",
    "    _, number, _, start, _, end = line.split()\n",
    "    number = int(number)\n",
    "    start = int(start) - 1\n",
    "    end = int(end) - 1\n",
    "    print(number, start, end)\n",
    "    \n",
    "\n",
    "    \n",
    "    for i in range(number):\n",
    "            to_be_moved = stacks[start][0]\n",
    "            stacks[start] = stacks[start][1:]\n",
    "            stacks[end] = [to_be_moved] + stacks[end]\n",
    "            \n",
    "            print(stacks)\n",
    "        \n",
    "print(''.join([stack[0] for stack in stacks]))    "
   ]
  },
  {
   "cell_type": "code",
   "execution_count": 41,
   "id": "bdf8237a",
   "metadata": {},
   "outputs": [],
   "source": [
    "real_input = open('2022-12-05_input').read()\n",
    "real_start, real_moves =  real_input.split('\\n\\n')"
   ]
  },
  {
   "cell_type": "code",
   "execution_count": 43,
   "id": "faae6646",
   "metadata": {},
   "outputs": [
    {
     "name": "stdout",
     "output_type": "stream",
     "text": [
      "LBLVVTVLP\n"
     ]
    }
   ],
   "source": [
    "start_lines = real_start.split('\\n')\n",
    "\n",
    "stacks = [[] for i in range(len(start_lines[-1].split()))]\n",
    "for line in start_lines[:-1]:    \n",
    "    for i in range(len(stacks)):\n",
    "        if line[4 * i + 1] is not ' ':\n",
    "            stacks[i].append(line[4 * i + 1])\n",
    "\n",
    "for line in real_moves.split('\\n'):\n",
    "    if not line:\n",
    "        continue\n",
    "    _, number, _, start, _, end = line.split()\n",
    "    number = int(number)\n",
    "    start = int(start) - 1\n",
    "    end = int(end) - 1\n",
    "    for i in range(number):\n",
    "            to_be_moved = stacks[start][0]\n",
    "            stacks[start] = stacks[start][1:]\n",
    "            stacks[end] = [to_be_moved] + stacks[end]\n",
    "        \n",
    "print(''.join([stack[0] for stack in stacks]))    "
   ]
  },
  {
   "cell_type": "code",
   "execution_count": 45,
   "id": "863b9598",
   "metadata": {},
   "outputs": [
    {
     "name": "stdout",
     "output_type": "stream",
     "text": [
      "[[], [], []]\n",
      "[['N', 'Z'], ['D', 'C', 'M'], ['P']]\n",
      "1 1 0\n",
      "[['D', 'N', 'Z'], ['C', 'M'], ['P']]\n",
      "3 0 2\n",
      "[[], ['C', 'M'], ['D', 'N', 'Z', 'P']]\n",
      "2 1 0\n",
      "[['C', 'M'], [], ['D', 'N', 'Z', 'P']]\n",
      "1 0 1\n",
      "[['M'], ['C'], ['D', 'N', 'Z', 'P']]\n",
      "MCD\n"
     ]
    }
   ],
   "source": [
    "# part 2\n",
    "test_start_lines = test_start.split('\\n')\n",
    "\n",
    "stacks = [[] for i in range(len(test_start_lines[-1].split()))]\n",
    "print(stacks)\n",
    "\n",
    "for line in test_start_lines[:-1]:    \n",
    "    for i in range(len(stacks)):\n",
    "        if line[4 * i + 1] is not ' ':\n",
    "            stacks[i].append(line[4 * i + 1])\n",
    "\n",
    "print(stacks)\n",
    "\n",
    "for line in test_moves.split('\\n'):\n",
    "    _, number, _, start, _, end = line.split()\n",
    "    number = int(number)\n",
    "    start = int(start) - 1\n",
    "    end = int(end) - 1\n",
    "    print(number, start, end)\n",
    "    \n",
    "    to_be_moved = stacks[start][:number]\n",
    "    stacks[start] = stacks[start][number:]\n",
    "    stacks[end] = to_be_moved + stacks[end]    \n",
    "\n",
    "\n",
    "    print(stacks)\n",
    "        \n",
    "print(''.join([stack[0] for stack in stacks]))    "
   ]
  },
  {
   "cell_type": "code",
   "execution_count": 47,
   "id": "bebccd5d",
   "metadata": {},
   "outputs": [
    {
     "name": "stdout",
     "output_type": "stream",
     "text": [
      "TPFFBDRJD\n"
     ]
    }
   ],
   "source": [
    "start_lines = real_start.split('\\n')\n",
    "\n",
    "stacks = [[] for i in range(len(start_lines[-1].split()))]\n",
    "for line in start_lines[:-1]:    \n",
    "    for i in range(len(stacks)):\n",
    "        if line[4 * i + 1] is not ' ':\n",
    "            stacks[i].append(line[4 * i + 1])\n",
    "\n",
    "for line in real_moves.split('\\n'):\n",
    "    if not line:\n",
    "        continue\n",
    "    _, number, _, start, _, end = line.split()\n",
    "    number = int(number)\n",
    "    start = int(start) - 1\n",
    "    end = int(end) - 1\n",
    "    to_be_moved = stacks[start][:number]\n",
    "    stacks[start] = stacks[start][number:]\n",
    "    stacks[end] = to_be_moved + stacks[end] \n",
    "        \n",
    "print(''.join([stack[0] for stack in stacks]))    "
   ]
  },
  {
   "cell_type": "code",
   "execution_count": null,
   "id": "3c849fbd",
   "metadata": {},
   "outputs": [],
   "source": []
  }
 ],
 "metadata": {
  "kernelspec": {
   "display_name": "Python 3",
   "language": "python",
   "name": "python3"
  },
  "language_info": {
   "codemirror_mode": {
    "name": "ipython",
    "version": 3
   },
   "file_extension": ".py",
   "mimetype": "text/x-python",
   "name": "python",
   "nbconvert_exporter": "python",
   "pygments_lexer": "ipython3",
   "version": "3.7.9"
  }
 },
 "nbformat": 4,
 "nbformat_minor": 5
}
