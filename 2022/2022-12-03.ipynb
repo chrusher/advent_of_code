{
 "cells": [
  {
   "cell_type": "code",
   "execution_count": 3,
   "id": "d1b96874",
   "metadata": {},
   "outputs": [],
   "source": [
    "test = '''vJrwpWtwJgWrhcsFMMfFFhFp\n",
    "jqHRNqRjqzjGDLGLrsFMfFZSrLrFZsSL\n",
    "PmmdzqPrVvPwwTWBwg\n",
    "wMqvLMZHhHMvwLHjbvcjnnSBnvTQFn\n",
    "ttgJtRGJQctTZtZT\n",
    "CrZsJsPPZsGzwwsLwLmpwMDw'''"
   ]
  },
  {
   "cell_type": "code",
   "execution_count": 4,
   "id": "0f210f0a",
   "metadata": {},
   "outputs": [
    {
     "name": "stdout",
     "output_type": "stream",
     "text": [
      "p 112 16\n",
      "L 76 38\n",
      "P 80 42\n",
      "v 118 22\n",
      "t 116 20\n",
      "s 115 19\n",
      "157\n"
     ]
    }
   ],
   "source": [
    "\n",
    "def number(letter):\n",
    "    \n",
    "    order = ord(letter)\n",
    "    if order >= ord('a'):\n",
    "        return order - ord('a') + 1\n",
    "    else:\n",
    "        return order - ord('A') + 27\n",
    "\n",
    "total = 0\n",
    "for line in test.split('\\n'):\n",
    "    line = line.strip('\\n')\n",
    "    \n",
    "    first = list(line[:len(line) // 2])\n",
    "    second = list(line[len(line) // 2:])\n",
    "    union = set(first) & set(second)\n",
    "    repeat = union.pop()\n",
    "#     print(first)\n",
    "    print(repeat, ord(repeat), number(repeat))\n",
    "    total += number(repeat)\n",
    "print(total)"
   ]
  },
  {
   "cell_type": "code",
   "execution_count": 5,
   "id": "bca088d6",
   "metadata": {},
   "outputs": [
    {
     "name": "stdout",
     "output_type": "stream",
     "text": [
      "7568\n"
     ]
    }
   ],
   "source": [
    "total = 0\n",
    "for line in open('2022-12-03_input').readlines():\n",
    "    line = line.strip('\\n')\n",
    "    \n",
    "    first = list(line[:len(line) // 2])\n",
    "    second = list(line[len(line) // 2:])\n",
    "    union = set(first) & set(second)\n",
    "    repeat = union.pop()\n",
    "    total += number(repeat)\n",
    "print(total)"
   ]
  },
  {
   "cell_type": "code",
   "execution_count": 6,
   "id": "1ad812bb",
   "metadata": {},
   "outputs": [
    {
     "name": "stdout",
     "output_type": "stream",
     "text": [
      "r\n",
      "Z\n",
      "70\n"
     ]
    }
   ],
   "source": [
    "total = 0\n",
    "lines = test.split('\\n')\n",
    "for i in range(0, len(lines), 3):\n",
    "    union = set(lines[i]) & set(lines[i + 1]) & set(lines[i + 2])\n",
    "    repeat = union.pop()\n",
    "    print(repeat)\n",
    "    total += number(repeat)\n",
    "print(total)"
   ]
  },
  {
   "cell_type": "code",
   "execution_count": 7,
   "id": "eab12e4e",
   "metadata": {
    "scrolled": false
   },
   "outputs": [
    {
     "name": "stdout",
     "output_type": "stream",
     "text": [
      "2780\n"
     ]
    }
   ],
   "source": [
    "total = 0\n",
    "lines = open('2022-12-03_input').readlines()\n",
    "for i in range(0, len(lines), 3):\n",
    "    union = set(lines[i]) & set(lines[i + 1]) & set(lines[i + 2])\n",
    "    union.remove('\\n')\n",
    "    repeat = union.pop()\n",
    "    total += number(repeat)\n",
    "print(total)"
   ]
  },
  {
   "cell_type": "code",
   "execution_count": null,
   "id": "9da4ffd9",
   "metadata": {},
   "outputs": [],
   "source": []
  }
 ],
 "metadata": {
  "kernelspec": {
   "display_name": "Python 3",
   "language": "python",
   "name": "python3"
  },
  "language_info": {
   "codemirror_mode": {
    "name": "ipython",
    "version": 3
   },
   "file_extension": ".py",
   "mimetype": "text/x-python",
   "name": "python",
   "nbconvert_exporter": "python",
   "pygments_lexer": "ipython3",
   "version": "3.7.9"
  }
 },
 "nbformat": 4,
 "nbformat_minor": 5
}
