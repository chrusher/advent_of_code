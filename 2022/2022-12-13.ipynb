{
 "cells": [
  {
   "cell_type": "code",
   "execution_count": 131,
   "id": "edb1d5fc",
   "metadata": {},
   "outputs": [],
   "source": [
    "import functools"
   ]
  },
  {
   "cell_type": "code",
   "execution_count": 1,
   "id": "47d8b305",
   "metadata": {},
   "outputs": [],
   "source": [
    "test_input = '''[1,1,3,1,1]\n",
    "[1,1,5,1,1]\n",
    "\n",
    "[[1],[2,3,4]]\n",
    "[[1],4]\n",
    "\n",
    "[9]\n",
    "[[8,7,6]]\n",
    "\n",
    "[[4,4],4,4]\n",
    "[[4,4],4,4,4]\n",
    "\n",
    "[7,7,7,7]\n",
    "[7,7,7]\n",
    "\n",
    "[]\n",
    "[3]\n",
    "\n",
    "[[[]]]\n",
    "[[]]\n",
    "\n",
    "[1,[2,[3,[4,[5,6,7]]]],8,9]\n",
    "[1,[2,[3,[4,[5,6,0]]]],8,9]'''"
   ]
  },
  {
   "cell_type": "code",
   "execution_count": 124,
   "id": "f3e74b42",
   "metadata": {},
   "outputs": [],
   "source": [
    "def compare(left, right):\n",
    "    \n",
    "        if left < right:\n",
    "            return -1\n",
    "        elif left > right:\n",
    "            return 1\n",
    "        else:\n",
    "            return 0\n",
    "\n",
    "\n",
    "def compare_lists(left, right):    \n",
    "    for i in range(max(len(left), len(right))):      \n",
    "        if i >= len(right):\n",
    "            return 1\n",
    "        if i >= len(left):\n",
    "            return -1\n",
    "\n",
    "        is_left = isinstance(left[i], int)\n",
    "        is_right = isinstance(right[i], int)  \n",
    "        if is_left and is_right:\n",
    "            comparison = compare(left[i], right[i])\n",
    "        elif is_left:\n",
    "            comparison = compare_lists([left[i]], right[i])\n",
    "        elif is_right:\n",
    "            comparison = compare_lists(left[i], [right[i]])\n",
    "        else:\n",
    "            comparison = compare_lists(left[i], right[i])\n",
    "            \n",
    "        if comparison:\n",
    "            return comparison\n",
    "        \n",
    "    return 0"
   ]
  },
  {
   "cell_type": "code",
   "execution_count": 118,
   "id": "ce00a665",
   "metadata": {},
   "outputs": [
    {
     "data": {
      "text/plain": [
       "(-1, 0, 1)"
      ]
     },
     "execution_count": 118,
     "metadata": {},
     "output_type": "execute_result"
    }
   ],
   "source": [
    "compare(1, 3), compare(1, 1), compare(3, 1)"
   ]
  },
  {
   "cell_type": "code",
   "execution_count": 116,
   "id": "1f7114ba",
   "metadata": {},
   "outputs": [
    {
     "data": {
      "text/plain": [
       "0"
      ]
     },
     "execution_count": 116,
     "metadata": {},
     "output_type": "execute_result"
    }
   ],
   "source": [
    "compare_lists([[1], [2, 3, 4]], [[1], 4])"
   ]
  },
  {
   "cell_type": "code",
   "execution_count": 128,
   "id": "6a87de8c",
   "metadata": {},
   "outputs": [
    {
     "name": "stdout",
     "output_type": "stream",
     "text": [
      "[1, 1, 3, 1, 1] [1, 1, 5, 1, 1]\n",
      "1 -1\n",
      "[[1], [2, 3, 4]] [[1], 4]\n",
      "2 -1\n",
      "[9] [[8, 7, 6]]\n",
      "3 1\n",
      "[[4, 4], 4, 4] [[4, 4], 4, 4, 4]\n",
      "4 -1\n",
      "[7, 7, 7, 7] [7, 7, 7]\n",
      "5 1\n",
      "[] [3]\n",
      "6 -1\n",
      "[[[]]] [[]]\n",
      "7 1\n",
      "[1, [2, [3, [4, [5, 6, 7]]]], 8, 9] [1, [2, [3, [4, [5, 6, 0]]]], 8, 9]\n",
      "8 1\n",
      "13\n"
     ]
    }
   ],
   "source": [
    "#part 1\n",
    "pairs = test_input.split('\\n\\n')\n",
    "\n",
    "total = 0\n",
    "\n",
    "for i in range(len(pairs)):\n",
    "    pair = pairs[i]\n",
    "    index = i + 1\n",
    "    \n",
    "    first, second = pair.split('\\n')\n",
    "    first = eval(first)\n",
    "    second = eval(second)\n",
    "    \n",
    "    print(first, second)\n",
    "    print(index, compare_lists(first, second))\n",
    "    \n",
    "    if compare_lists(first, second) == -1:\n",
    "        total += index\n",
    "        \n",
    "print(total)"
   ]
  },
  {
   "cell_type": "code",
   "execution_count": 127,
   "id": "b29dd0d2",
   "metadata": {},
   "outputs": [
    {
     "name": "stdout",
     "output_type": "stream",
     "text": [
      "5196\n"
     ]
    }
   ],
   "source": [
    "full_input = open('2022-12-13_input').read()\n",
    "pairs = full_input.split('\\n\\n')\n",
    "\n",
    "total = 0\n",
    "\n",
    "for i in range(len(pairs)):\n",
    "    pair = pairs[i]\n",
    "    index = i + 1\n",
    "    \n",
    "    first, second = pair.strip().split('\\n')\n",
    "    first = eval(first)\n",
    "    second = eval(second)\n",
    "    \n",
    "    if compare_lists(first, second) == -1:\n",
    "        total += index\n",
    "        \n",
    "print(total)"
   ]
  },
  {
   "cell_type": "code",
   "execution_count": 137,
   "id": "39f1d0da",
   "metadata": {},
   "outputs": [
    {
     "name": "stdout",
     "output_type": "stream",
     "text": [
      "[[1, 1, 3, 1, 1], [1, 1, 5, 1, 1], [[1], [2, 3, 4]], [[1], 4], [9], [[8, 7, 6]], [[4, 4], 4, 4], [[4, 4], 4, 4, 4], [7, 7, 7, 7], [7, 7, 7], [], [3], [[[]]], [[]], [1, [2, [3, [4, [5, 6, 7]]]], 8, 9], [1, [2, [3, [4, [5, 6, 0]]]], 8, 9], [[2]], [[6]]]\n",
      "[[], [[]], [[[]]], [1, 1, 3, 1, 1], [1, 1, 5, 1, 1], [[1], [2, 3, 4]], [1, [2, [3, [4, [5, 6, 0]]]], 8, 9], [1, [2, [3, [4, [5, 6, 7]]]], 8, 9], [[1], 4], [[2]], [3], [[4, 4], 4, 4], [[4, 4], 4, 4, 4], [[6]], [7, 7, 7], [7, 7, 7, 7], [[8, 7, 6]], [9]]\n",
      "140\n"
     ]
    }
   ],
   "source": [
    "#part two\n",
    "\n",
    "packets = []\n",
    "for line in test_input.split('\\n'):\n",
    "    if line:\n",
    "        packets.append(eval(line))\n",
    "        \n",
    "packets.append([[2]])\n",
    "packets.append([[6]])\n",
    "\n",
    "print(packets)\n",
    "\n",
    "packets.sort(key=functools.cmp_to_key(compare_lists))\n",
    "\n",
    "print(packets)\n",
    "\n",
    "print((packets.index([[2]]) + 1) * (packets.index([[6]]) + 1))"
   ]
  },
  {
   "cell_type": "code",
   "execution_count": 138,
   "id": "35b54a31",
   "metadata": {},
   "outputs": [
    {
     "name": "stdout",
     "output_type": "stream",
     "text": [
      "22134\n"
     ]
    }
   ],
   "source": [
    "packets = []\n",
    "for line in open('2022-12-13_input').read().split('\\n'):\n",
    "    if line:\n",
    "        packets.append(eval(line))\n",
    "        \n",
    "packets.append([[2]])\n",
    "packets.append([[6]])\n",
    "\n",
    "packets.sort(key=functools.cmp_to_key(compare_lists))\n",
    "print((packets.index([[2]]) + 1) * (packets.index([[6]]) + 1))"
   ]
  },
  {
   "cell_type": "code",
   "execution_count": null,
   "id": "757a79ab",
   "metadata": {},
   "outputs": [],
   "source": []
  }
 ],
 "metadata": {
  "kernelspec": {
   "display_name": "Python 3",
   "language": "python",
   "name": "python3"
  },
  "language_info": {
   "codemirror_mode": {
    "name": "ipython",
    "version": 3
   },
   "file_extension": ".py",
   "mimetype": "text/x-python",
   "name": "python",
   "nbconvert_exporter": "python",
   "pygments_lexer": "ipython3",
   "version": "3.7.9"
  }
 },
 "nbformat": 4,
 "nbformat_minor": 5
}
