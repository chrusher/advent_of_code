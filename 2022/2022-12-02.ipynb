{
 "cells": [
  {
   "cell_type": "code",
   "execution_count": 1,
   "id": "b293d124",
   "metadata": {},
   "outputs": [],
   "source": [
    "test_input = \"\"\"A Y\n",
    "B X\n",
    "C Z\"\"\""
   ]
  },
  {
   "cell_type": "code",
   "execution_count": 10,
   "id": "7930892b",
   "metadata": {},
   "outputs": [],
   "source": [
    "# part 1\n",
    "mapping = {'X':'A', 'Y':'B', 'Z':'C'}\n",
    "winning = {'A':{'A':3, 'B':0, 'C':6}, 'B':{'A':6, 'B':3, 'C':0}, 'C':{'A':0, 'B':6, 'C':3}}\n",
    "shape_score = {'A':1, 'B':2, 'C':3}"
   ]
  },
  {
   "cell_type": "code",
   "execution_count": 14,
   "id": "5296820f",
   "metadata": {},
   "outputs": [
    {
     "name": "stdout",
     "output_type": "stream",
     "text": [
      "A Y 6 2 8\n",
      "B X 0 1 1\n",
      "C Z 3 3 6\n",
      "15\n"
     ]
    }
   ],
   "source": [
    "total = 0\n",
    "for line in test_input.split('\\n'):\n",
    "    you = mapping[line[2]]\n",
    "    them = line[0]\n",
    "    total += winning[you][them] + shape_score[you]\n",
    "    print(line, winning[you][them], shape_score[you], winning[you][them] + shape_score[you])\n",
    "    \n",
    "print(total)"
   ]
  },
  {
   "cell_type": "code",
   "execution_count": 15,
   "id": "c9c0e5a6",
   "metadata": {},
   "outputs": [
    {
     "name": "stdout",
     "output_type": "stream",
     "text": [
      "13221\n"
     ]
    }
   ],
   "source": [
    "total = 0\n",
    "for line in open('2022-12-02_input').readlines():\n",
    "    line = line.strip()\n",
    "    you = mapping[line[2]]\n",
    "    them = line[0]\n",
    "    total += winning[you][them] + shape_score[you]\n",
    "#     print(line, winning[you][them], shape_score[you], winning[you][them] + shape_score[you])\n",
    "    \n",
    "print(total)"
   ]
  },
  {
   "cell_type": "code",
   "execution_count": 20,
   "id": "279704dd",
   "metadata": {},
   "outputs": [
    {
     "name": "stdout",
     "output_type": "stream",
     "text": [
      "A Y 3 A A\n",
      "4\n",
      "B X 0 B A\n",
      "1\n",
      "C Z 6 C A\n",
      "7\n",
      "12\n"
     ]
    }
   ],
   "source": [
    "# part 2\n",
    "mapping = {'X':0, 'Y':3, 'Z':6}\n",
    "winning = {0:{'A':'C', 'B':'A', 'C':'B'}, 3:{'A':'A', 'B':'B', 'C':'C'}, 6:{'A':'B', 'B':'C', 'C':'A'}}\n",
    "\n",
    "total = 0\n",
    "for line in test_input.split('\\n'):\n",
    "    score = int(mapping[line[2]])\n",
    "    them = line[0]\n",
    "    you = winning[score][them]\n",
    "    print(line, score, them, you)\n",
    "    score += shape_score[you]\n",
    "    total += score\n",
    "    print(score)\n",
    "print(total)"
   ]
  },
  {
   "cell_type": "code",
   "execution_count": 21,
   "id": "53d7c80c",
   "metadata": {},
   "outputs": [
    {
     "name": "stdout",
     "output_type": "stream",
     "text": [
      "13131\n"
     ]
    }
   ],
   "source": [
    "total = 0\n",
    "for line in open('2022-12-02_input').readlines():\n",
    "    line = line.strip()\n",
    "    score = int(mapping[line[2]])\n",
    "    them = line[0]\n",
    "    you = winning[score][them]\n",
    "    score += shape_score[you]\n",
    "    total += score  \n",
    "print(total)"
   ]
  },
  {
   "cell_type": "code",
   "execution_count": null,
   "id": "9a1bfabb",
   "metadata": {},
   "outputs": [],
   "source": []
  }
 ],
 "metadata": {
  "kernelspec": {
   "display_name": "Python 3",
   "language": "python",
   "name": "python3"
  },
  "language_info": {
   "codemirror_mode": {
    "name": "ipython",
    "version": 3
   },
   "file_extension": ".py",
   "mimetype": "text/x-python",
   "name": "python",
   "nbconvert_exporter": "python",
   "pygments_lexer": "ipython3",
   "version": "3.7.9"
  }
 },
 "nbformat": 4,
 "nbformat_minor": 5
}
