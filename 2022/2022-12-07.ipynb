{
 "cells": [
  {
   "cell_type": "code",
   "execution_count": 2,
   "id": "70ececad",
   "metadata": {},
   "outputs": [],
   "source": [
    "test_input = '''$ cd /\n",
    "$ ls\n",
    "dir a\n",
    "14848514 b.txt\n",
    "8504156 c.dat\n",
    "dir d\n",
    "$ cd a\n",
    "$ ls\n",
    "dir e\n",
    "29116 f\n",
    "2557 g\n",
    "62596 h.lst\n",
    "$ cd e\n",
    "$ ls\n",
    "584 i\n",
    "$ cd ..\n",
    "$ cd ..\n",
    "$ cd d\n",
    "$ ls\n",
    "4060174 j\n",
    "8033020 d.log\n",
    "5626152 d.ext\n",
    "7214296 k'''\n",
    "test_lines = test_input.split('\\n')"
   ]
  },
  {
   "cell_type": "code",
   "execution_count": 3,
   "id": "7522af6e",
   "metadata": {},
   "outputs": [],
   "source": [
    "lines = [line.strip('\\n') for line in open('2022-12-07_input').readlines()]"
   ]
  },
  {
   "cell_type": "code",
   "execution_count": 40,
   "id": "36cbcd22",
   "metadata": {},
   "outputs": [
    {
     "name": "stdout",
     "output_type": "stream",
     "text": [
      "\n",
      " -48381165\n",
      "a -94853\n",
      "b.txt 14848514\n",
      "c.dat 8504156\n",
      "d -24933642\n",
      "e -584\n",
      "f 29116\n",
      "g 2557\n",
      "h.lst 62596\n",
      "i 584\n",
      "j 4060174\n",
      "d.log 8033020\n",
      "d.ext 5626152\n",
      "k 7214296\n",
      "95437\n"
     ]
    }
   ],
   "source": [
    "# part 1\n",
    "\n",
    "root = {'':0}\n",
    "cwd = ''\n",
    "for line in test_lines[1:]:\n",
    "#     print(line, cwd)\n",
    "#     print(line)\n",
    "#     print(root)\n",
    "    if line == '$ ls':\n",
    "        None\n",
    "    elif 'dir' == line[:3]:\n",
    "        name = line.split()[-1]\n",
    "        root[cwd + '/' + name] = 0\n",
    "    elif line == '$ cd ..':\n",
    "        size = root[cwd]\n",
    "        cwd = '/'.join(cwd.split('/')[:-1])\n",
    "        root[cwd] += size\n",
    "    elif '$ cd' == line[:4]:\n",
    "        name = line.split()[-1]\n",
    "        cwd = cwd + '/' + name\n",
    "    else:\n",
    "        size, name = line.split()\n",
    "        root[cwd + '/' + name] = int(size)\n",
    "        root[cwd] += -int(size)\n",
    "\n",
    "#     print(cwd)\n",
    "#     print(root)\n",
    "        \n",
    "while cwd:\n",
    "    size = root[cwd]\n",
    "    cwd = '/'.join(cwd.split('/')[:-1])\n",
    "    root[cwd] += size    \n",
    "    \n",
    "        \n",
    "print(cwd)\n",
    "\n",
    "total = 0\n",
    "for path in root:\n",
    "    \n",
    "    print(path.split('/')[-1], root[path])\n",
    "    if -100000 < root[path] < 0:\n",
    "        total += -root[path]\n",
    "        \n",
    "print(total)\n",
    "test_root = root"
   ]
  },
  {
   "cell_type": "code",
   "execution_count": 47,
   "id": "2960b53c",
   "metadata": {},
   "outputs": [
    {
     "name": "stdout",
     "output_type": "stream",
     "text": [
      "1491614\n"
     ]
    }
   ],
   "source": [
    "root = {'':0}\n",
    "cwd = ''\n",
    "for line in lines[1:]:\n",
    "    if line == '$ ls':\n",
    "        None\n",
    "    elif 'dir' == line[:3]:\n",
    "        name = line.split()[-1]\n",
    "        root[cwd + '/' + name] = 0\n",
    "    elif line == '$ cd ..':\n",
    "        size = root[cwd]\n",
    "        cwd = '/'.join(cwd.split('/')[:-1])\n",
    "        root[cwd] += size\n",
    "    elif '$ cd' == line[:4]:\n",
    "        name = line.split()[-1]\n",
    "        cwd = cwd + '/' + name\n",
    "    else:\n",
    "        size, name = line.split()\n",
    "        root[cwd + '/' + name] = int(size)\n",
    "        root[cwd] += -int(size)\n",
    "        \n",
    "while cwd:\n",
    "    size = root[cwd]\n",
    "    cwd = '/'.join(cwd.split('/')[:-1])\n",
    "    root[cwd] += size    \n",
    "\n",
    "total = 0\n",
    "for path in root:\n",
    "    if -100000 < root[path] < 0:\n",
    "        total += -root[path]\n",
    "        \n",
    "print(total)"
   ]
  },
  {
   "cell_type": "code",
   "execution_count": 46,
   "id": "b44041fc",
   "metadata": {},
   "outputs": [
    {
     "name": "stdout",
     "output_type": "stream",
     "text": [
      "8381165\n",
      "/d -24933642\n",
      "/d 24933642\n"
     ]
    }
   ],
   "source": [
    "# part 2\n",
    "\n",
    "total = 70000000\n",
    "# print(total + test_root[''])\n",
    "required = 30000000 - (total + test_root[''])\n",
    "print(required)\n",
    "\n",
    "smallest_size = test_root['']\n",
    "smallest_name = ''\n",
    "for path in test_root:\n",
    "    if smallest < test_root[path] < -required:\n",
    "        smallest_size = root[path]\n",
    "        smallest_name = path\n",
    "        print(path, root[path])\n",
    "        \n",
    "print(smallest_name, -smallest_size)"
   ]
  },
  {
   "cell_type": "code",
   "execution_count": 48,
   "id": "46934c64",
   "metadata": {},
   "outputs": [
    {
     "name": "stdout",
     "output_type": "stream",
     "text": [
      "/gwlwp/fwdwq/qbnfrhdn/fwdwq/qzgsswr 6400111\n"
     ]
    }
   ],
   "source": [
    "total = 70000000\n",
    "required = 30000000 - (total + root[''])\n",
    "\n",
    "smallest_size = root['']\n",
    "smallest_name = ''\n",
    "for path in root:\n",
    "    if smallest < root[path] < -required:\n",
    "        smallest_size = root[path]\n",
    "        smallest_name = path\n",
    "        \n",
    "print(smallest_name, -smallest_size)"
   ]
  },
  {
   "cell_type": "code",
   "execution_count": null,
   "id": "fa7df2a4",
   "metadata": {},
   "outputs": [],
   "source": []
  }
 ],
 "metadata": {
  "kernelspec": {
   "display_name": "Python 3",
   "language": "python",
   "name": "python3"
  },
  "language_info": {
   "codemirror_mode": {
    "name": "ipython",
    "version": 3
   },
   "file_extension": ".py",
   "mimetype": "text/x-python",
   "name": "python",
   "nbconvert_exporter": "python",
   "pygments_lexer": "ipython3",
   "version": "3.7.9"
  }
 },
 "nbformat": 4,
 "nbformat_minor": 5
}
